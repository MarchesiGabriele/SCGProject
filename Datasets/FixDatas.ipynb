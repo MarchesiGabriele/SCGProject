{
 "cells": [
  {
   "cell_type": "code",
   "execution_count": 2,
   "metadata": {},
   "outputs": [],
   "source": [
    "# %%capture\n",
    "# !pip install -U pandasql\n",
    "import numpy as np\n",
    "import pandas as pd\n",
    "from matplotlib import pyplot as plt\n",
    "import seaborn as sns\n",
    "import altair as alt\n",
    "import os\n",
    "#import xlrd\n"
   ]
  },
  {
   "cell_type": "markdown",
   "metadata": {},
   "source": [
    "# Clienti"
   ]
  },
  {
   "cell_type": "code",
   "execution_count": 3,
   "metadata": {},
   "outputs": [
    {
     "data": {
      "text/html": [
       "<div>\n",
       "<style scoped>\n",
       "    .dataframe tbody tr th:only-of-type {\n",
       "        vertical-align: middle;\n",
       "    }\n",
       "\n",
       "    .dataframe tbody tr th {\n",
       "        vertical-align: top;\n",
       "    }\n",
       "\n",
       "    .dataframe thead th {\n",
       "        text-align: right;\n",
       "    }\n",
       "</style>\n",
       "<table border=\"1\" class=\"dataframe\">\n",
       "  <thead>\n",
       "    <tr style=\"text-align: right;\">\n",
       "      <th></th>\n",
       "      <th>Nr</th>\n",
       "      <th>CodCondizioniPagam</th>\n",
       "      <th>Fatt. cumulative</th>\n",
       "      <th>Valuta</th>\n",
       "    </tr>\n",
       "  </thead>\n",
       "  <tbody>\n",
       "    <tr>\n",
       "      <th>0</th>\n",
       "      <td>C00001</td>\n",
       "      <td>101</td>\n",
       "      <td>False</td>\n",
       "      <td>1</td>\n",
       "    </tr>\n",
       "    <tr>\n",
       "      <th>1</th>\n",
       "      <td>C00003</td>\n",
       "      <td>102</td>\n",
       "      <td>False</td>\n",
       "      <td>2</td>\n",
       "    </tr>\n",
       "    <tr>\n",
       "      <th>2</th>\n",
       "      <td>C00004</td>\n",
       "      <td>102</td>\n",
       "      <td>False</td>\n",
       "      <td>3</td>\n",
       "    </tr>\n",
       "    <tr>\n",
       "      <th>3</th>\n",
       "      <td>C00005</td>\n",
       "      <td>112</td>\n",
       "      <td>False</td>\n",
       "      <td>1</td>\n",
       "    </tr>\n",
       "    <tr>\n",
       "      <th>4</th>\n",
       "      <td>C00006</td>\n",
       "      <td>101</td>\n",
       "      <td>False</td>\n",
       "      <td>2</td>\n",
       "    </tr>\n",
       "  </tbody>\n",
       "</table>\n",
       "</div>"
      ],
      "text/plain": [
       "       Nr  CodCondizioniPagam  Fatt. cumulative  Valuta\n",
       "0  C00001                 101             False       1\n",
       "1  C00003                 102             False       2\n",
       "2  C00004                 102             False       3\n",
       "3  C00005                 112             False       1\n",
       "4  C00006                 101             False       2"
      ]
     },
     "execution_count": 3,
     "metadata": {},
     "output_type": "execute_result"
    }
   ],
   "source": [
    "dfClienti = pd.read_excel('RawDatasets/Clienti.xlsx')\n",
    "\n",
    "dfClienti.to_csv('dfClienti.csv')\n",
    "\n",
    "dfClienti.head()"
   ]
  },
  {
   "cell_type": "code",
   "execution_count": 4,
   "metadata": {},
   "outputs": [
    {
     "data": {
      "text/html": [
       "<div>\n",
       "<style scoped>\n",
       "    .dataframe tbody tr th:only-of-type {\n",
       "        vertical-align: middle;\n",
       "    }\n",
       "\n",
       "    .dataframe tbody tr th {\n",
       "        vertical-align: top;\n",
       "    }\n",
       "\n",
       "    .dataframe thead th {\n",
       "        text-align: right;\n",
       "    }\n",
       "</style>\n",
       "<table border=\"1\" class=\"dataframe\">\n",
       "  <thead>\n",
       "    <tr style=\"text-align: right;\">\n",
       "      <th></th>\n",
       "      <th>Nr</th>\n",
       "      <th>CodCondizioniPagam</th>\n",
       "      <th>Fatt. cumulative</th>\n",
       "      <th>Valuta</th>\n",
       "      <th>Valuta</th>\n",
       "    </tr>\n",
       "  </thead>\n",
       "  <tbody>\n",
       "    <tr>\n",
       "      <th>0</th>\n",
       "      <td>C00001</td>\n",
       "      <td>101</td>\n",
       "      <td>False</td>\n",
       "      <td>1</td>\n",
       "      <td>Euro</td>\n",
       "    </tr>\n",
       "    <tr>\n",
       "      <th>3</th>\n",
       "      <td>C00005</td>\n",
       "      <td>112</td>\n",
       "      <td>False</td>\n",
       "      <td>1</td>\n",
       "      <td>Euro</td>\n",
       "    </tr>\n",
       "    <tr>\n",
       "      <th>6</th>\n",
       "      <td>C00008</td>\n",
       "      <td>101</td>\n",
       "      <td>False</td>\n",
       "      <td>1</td>\n",
       "      <td>Euro</td>\n",
       "    </tr>\n",
       "    <tr>\n",
       "      <th>9</th>\n",
       "      <td>C00011</td>\n",
       "      <td>101</td>\n",
       "      <td>False</td>\n",
       "      <td>1</td>\n",
       "      <td>Euro</td>\n",
       "    </tr>\n",
       "    <tr>\n",
       "      <th>12</th>\n",
       "      <td>C00017</td>\n",
       "      <td>101</td>\n",
       "      <td>False</td>\n",
       "      <td>1</td>\n",
       "      <td>Euro</td>\n",
       "    </tr>\n",
       "  </tbody>\n",
       "</table>\n",
       "</div>"
      ],
      "text/plain": [
       "        Nr  CodCondizioniPagam  Fatt. cumulative Valuta Valuta\n",
       "0   C00001                 101             False      1   Euro\n",
       "3   C00005                 112             False      1   Euro\n",
       "6   C00008                 101             False      1   Euro\n",
       "9   C00011                 101             False      1   Euro\n",
       "12  C00017                 101             False      1   Euro"
      ]
     },
     "execution_count": 4,
     "metadata": {},
     "output_type": "execute_result"
    }
   ],
   "source": [
    "#1: Euro\n",
    "indice1 = dfClienti.loc[dfClienti.Valuta == 1, :]\n",
    "\n",
    "indice1.insert(loc=4, column='Valuta',\n",
    "               value='Euro', allow_duplicates=True)\n",
    "\n",
    "#2: Dollaro\n",
    "indice2 = dfClienti.loc[dfClienti.Valuta == 2, :]\n",
    "\n",
    "indice2.insert(loc=4, column='Valuta',\n",
    "               value='Dollaro', allow_duplicates=True)\n",
    "\n",
    "\n",
    "#3: Yen\n",
    "indice3 = dfClienti.loc[dfClienti.Valuta == 3, :]\n",
    "\n",
    "indice3.insert(loc=4, column='Valuta',\n",
    "               value='Dollaro', allow_duplicates=True)\n",
    "\n",
    "#Unione delle sottotabelle\n",
    "union = pd.concat([indice1, indice2, indice3])\n",
    "\n",
    "union.to_csv('dfClienti.csv')\n",
    "\n",
    "union.head()"
   ]
  },
  {
   "cell_type": "code",
   "execution_count": 77,
   "metadata": {},
   "outputs": [
    {
     "data": {
      "image/png": "[encoded data removed]",
      "text/plain": [
       "<Figure size 432x288 with 1 Axes>"
      ]
     },
     "metadata": {
      "needs_background": "light"
     },
     "output_type": "display_data"
    }
   ],
   "source": [
    "sns.histplot(union.Valuta)\n",
    "plt.savefig('Valuta.jpeg')"
   ]
  },
  {
   "cell_type": "markdown",
   "metadata": {},
   "source": [
    "# Consumi"
   ]
  },
  {
   "cell_type": "code",
   "execution_count": 5,
   "metadata": {},
   "outputs": [
    {
     "data": {
      "text/html": [
       "<div>\n",
       "<style scoped>\n",
       "    .dataframe tbody tr th:only-of-type {\n",
       "        vertical-align: middle;\n",
       "    }\n",
       "\n",
       "    .dataframe tbody tr th {\n",
       "        vertical-align: top;\n",
       "    }\n",
       "\n",
       "    .dataframe thead th {\n",
       "        text-align: right;\n",
       "    }\n",
       "</style>\n",
       "<table border=\"1\" class=\"dataframe\">\n",
       "  <thead>\n",
       "    <tr style=\"text-align: right;\">\n",
       "      <th></th>\n",
       "      <th>NrMovimento</th>\n",
       "      <th>Budget/cons</th>\n",
       "      <th>CodiceMP</th>\n",
       "      <th>NrArticolo</th>\n",
       "      <th>NrDocumento</th>\n",
       "      <th>QuantityMPImpiegata</th>\n",
       "      <th>ImportoCostoTOTALE</th>\n",
       "    </tr>\n",
       "  </thead>\n",
       "  <tbody>\n",
       "    <tr>\n",
       "      <th>0</th>\n",
       "      <td>21684</td>\n",
       "      <td>BUDGET</td>\n",
       "      <td>ART0001929</td>\n",
       "      <td>ART0000788</td>\n",
       "      <td>ODP16-16812</td>\n",
       "      <td>1.0</td>\n",
       "      <td>126.01</td>\n",
       "    </tr>\n",
       "    <tr>\n",
       "      <th>1</th>\n",
       "      <td>21685</td>\n",
       "      <td>BUDGET</td>\n",
       "      <td>ART0001820</td>\n",
       "      <td>ART0000788</td>\n",
       "      <td>ODP16-16812</td>\n",
       "      <td>1.0</td>\n",
       "      <td>52.71</td>\n",
       "    </tr>\n",
       "    <tr>\n",
       "      <th>2</th>\n",
       "      <td>21686</td>\n",
       "      <td>BUDGET</td>\n",
       "      <td>ART0005137</td>\n",
       "      <td>ART0000788</td>\n",
       "      <td>ODP16-16812</td>\n",
       "      <td>1.0</td>\n",
       "      <td>0.00</td>\n",
       "    </tr>\n",
       "    <tr>\n",
       "      <th>3</th>\n",
       "      <td>21687</td>\n",
       "      <td>BUDGET</td>\n",
       "      <td>ART0005138</td>\n",
       "      <td>ART0000788</td>\n",
       "      <td>ODP16-16812</td>\n",
       "      <td>1.0</td>\n",
       "      <td>0.00</td>\n",
       "    </tr>\n",
       "    <tr>\n",
       "      <th>4</th>\n",
       "      <td>21688</td>\n",
       "      <td>BUDGET</td>\n",
       "      <td>ART0005139</td>\n",
       "      <td>ART0000788</td>\n",
       "      <td>ODP16-16812</td>\n",
       "      <td>1.0</td>\n",
       "      <td>0.32</td>\n",
       "    </tr>\n",
       "  </tbody>\n",
       "</table>\n",
       "</div>"
      ],
      "text/plain": [
       "   NrMovimento Budget/cons    CodiceMP  NrArticolo  NrDocumento  \\\n",
       "0        21684      BUDGET  ART0001929  ART0000788  ODP16-16812   \n",
       "1        21685      BUDGET  ART0001820  ART0000788  ODP16-16812   \n",
       "2        21686      BUDGET  ART0005137  ART0000788  ODP16-16812   \n",
       "3        21687      BUDGET  ART0005138  ART0000788  ODP16-16812   \n",
       "4        21688      BUDGET  ART0005139  ART0000788  ODP16-16812   \n",
       "\n",
       "   QuantityMPImpiegata  ImportoCostoTOTALE  \n",
       "0                  1.0              126.01  \n",
       "1                  1.0               52.71  \n",
       "2                  1.0                0.00  \n",
       "3                  1.0                0.00  \n",
       "4                  1.0                0.32  "
      ]
     },
     "execution_count": 5,
     "metadata": {},
     "output_type": "execute_result"
    }
   ],
   "source": [
    "dfConsumi = pd.read_excel('RawDatasets/Consumi.xlsx')\n",
    "\n",
    "del dfConsumi[\"TipoMovimento\"]\n",
    "del dfConsumi[\"TipoOrigine\"]\n",
    "\n",
    "dfConsumi.to_csv('dfConsumi.csv')\n",
    "\n",
    "dfConsumi.head()"
   ]
  },
  {
   "cell_type": "code",
   "execution_count": 79,
   "metadata": {},
   "outputs": [
    {
     "data": {
      "image/png": "[encoded data removed]",
      "text/plain": [
       "<Figure size 432x288 with 1 Axes>"
      ]
     },
     "metadata": {
      "needs_background": "light"
     },
     "output_type": "display_data"
    }
   ],
   "source": [
    "sns.histplot(dfConsumi.ImportoCostoTOTALE)\n",
    "plt.savefig('ConsumiCostoTotale.jpeg')"
   ]
  },
  {
   "cell_type": "markdown",
   "metadata": {},
   "source": [
    "# Costo orario risorse - budget"
   ]
  },
  {
   "cell_type": "code",
   "execution_count": 6,
   "metadata": {},
   "outputs": [
    {
     "data": {
      "text/html": [
       "<div>\n",
       "<style scoped>\n",
       "    .dataframe tbody tr th:only-of-type {\n",
       "        vertical-align: middle;\n",
       "    }\n",
       "\n",
       "    .dataframe tbody tr th {\n",
       "        vertical-align: top;\n",
       "    }\n",
       "\n",
       "    .dataframe thead th {\n",
       "        text-align: right;\n",
       "    }\n",
       "</style>\n",
       "<table border=\"1\" class=\"dataframe\">\n",
       "  <thead>\n",
       "    <tr style=\"text-align: right;\">\n",
       "      <th></th>\n",
       "      <th>Risorsa</th>\n",
       "      <th>AreaProduzione</th>\n",
       "      <th>CostoOrario</th>\n",
       "    </tr>\n",
       "  </thead>\n",
       "  <tbody>\n",
       "    <tr>\n",
       "      <th>0</th>\n",
       "      <td>RIS1</td>\n",
       "      <td>A10</td>\n",
       "      <td>51.0</td>\n",
       "    </tr>\n",
       "    <tr>\n",
       "      <th>1</th>\n",
       "      <td>RIS1</td>\n",
       "      <td>A11</td>\n",
       "      <td>51.0</td>\n",
       "    </tr>\n",
       "    <tr>\n",
       "      <th>2</th>\n",
       "      <td>RIS1</td>\n",
       "      <td>A20</td>\n",
       "      <td>68.0</td>\n",
       "    </tr>\n",
       "    <tr>\n",
       "      <th>3</th>\n",
       "      <td>RIS1</td>\n",
       "      <td>A30</td>\n",
       "      <td>68.0</td>\n",
       "    </tr>\n",
       "    <tr>\n",
       "      <th>4</th>\n",
       "      <td>RIS1</td>\n",
       "      <td>A32</td>\n",
       "      <td>51.0</td>\n",
       "    </tr>\n",
       "  </tbody>\n",
       "</table>\n",
       "</div>"
      ],
      "text/plain": [
       "  Risorsa AreaProduzione  CostoOrario\n",
       "0    RIS1            A10         51.0\n",
       "1    RIS1            A11         51.0\n",
       "2    RIS1            A20         68.0\n",
       "3    RIS1            A30         68.0\n",
       "4    RIS1            A32         51.0"
      ]
     },
     "execution_count": 6,
     "metadata": {},
     "output_type": "execute_result"
    }
   ],
   "source": [
    "dfCostoOrario = pd.read_excel('RawDatasets/Costo orario risorse - budget.xlsx')\n",
    "\n",
    "dfCostoOrario.to_csv('dfCostoOrario.csv')\n",
    "\n",
    "dfCostoOrario.head()"
   ]
  },
  {
   "cell_type": "code",
   "execution_count": 82,
   "metadata": {},
   "outputs": [
    {
     "data": {
      "image/png": "[encoded data removed]",
      "text/plain": [
       "<Figure size 432x288 with 1 Axes>"
      ]
     },
     "metadata": {
      "needs_background": "light"
     },
     "output_type": "display_data"
    }
   ],
   "source": [
    "#Istogramma del costo orario\n",
    "sns.histplot(dfCostoOrario.CostoOrario)\n",
    "plt.savefig('CostoOrario.jpeg')"
   ]
  },
  {
   "cell_type": "code",
   "execution_count": 7,
   "metadata": {},
   "outputs": [
    {
     "data": {
      "text/html": [
       "<div>\n",
       "<style scoped>\n",
       "    .dataframe tbody tr th:only-of-type {\n",
       "        vertical-align: middle;\n",
       "    }\n",
       "\n",
       "    .dataframe tbody tr th {\n",
       "        vertical-align: top;\n",
       "    }\n",
       "\n",
       "    .dataframe thead th {\n",
       "        text-align: right;\n",
       "    }\n",
       "</style>\n",
       "<table border=\"1\" class=\"dataframe\">\n",
       "  <thead>\n",
       "    <tr style=\"text-align: right;\">\n",
       "      <th></th>\n",
       "      <th>Nr</th>\n",
       "      <th>CodCondizioniPagam</th>\n",
       "      <th>Fatt. cumulative</th>\n",
       "      <th>Valuta</th>\n",
       "    </tr>\n",
       "  </thead>\n",
       "  <tbody>\n",
       "    <tr>\n",
       "      <th>0</th>\n",
       "      <td>C00001</td>\n",
       "      <td>101</td>\n",
       "      <td>False</td>\n",
       "      <td>1</td>\n",
       "    </tr>\n",
       "    <tr>\n",
       "      <th>1</th>\n",
       "      <td>C00003</td>\n",
       "      <td>102</td>\n",
       "      <td>False</td>\n",
       "      <td>2</td>\n",
       "    </tr>\n",
       "    <tr>\n",
       "      <th>2</th>\n",
       "      <td>C00004</td>\n",
       "      <td>102</td>\n",
       "      <td>False</td>\n",
       "      <td>3</td>\n",
       "    </tr>\n",
       "    <tr>\n",
       "      <th>3</th>\n",
       "      <td>C00005</td>\n",
       "      <td>112</td>\n",
       "      <td>False</td>\n",
       "      <td>1</td>\n",
       "    </tr>\n",
       "    <tr>\n",
       "      <th>4</th>\n",
       "      <td>C00006</td>\n",
       "      <td>101</td>\n",
       "      <td>False</td>\n",
       "      <td>2</td>\n",
       "    </tr>\n",
       "  </tbody>\n",
       "</table>\n",
       "</div>"
      ],
      "text/plain": [
       "       Nr  CodCondizioniPagam  Fatt. cumulative  Valuta\n",
       "0  C00001                 101             False       1\n",
       "1  C00003                 102             False       2\n",
       "2  C00004                 102             False       3\n",
       "3  C00005                 112             False       1\n",
       "4  C00006                 101             False       2"
      ]
     },
     "execution_count": 7,
     "metadata": {},
     "output_type": "execute_result"
    }
   ],
   "source": [
    "dfClienti = pd.read_excel('RawDatasets/Clienti.xlsx')\n",
    "\n",
    "dfClienti.to_csv('dfClienti.csv')\n",
    "\n",
    "dfClienti.head()\n"
   ]
  },
  {
   "cell_type": "code",
   "execution_count": 84,
   "metadata": {},
   "outputs": [
    {
     "data": {
      "image/png": "[encoded data removed]",
      "text/plain": [
       "<Figure size 432x288 with 1 Axes>"
      ]
     },
     "metadata": {
      "needs_background": "light"
     },
     "output_type": "display_data"
    }
   ],
   "source": [
    "#Istogramma dell'area di produzione\n",
    "sns.histplot(dfCostoOrario.AreaProduzione)\n",
    "plt.savefig('CostoOrarioAreaProduzione.jpeg')\n"
   ]
  },
  {
   "cell_type": "markdown",
   "metadata": {},
   "source": [
    "# Costo orario risorse - consuntivo"
   ]
  },
  {
   "cell_type": "code",
   "execution_count": 8,
   "metadata": {},
   "outputs": [
    {
     "data": {
      "text/html": [
       "<div>\n",
       "<style scoped>\n",
       "    .dataframe tbody tr th:only-of-type {\n",
       "        vertical-align: middle;\n",
       "    }\n",
       "\n",
       "    .dataframe tbody tr th {\n",
       "        vertical-align: top;\n",
       "    }\n",
       "\n",
       "    .dataframe thead th {\n",
       "        text-align: right;\n",
       "    }\n",
       "</style>\n",
       "<table border=\"1\" class=\"dataframe\">\n",
       "  <thead>\n",
       "    <tr style=\"text-align: right;\">\n",
       "      <th></th>\n",
       "      <th>Risorsa</th>\n",
       "      <th>AreaProduzione</th>\n",
       "      <th>CostoOrario</th>\n",
       "    </tr>\n",
       "  </thead>\n",
       "  <tbody>\n",
       "    <tr>\n",
       "      <th>0</th>\n",
       "      <td>RIS1</td>\n",
       "      <td>A10</td>\n",
       "      <td>60</td>\n",
       "    </tr>\n",
       "    <tr>\n",
       "      <th>1</th>\n",
       "      <td>RIS1</td>\n",
       "      <td>A11</td>\n",
       "      <td>60</td>\n",
       "    </tr>\n",
       "    <tr>\n",
       "      <th>2</th>\n",
       "      <td>RIS1</td>\n",
       "      <td>A20</td>\n",
       "      <td>80</td>\n",
       "    </tr>\n",
       "    <tr>\n",
       "      <th>3</th>\n",
       "      <td>RIS1</td>\n",
       "      <td>A30</td>\n",
       "      <td>80</td>\n",
       "    </tr>\n",
       "    <tr>\n",
       "      <th>4</th>\n",
       "      <td>RIS1</td>\n",
       "      <td>A32</td>\n",
       "      <td>60</td>\n",
       "    </tr>\n",
       "  </tbody>\n",
       "</table>\n",
       "</div>"
      ],
      "text/plain": [
       "  Risorsa AreaProduzione  CostoOrario\n",
       "0    RIS1            A10           60\n",
       "1    RIS1            A11           60\n",
       "2    RIS1            A20           80\n",
       "3    RIS1            A30           80\n",
       "4    RIS1            A32           60"
      ]
     },
     "execution_count": 8,
     "metadata": {},
     "output_type": "execute_result"
    }
   ],
   "source": [
    "dfConsuntivo = pd.read_excel(\n",
    "    'RawDatasets/Costo orario risorse - consuntivo.xlsx')\n",
    "\n",
    "dfConsuntivo.to_csv('dfConsuntivo.csv')\n",
    "\n",
    "dfConsuntivo.head()"
   ]
  },
  {
   "cell_type": "code",
   "execution_count": 86,
   "metadata": {},
   "outputs": [
    {
     "data": {
      "image/png": "[encoded data removed]",
      "text/plain": [
       "<Figure size 432x288 with 1 Axes>"
      ]
     },
     "metadata": {
      "needs_background": "light"
     },
     "output_type": "display_data"
    }
   ],
   "source": [
    "sns.histplot(dfConsuntivo.CostoOrario)\n",
    "plt.savefig('ConsuntivoCostoOrario.jpeg')\n"
   ]
  },
  {
   "cell_type": "code",
   "execution_count": 87,
   "metadata": {},
   "outputs": [
    {
     "data": {
      "image/png": "[encoded data removed]",
      "text/plain": [
       "<Figure size 432x288 with 1 Axes>"
      ]
     },
     "metadata": {
      "needs_background": "light"
     },
     "output_type": "display_data"
    }
   ],
   "source": [
    "sns.histplot(dfConsuntivo.AreaProduzione)\n",
    "plt.savefig('ConsuntivoAreaProduzione.jpeg')\n"
   ]
  },
  {
   "cell_type": "markdown",
   "metadata": {},
   "source": [
    "# Impiego orario risorse"
   ]
  },
  {
   "cell_type": "code",
   "execution_count": 9,
   "metadata": {},
   "outputs": [
    {
     "data": {
      "text/html": [
       "<div>\n",
       "<style scoped>\n",
       "    .dataframe tbody tr th:only-of-type {\n",
       "        vertical-align: middle;\n",
       "    }\n",
       "\n",
       "    .dataframe tbody tr th {\n",
       "        vertical-align: top;\n",
       "    }\n",
       "\n",
       "    .dataframe thead th {\n",
       "        text-align: right;\n",
       "    }\n",
       "</style>\n",
       "<table border=\"1\" class=\"dataframe\">\n",
       "  <thead>\n",
       "    <tr style=\"text-align: right;\">\n",
       "      <th></th>\n",
       "      <th>nrArticolo</th>\n",
       "      <th>budgetConsuntivo</th>\n",
       "      <th>NrOrdineDiProduzione</th>\n",
       "      <th>Descrizione</th>\n",
       "      <th>NrAreaProduzione</th>\n",
       "      <th>Risorsa</th>\n",
       "      <th>TempoRisorsa</th>\n",
       "      <th>QuantityOutput</th>\n",
       "    </tr>\n",
       "  </thead>\n",
       "  <tbody>\n",
       "    <tr>\n",
       "      <th>0</th>\n",
       "      <td>ART0000788</td>\n",
       "      <td>BUDGET</td>\n",
       "      <td>ODP16-16812</td>\n",
       "      <td>Montaggio</td>\n",
       "      <td>A40</td>\n",
       "      <td>RIS4</td>\n",
       "      <td>0.25</td>\n",
       "      <td>1.0</td>\n",
       "    </tr>\n",
       "    <tr>\n",
       "      <th>1</th>\n",
       "      <td>ART0000756</td>\n",
       "      <td>BUDGET</td>\n",
       "      <td>ODP16-15232</td>\n",
       "      <td>Montaggio</td>\n",
       "      <td>A40</td>\n",
       "      <td>RIS4</td>\n",
       "      <td>1.00</td>\n",
       "      <td>2.0</td>\n",
       "    </tr>\n",
       "    <tr>\n",
       "      <th>2</th>\n",
       "      <td>ART0000772</td>\n",
       "      <td>BUDGET</td>\n",
       "      <td>ODP16-15712</td>\n",
       "      <td>Montaggio</td>\n",
       "      <td>A40</td>\n",
       "      <td>RIS4</td>\n",
       "      <td>1.25</td>\n",
       "      <td>1.0</td>\n",
       "    </tr>\n",
       "    <tr>\n",
       "      <th>3</th>\n",
       "      <td>ART0000762</td>\n",
       "      <td>BUDGET</td>\n",
       "      <td>ODP16-14704</td>\n",
       "      <td>Montaggio</td>\n",
       "      <td>A40</td>\n",
       "      <td>RIS4</td>\n",
       "      <td>3.00</td>\n",
       "      <td>10.0</td>\n",
       "    </tr>\n",
       "    <tr>\n",
       "      <th>4</th>\n",
       "      <td>ART0000762</td>\n",
       "      <td>BUDGET</td>\n",
       "      <td>ODP16-14704</td>\n",
       "      <td>Controllo qualità</td>\n",
       "      <td>CQ</td>\n",
       "      <td>RIS16</td>\n",
       "      <td>0.00</td>\n",
       "      <td>10.0</td>\n",
       "    </tr>\n",
       "  </tbody>\n",
       "</table>\n",
       "</div>"
      ],
      "text/plain": [
       "   nrArticolo budgetConsuntivo NrOrdineDiProduzione        Descrizione  \\\n",
       "0  ART0000788           BUDGET          ODP16-16812          Montaggio   \n",
       "1  ART0000756           BUDGET          ODP16-15232          Montaggio   \n",
       "2  ART0000772           BUDGET          ODP16-15712          Montaggio   \n",
       "3  ART0000762           BUDGET          ODP16-14704          Montaggio   \n",
       "4  ART0000762           BUDGET          ODP16-14704  Controllo qualità   \n",
       "\n",
       "  NrAreaProduzione Risorsa  TempoRisorsa  QuantityOutput  \n",
       "0              A40    RIS4          0.25             1.0  \n",
       "1              A40    RIS4          1.00             2.0  \n",
       "2              A40    RIS4          1.25             1.0  \n",
       "3              A40    RIS4          3.00            10.0  \n",
       "4               CQ   RIS16          0.00            10.0  "
      ]
     },
     "execution_count": 9,
     "metadata": {},
     "output_type": "execute_result"
    }
   ],
   "source": [
    "dfImpiegoRisorse = pd.read_excel('RawDatasets/Impiego orario risorse.xlsx')\n",
    "\n",
    "dfImpiegoRisorse.to_csv('dfImpiegoRisorse.csv')\n",
    "\n",
    "dfImpiegoRisorse.head()"
   ]
  },
  {
   "cell_type": "code",
   "execution_count": 89,
   "metadata": {},
   "outputs": [
    {
     "data": {
      "image/png": "[encoded data removed]",
      "text/plain": [
       "<Figure size 432x288 with 1 Axes>"
      ]
     },
     "metadata": {
      "needs_background": "light"
     },
     "output_type": "display_data"
    }
   ],
   "source": [
    "sns.histplot(dfImpiegoRisorse.QuantityOutput)\n",
    "plt.savefig('ImpiegoRisorseOutput.jpeg')\n"
   ]
  },
  {
   "cell_type": "code",
   "execution_count": 90,
   "metadata": {},
   "outputs": [
    {
     "data": {
      "image/png": "[encoded data removed]",
      "text/plain": [
       "<Figure size 432x288 with 1 Axes>"
      ]
     },
     "metadata": {
      "needs_background": "light"
     },
     "output_type": "display_data"
    }
   ],
   "source": [
    "sns.histplot(dfImpiegoRisorse.Descrizione)\n",
    "plt.savefig('ImpiegoRisorseDescrizione.jpeg')\n"
   ]
  },
  {
   "cell_type": "code",
   "execution_count": 91,
   "metadata": {},
   "outputs": [
    {
     "data": {
      "text/plain": [
       "<AxesSubplot:xlabel='TempoRisorsa', ylabel='Count'>"
      ]
     },
     "execution_count": 91,
     "metadata": {},
     "output_type": "execute_result"
    },
    {
     "data": {
      "image/png": "[encoded data removed]",
      "text/plain": [
       "<Figure size 432x288 with 1 Axes>"
      ]
     },
     "metadata": {
      "needs_background": "light"
     },
     "output_type": "display_data"
    }
   ],
   "source": [
    "sns.histplot(dfImpiegoRisorse.TempoRisorsa)\n"
   ]
  },
  {
   "cell_type": "markdown",
   "metadata": {},
   "source": [
    "# Tassi di cambio"
   ]
  },
  {
   "cell_type": "code",
   "execution_count": 10,
   "metadata": {},
   "outputs": [
    {
     "data": {
      "text/html": [
       "<div>\n",
       "<style scoped>\n",
       "    .dataframe tbody tr th:only-of-type {\n",
       "        vertical-align: middle;\n",
       "    }\n",
       "\n",
       "    .dataframe tbody tr th {\n",
       "        vertical-align: top;\n",
       "    }\n",
       "\n",
       "    .dataframe thead th {\n",
       "        text-align: right;\n",
       "    }\n",
       "</style>\n",
       "<table border=\"1\" class=\"dataframe\">\n",
       "  <thead>\n",
       "    <tr style=\"text-align: right;\">\n",
       "      <th></th>\n",
       "      <th>CodiceValuta</th>\n",
       "      <th>Anno</th>\n",
       "      <th>TassoDiCambioMedio</th>\n",
       "    </tr>\n",
       "  </thead>\n",
       "  <tbody>\n",
       "    <tr>\n",
       "      <th>0</th>\n",
       "      <td>1</td>\n",
       "      <td>BUDGET</td>\n",
       "      <td>1.0000</td>\n",
       "    </tr>\n",
       "    <tr>\n",
       "      <th>1</th>\n",
       "      <td>2</td>\n",
       "      <td>BUDGET</td>\n",
       "      <td>1.0541</td>\n",
       "    </tr>\n",
       "    <tr>\n",
       "      <th>2</th>\n",
       "      <td>3</td>\n",
       "      <td>BUDGET</td>\n",
       "      <td>123.4000</td>\n",
       "    </tr>\n",
       "    <tr>\n",
       "      <th>3</th>\n",
       "      <td>1</td>\n",
       "      <td>CONSUNTIVO</td>\n",
       "      <td>1.0000</td>\n",
       "    </tr>\n",
       "    <tr>\n",
       "      <th>4</th>\n",
       "      <td>2</td>\n",
       "      <td>CONSUNTIVO</td>\n",
       "      <td>1.1993</td>\n",
       "    </tr>\n",
       "  </tbody>\n",
       "</table>\n",
       "</div>"
      ],
      "text/plain": [
       "   CodiceValuta        Anno  TassoDiCambioMedio\n",
       "0             1      BUDGET              1.0000\n",
       "1             2      BUDGET              1.0541\n",
       "2             3      BUDGET            123.4000\n",
       "3             1  CONSUNTIVO              1.0000\n",
       "4             2  CONSUNTIVO              1.1993"
      ]
     },
     "execution_count": 10,
     "metadata": {},
     "output_type": "execute_result"
    }
   ],
   "source": [
    "dfCambio = pd.read_excel('RawDatasets/Tassi di cambio.xlsx')\n",
    "\n",
    "dfCambio.to_csv('dfCambio.csv')\n",
    "\n",
    "dfCambio.head()\n"
   ]
  },
  {
   "cell_type": "code",
   "execution_count": 93,
   "metadata": {},
   "outputs": [
    {
     "data": {
      "text/plain": [
       "<AxesSubplot:xlabel='TassoDiCambioMedio', ylabel='Count'>"
      ]
     },
     "execution_count": 93,
     "metadata": {},
     "output_type": "execute_result"
    },
    {
     "data": {
      "image/png": "[encoded data removed]",
      "text/plain": [
       "<Figure size 432x288 with 1 Axes>"
      ]
     },
     "metadata": {
      "needs_background": "light"
     },
     "output_type": "display_data"
    }
   ],
   "source": [
    "sns.histplot(dfCambio.TassoDiCambioMedio)"
   ]
  },
  {
   "cell_type": "markdown",
   "metadata": {},
   "source": [
    "# Vendite"
   ]
  },
  {
   "cell_type": "code",
   "execution_count": 11,
   "metadata": {},
   "outputs": [
    {
     "data": {
      "text/html": [
       "<div>\n",
       "<style scoped>\n",
       "    .dataframe tbody tr th:only-of-type {\n",
       "        vertical-align: middle;\n",
       "    }\n",
       "\n",
       "    .dataframe tbody tr th {\n",
       "        vertical-align: top;\n",
       "    }\n",
       "\n",
       "    .dataframe thead th {\n",
       "        text-align: right;\n",
       "    }\n",
       "</style>\n",
       "<table border=\"1\" class=\"dataframe\">\n",
       "  <thead>\n",
       "    <tr style=\"text-align: right;\">\n",
       "      <th></th>\n",
       "      <th>NrMovimento</th>\n",
       "      <th>budget/cons</th>\n",
       "      <th>NrArticolo</th>\n",
       "      <th>NrOrigine</th>\n",
       "      <th>Quantity</th>\n",
       "      <th>ImportoVenditaInValutaLocaleTOTALEVENDITA</th>\n",
       "    </tr>\n",
       "  </thead>\n",
       "  <tbody>\n",
       "    <tr>\n",
       "      <th>0</th>\n",
       "      <td>21621</td>\n",
       "      <td>BUDGET</td>\n",
       "      <td>ART0001433</td>\n",
       "      <td>C00140</td>\n",
       "      <td>4</td>\n",
       "      <td>18.80</td>\n",
       "    </tr>\n",
       "    <tr>\n",
       "      <th>1</th>\n",
       "      <td>21629</td>\n",
       "      <td>BUDGET</td>\n",
       "      <td>ART0001610</td>\n",
       "      <td>C00140</td>\n",
       "      <td>12</td>\n",
       "      <td>145.28</td>\n",
       "    </tr>\n",
       "    <tr>\n",
       "      <th>2</th>\n",
       "      <td>21631</td>\n",
       "      <td>BUDGET</td>\n",
       "      <td>ART0003269</td>\n",
       "      <td>C00140</td>\n",
       "      <td>24</td>\n",
       "      <td>933.99</td>\n",
       "    </tr>\n",
       "    <tr>\n",
       "      <th>3</th>\n",
       "      <td>21633</td>\n",
       "      <td>BUDGET</td>\n",
       "      <td>ART0002249</td>\n",
       "      <td>C00140</td>\n",
       "      <td>1</td>\n",
       "      <td>36.33</td>\n",
       "    </tr>\n",
       "    <tr>\n",
       "      <th>4</th>\n",
       "      <td>21634</td>\n",
       "      <td>BUDGET</td>\n",
       "      <td>ART0002370</td>\n",
       "      <td>C00140</td>\n",
       "      <td>1</td>\n",
       "      <td>65.72</td>\n",
       "    </tr>\n",
       "  </tbody>\n",
       "</table>\n",
       "</div>"
      ],
      "text/plain": [
       "   NrMovimento budget/cons  NrArticolo NrOrigine  Quantity  \\\n",
       "0        21621      BUDGET  ART0001433    C00140         4   \n",
       "1        21629      BUDGET  ART0001610    C00140        12   \n",
       "2        21631      BUDGET  ART0003269    C00140        24   \n",
       "3        21633      BUDGET  ART0002249    C00140         1   \n",
       "4        21634      BUDGET  ART0002370    C00140         1   \n",
       "\n",
       "   ImportoVenditaInValutaLocaleTOTALEVENDITA  \n",
       "0                                      18.80  \n",
       "1                                     145.28  \n",
       "2                                     933.99  \n",
       "3                                      36.33  \n",
       "4                                      65.72  "
      ]
     },
     "execution_count": 11,
     "metadata": {},
     "output_type": "execute_result"
    }
   ],
   "source": [
    "dfVendite = pd.read_excel('RawDatasets/Vendite.xlsx')\n",
    "\n",
    "del dfVendite[\"TipoMovimento\"]\n",
    "del dfVendite[\"TipoOrigine\"]\n",
    "\n",
    "dfVendite.to_csv('dfVendite.csv')\n",
    "\n",
    "dfVendite.head()\n"
   ]
  },
  {
   "cell_type": "code",
   "execution_count": 95,
   "metadata": {},
   "outputs": [
    {
     "data": {
      "text/plain": [
       "<AxesSubplot:xlabel='ImportoVenditaInValutaLocaleTOTALEVENDITA', ylabel='Count'>"
      ]
     },
     "execution_count": 95,
     "metadata": {},
     "output_type": "execute_result"
    },
    {
     "data": {
      "image/png": "[encoded data removed]",
      "text/plain": [
       "<Figure size 432x288 with 1 Axes>"
      ]
     },
     "metadata": {
      "needs_background": "light"
     },
     "output_type": "display_data"
    }
   ],
   "source": [
    "sns.histplot(dfVendite.ImportoVenditaInValutaLocaleTOTALEVENDITA)\n"
   ]
  }
 ],
 "metadata": {
  "interpreter": {
   "hash": "bf659e58e8660723c4dcccb6ac5406dbe5b90745692f0b41c70aa401a61f45d3"
  },
  "kernelspec": {
   "display_name": "Python 3.8.8 64-bit ('base': conda)",
   "language": "python",
   "name": "python3"
  },
  "language_info": {
   "codemirror_mode": {
    "name": "ipython",
    "version": 3
   },
   "file_extension": ".py",
   "mimetype": "text/x-python",
   "name": "python",
   "nbconvert_exporter": "python",
   "pygments_lexer": "ipython3",
   "version": "3.9.7"
  },
  "orig_nbformat": 4
 },
 "nbformat": 4,
 "nbformat_minor": 2
}
