{
 "cells": [
  {
   "cell_type": "code",
   "execution_count": 17,
   "metadata": {},
   "outputs": [],
   "source": [
    "# %%capture\n",
    "# !pip install -U pandasql\n",
    "import numpy as np\n",
    "import pandas as pd\n",
    "from matplotlib import pyplot as plt\n",
    "import seaborn as sns\n",
    "import altair as alt\n",
    "import xlrd\n",
    "# from pandasql import sqldf\n"
   ]
  },
  {
   "cell_type": "markdown",
   "metadata": {},
   "source": [
    "# Clienti"
   ]
  },
  {
   "cell_type": "code",
   "execution_count": 18,
   "metadata": {},
   "outputs": [
    {
     "name": "stdout",
     "output_type": "stream",
     "text": [
      "        Nr.  Cod. condizioni pagam.  Fatt. cumulative  Valuta\n",
      "0    C00001                     101             False       1\n",
      "1    C00003                     102             False       2\n",
      "2    C00004                     102             False       3\n",
      "3    C00005                     112             False       1\n",
      "4    C00006                     101             False       2\n",
      "..      ...                     ...               ...     ...\n",
      "103  C00512                     100             False       2\n",
      "104  C00513                     101             False       3\n",
      "105  C00514                     101             False       1\n",
      "106  C00515                     101             False       2\n",
      "107  C90001                     101             False       3\n",
      "\n",
      "[108 rows x 4 columns]\n"
     ]
    }
   ],
   "source": [
    "dfClienti = pd.read_excel('Clienti.xlsx')\n",
    "\n",
    "print(dfClienti)"
   ]
  },
  {
   "cell_type": "markdown",
   "metadata": {},
   "source": [
    "# Consumi"
   ]
  },
  {
   "cell_type": "code",
   "execution_count": 19,
   "metadata": {},
   "outputs": [
    {
     "name": "stdout",
     "output_type": "stream",
     "text": [
      "      Nr. movimento Budget/cons Tipo movimento   Codice MP Tipo origine  \\\n",
      "0             21684      BUDGET        Consumo  ART0001929     Articolo   \n",
      "1             21685      BUDGET        Consumo  ART0001820     Articolo   \n",
      "2             21686      BUDGET        Consumo  ART0005137     Articolo   \n",
      "3             21687      BUDGET        Consumo  ART0005138     Articolo   \n",
      "4             21688      BUDGET        Consumo  ART0005139     Articolo   \n",
      "...             ...         ...            ...         ...          ...   \n",
      "4514          67895  CONSUNTIVO        Consumo  ART0005394     Articolo   \n",
      "4515          67896  CONSUNTIVO        Consumo  ART0005394     Articolo   \n",
      "4516          67925  CONSUNTIVO        Consumo  ART0005399     Articolo   \n",
      "4517          67926  CONSUNTIVO        Consumo  ART0005327     Articolo   \n",
      "4518          68013  CONSUNTIVO        Consumo  ART0005922     Articolo   \n",
      "\n",
      "     Nr articolo Nr. documento  Quantità MP impiegata  Importo costo (TOTALE)  \n",
      "0     ART0000788   ODP16-16812                    1.0                  126.01  \n",
      "1     ART0000788   ODP16-16812                    1.0                   52.71  \n",
      "2     ART0000788   ODP16-16812                    1.0                    0.00  \n",
      "3     ART0000788   ODP16-16812                    1.0                    0.00  \n",
      "4     ART0000788   ODP16-16812                    1.0                    0.32  \n",
      "...          ...           ...                    ...                     ...  \n",
      "4514  ART0002962   ODP19-06418                   44.0                   36.68  \n",
      "4515  ART0002963   ODP19-06418                   40.0                   33.35  \n",
      "4516  ART0000889   ODP19-06659                  201.0                    4.99  \n",
      "4517  ART0000889   ODP19-06659                  231.0                   15.65  \n",
      "4518  ART0000891   ODP19-06659                 1050.0                   11.54  \n",
      "\n",
      "[4519 rows x 9 columns]\n"
     ]
    }
   ],
   "source": [
    "dfConsumi = pd.read_excel('Consumi.xlsx')\n",
    "\n",
    "print(dfConsumi)\n"
   ]
  },
  {
   "cell_type": "markdown",
   "metadata": {},
   "source": [
    "# Costo orario risorse - budget"
   ]
  },
  {
   "cell_type": "code",
   "execution_count": 20,
   "metadata": {},
   "outputs": [
    {
     "name": "stdout",
     "output_type": "stream",
     "text": [
      "   Risorsa Area di produzione  Costo orario (€/h)\n",
      "0     RIS1                A10                51.0\n",
      "1     RIS1                A11                51.0\n",
      "2     RIS1                A20                68.0\n",
      "3     RIS1                A30                68.0\n",
      "4     RIS1                A32                51.0\n",
      "..     ...                ...                 ...\n",
      "65    RIS9                A11                42.5\n",
      "66    RIS9                A20                68.0\n",
      "67    RIS9                A30                42.5\n",
      "68    RIS9                A32                42.5\n",
      "69    RIS9                A40                42.5\n",
      "\n",
      "[70 rows x 3 columns]\n"
     ]
    }
   ],
   "source": [
    "dfConsumi = pd.read_excel('Costo orario risorse - budget.xlsx')\n",
    "\n",
    "print(dfConsumi)"
   ]
  },
  {
   "cell_type": "markdown",
   "metadata": {},
   "source": [
    "# Costo orario risorse - consuntivo"
   ]
  },
  {
   "cell_type": "code",
   "execution_count": 21,
   "metadata": {},
   "outputs": [
    {
     "name": "stdout",
     "output_type": "stream",
     "text": [
      "   Risorsa Area di produzione  Costo orario (€/h)\n",
      "0     RIS1                A10                  60\n",
      "1     RIS1                A11                  60\n",
      "2     RIS1                A20                  80\n",
      "3     RIS1                A30                  80\n",
      "4     RIS1                A32                  60\n",
      "..     ...                ...                 ...\n",
      "65    RIS9                A11                  50\n",
      "66    RIS9                A20                  80\n",
      "67    RIS9                A30                  50\n",
      "68    RIS9                A32                  50\n",
      "69    RIS9                A40                  50\n",
      "\n",
      "[70 rows x 3 columns]\n"
     ]
    }
   ],
   "source": [
    "dfConsuntivo = pd.read_excel('Costo orario risorse - consuntivo.xlsx')\n",
    "\n",
    "print(dfConsuntivo)\n"
   ]
  },
  {
   "cell_type": "markdown",
   "metadata": {},
   "source": [
    "# Impiego orario risorse"
   ]
  },
  {
   "cell_type": "code",
   "execution_count": 25,
   "metadata": {},
   "outputs": [
    {
     "name": "stdout",
     "output_type": "stream",
     "text": [
      "     nr articolo budget/consuntivo Nr. Ordine di produzione  \\\n",
      "0     ART0000788            BUDGET              ODP16-16812   \n",
      "1     ART0000756            BUDGET              ODP16-15232   \n",
      "2     ART0000772            BUDGET              ODP16-15712   \n",
      "3     ART0000762            BUDGET              ODP16-14704   \n",
      "4     ART0000762            BUDGET              ODP16-14704   \n",
      "...          ...               ...                      ...   \n",
      "6259  ART0000889        CONSUNTIVO              ODP19-06659   \n",
      "6260  ART0000889        CONSUNTIVO              ODP19-06659   \n",
      "6261  ART0000891        CONSUNTIVO              ODP19-06659   \n",
      "6262  ART0000893        CONSUNTIVO              ODP19-06659   \n",
      "6263  ART0000891        CONSUNTIVO              ODP19-06659   \n",
      "\n",
      "            Descrizione Nr. Area di produzione Risorsa  Tempo risorsa  \\\n",
      "0             Montaggio                    A40    RIS4         0.2500   \n",
      "1             Montaggio                    A40    RIS4         1.0000   \n",
      "2             Montaggio                    A40    RIS4         1.2500   \n",
      "3             Montaggio                    A40    RIS4         3.0000   \n",
      "4     Controllo qualità                     CQ   RIS16         0.0000   \n",
      "...                 ...                    ...     ...            ...   \n",
      "6259          Fresatura                    A30    RIS1         0.0001   \n",
      "6260  Controllo qualità                     CQ   RIS16         0.0000   \n",
      "6261          Fresatura                    A30    RIS1         3.0000   \n",
      "6262  Controllo qualità                     CQ   RIS16         0.0000   \n",
      "6263          Fresatura                    A30    RIS1         4.0000   \n",
      "\n",
      "      Quantità di output  \n",
      "0                    1.0  \n",
      "1                    2.0  \n",
      "2                    1.0  \n",
      "3                   10.0  \n",
      "4                   10.0  \n",
      "...                  ...  \n",
      "6259                 3.0  \n",
      "6260                 3.0  \n",
      "6261                 0.0  \n",
      "6262                 3.0  \n",
      "6263                 6.0  \n",
      "\n",
      "[6264 rows x 8 columns]\n"
     ]
    }
   ],
   "source": [
    "dfImpiegoRisorse = pd.read_excel('Impiego orario risorse.xlsx')\n",
    "\n",
    "print(dfImpiegoRisorse)\n"
   ]
  },
  {
   "cell_type": "markdown",
   "metadata": {},
   "source": [
    "# Tassi di cambio"
   ]
  },
  {
   "cell_type": "code",
   "execution_count": 24,
   "metadata": {},
   "outputs": [
    {
     "name": "stdout",
     "output_type": "stream",
     "text": [
      "   Codice valuta        Anno Tasso di cambio medio\n",
      "0              1      BUDGET                     1\n",
      "1              2      BUDGET                1,0541\n",
      "2              3      BUDGET                 123.4\n",
      "3              1  CONSUNTIVO                     1\n",
      "4              2  CONSUNTIVO                1,1993\n",
      "5              3  CONSUNTIVO                135,01\n"
     ]
    }
   ],
   "source": [
    "dfCambio = pd.read_excel('Tassi di cambio.xlsx')\n",
    "\n",
    "print(dfCambio)\n"
   ]
  },
  {
   "cell_type": "markdown",
   "metadata": {},
   "source": [
    "# Vendite"
   ]
  },
  {
   "cell_type": "code",
   "execution_count": 22,
   "metadata": {},
   "outputs": [
    {
     "name": "stdout",
     "output_type": "stream",
     "text": [
      "      Nr. movimento budget/cons Tipo movimento Nr articolo Tipo origine  \\\n",
      "0             21621      BUDGET        Vendita  ART0001433      Cliente   \n",
      "1             21629      BUDGET        Vendita  ART0001610      Cliente   \n",
      "2             21631      BUDGET        Vendita  ART0003269      Cliente   \n",
      "3             21633      BUDGET        Vendita  ART0002249      Cliente   \n",
      "4             21634      BUDGET        Vendita  ART0002370      Cliente   \n",
      "...             ...         ...            ...         ...          ...   \n",
      "2971          67665  Consuntivo        Vendita  ART0003197      Cliente   \n",
      "2972          67668  Consuntivo        Vendita  ART0002740      Cliente   \n",
      "2973          67669  Consuntivo        Vendita  ART0002450      Cliente   \n",
      "2974          67670  Consuntivo        Vendita  ART0001215      Cliente   \n",
      "2975          67671  Consuntivo        Vendita  ART0002997      Cliente   \n",
      "\n",
      "     Nr. origine  Quantità  Importo vendita in valuta locale (TOTALE VENDITA)  \n",
      "0         C00140         4                                              18.80  \n",
      "1         C00140        12                                             145.28  \n",
      "2         C00140        24                                             933.99  \n",
      "3         C00140         1                                              36.33  \n",
      "4         C00140         1                                              65.72  \n",
      "...          ...       ...                                                ...  \n",
      "2971      C00140         2                                               0.00  \n",
      "2972      C00140        20                                               0.00  \n",
      "2973      C00140         2                                             820.00  \n",
      "2974      C00140         2                                             584.00  \n",
      "2975      C00140         2                                             580.10  \n",
      "\n",
      "[2976 rows x 8 columns]\n"
     ]
    }
   ],
   "source": [
    "dfVendite = pd.read_excel('Vendite.xlsx')\n",
    "\n",
    "print(dfVendite)"
   ]
  }
 ],
 "metadata": {
  "interpreter": {
   "hash": "bf659e58e8660723c4dcccb6ac5406dbe5b90745692f0b41c70aa401a61f45d3"
  },
  "kernelspec": {
   "display_name": "Python 3.8.8 64-bit ('base': conda)",
   "language": "python",
   "name": "python3"
  },
  "language_info": {
   "codemirror_mode": {
    "name": "ipython",
    "version": 3
   },
   "file_extension": ".py",
   "mimetype": "text/x-python",
   "name": "python",
   "nbconvert_exporter": "python",
   "pygments_lexer": "ipython3",
   "version": "3.8.8"
  },
  "orig_nbformat": 4
 },
 "nbformat": 4,
 "nbformat_minor": 2
}
