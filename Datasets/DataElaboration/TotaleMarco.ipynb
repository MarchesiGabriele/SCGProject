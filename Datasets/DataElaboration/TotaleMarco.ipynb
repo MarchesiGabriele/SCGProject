{
 "cells": [
  {
   "cell_type": "markdown",
   "metadata": {},
   "source": [
    "## SETUP + reading tables"
   ]
  },
  {
   "cell_type": "code",
   "execution_count": 423,
   "metadata": {},
   "outputs": [
    {
     "name": "stdout",
     "output_type": "stream",
     "text": [
      "Username:  marcovinciguerra\n"
     ]
    }
   ],
   "source": [
    "import numpy as np\n",
    "import pandas as pd\n",
    "from matplotlib import pyplot as plt\n",
    "import seaborn as sns\n",
    "import altair as alt\n",
    "import os.path\n",
    "import getpass\n",
    "import platform\n",
    "from pandasql import sqldf\n",
    "\n",
    "username = getpass.getuser()\n",
    "\n",
    "print(\"Username: \", username)\n",
    "pathPart1 = \"/Users/\"\n",
    "pathPart2 = \"/Github/SCGProject/Datasets/\"\n",
    "complePath = pathPart1+username+pathPart2\n",
    "\n",
    "if platform.system() == \"Darwin\":\n",
    "    if(username == \"marcovinciguerra\"):\n",
    "        dfCambio = pd.read_csv(\n",
    "            complePath+\"/CorrectedDatasets/dfCambio.csv\")\n",
    "\n",
    "        dfClienti = pd.read_csv(\n",
    "            complePath+\"/CorrectedDatasets/dfClienti.csv\")\n",
    "\n",
    "        dfConsumi = pd.read_csv(\n",
    "            complePath + \"/CorrectedDatasets/dfConsumi.csv\")\n",
    "\n",
    "        dfCostoOrarioConsuntivo = pd.read_csv(\n",
    "            complePath+\"/CorrectedDatasets/dfConsuntivo.csv\")\n",
    "\n",
    "        dfCostoOrarioBudget = pd.read_csv(\n",
    "            complePath+\"CorrectedDatasets/dfCostoOrario.csv\")\n",
    "\n",
    "        dfImpiegoRisorse = pd.read_csv(\n",
    "            complePath+\"/CorrectedDatasets/dfImpiegoRisorse.csv\")\n",
    "\n",
    "        dftuttiClienti = pd.read_csv(\n",
    "            complePath+\"/CorrectedDatasets/dftuttiClienti.csv\")\n",
    "\n",
    "        dfVendite = pd.read_csv(\n",
    "            complePath+\"/CorrectedDatasets/dfVendite.csv\")\n",
    "\n",
    "    elif(username == \"davidguzman\"):\n",
    "        pathPart1 = \"/Users/\"\n",
    "        pathPart2 = \"/documents/Github/SCGProject/Datasets/\"\n",
    "        complePath = pathPart1+username+pathPart2\n",
    "\n",
    "        dfCambio = pd.read_csv(\n",
    "            complePath+\"/CorrectedDatasets/dfCambio.csv\")\n",
    "\n",
    "        dfClienti = pd.read_csv(\n",
    "            complePath+\"/CorrectedDatasets/dfClienti.csv\")\n",
    "\n",
    "        dfConsumi = pd.read_csv(\n",
    "            complePath + \"/CorrectedDatasets/dfConsumi.csv\")\n",
    "\n",
    "        dfCostoOrarioConsuntivo = pd.read_csv(\n",
    "            complePath+\"/CorrectedDatasets/dfConsuntivo.csv\")\n",
    "\n",
    "        dfCostoOrarioBudget = pd.read_csv(\n",
    "            complePath+\"CorrectedDatasets/dfCostoOrario.csv\")\n",
    "\n",
    "        dfImpiegoRisorse = pd.read_csv(\n",
    "            complePath+\"/CorrectedDatasets/dfImpiegoRisorse.csv\")\n",
    "\n",
    "        dftuttiClienti = pd.read_csv(\n",
    "            complePath+\"/CorrectedDatasets/dftuttiClienti.csv\")\n",
    "\n",
    "        dfVendite = pd.read_csv(\n",
    "            complePath+\"/CorrectedDatasets/dfVendite.csv\")\n",
    "\n",
    "elif platform.system() == \"Linux\":\n",
    "    complePath = \"/home/alinux/unibg/git_repo/SCGProject\"\n",
    "    pathPart1 = \"/Users/\"\n",
    "    pathPart2 = \"/documents/Github/SCGProject/Datasets/\"\n",
    "    complePath = pathPart1+username+pathPart2\n",
    "\n",
    "    dfCambio = pd.read_csv(\n",
    "        complePath+\"/CorrectedDatasets/dfCambio.csv\")\n",
    "\n",
    "    dfClienti = pd.read_csv(\n",
    "        complePath+\"/CorrectedDatasets/dfClienti.csv\")\n",
    "\n",
    "    dfConsumi = pd.read_csv(\n",
    "        complePath + \"/CorrectedDatasets/dfConsumi.csv\")\n",
    "\n",
    "    dfCostoOrarioConsuntivo = pd.read_csv(\n",
    "        complePath+\"/CorrectedDatasets/dfConsuntivo.csv\")\n",
    "\n",
    "    dfCostoOrarioBudget = pd.read_csv(\n",
    "        complePath+\"CorrectedDatasets/dfCostoOrario.csv\")\n",
    "\n",
    "    dfImpiegoRisorse = pd.read_csv(\n",
    "        complePath+\"/CorrectedDatasets/dfImpiegoRisorse.csv\")\n",
    "\n",
    "    dftuttiClienti = pd.read_csv(\n",
    "        complePath+\"/CorrectedDatasets/dftuttiClienti.csv\")\n",
    "\n",
    "    dfVendite = pd.read_csv(\n",
    "        complePath+\"/CorrectedDatasets/dfVendite.csv\")\n"
   ]
  },
  {
   "cell_type": "markdown",
   "metadata": {},
   "source": [
    "# Totale dei ricavi considerando anche la valuta locale\n"
   ]
  },
  {
   "cell_type": "code",
   "execution_count": 424,
   "metadata": {},
   "outputs": [
    {
     "data": {
      "text/html": [
       "<div>\n",
       "<style scoped>\n",
       "    .dataframe tbody tr th:only-of-type {\n",
       "        vertical-align: middle;\n",
       "    }\n",
       "\n",
       "    .dataframe tbody tr th {\n",
       "        vertical-align: top;\n",
       "    }\n",
       "\n",
       "    .dataframe thead th {\n",
       "        text-align: right;\n",
       "    }\n",
       "</style>\n",
       "<table border=\"1\" class=\"dataframe\">\n",
       "  <thead>\n",
       "    <tr style=\"text-align: right;\">\n",
       "      <th></th>\n",
       "      <th>Unnamed: 0</th>\n",
       "      <th>NrMovimento</th>\n",
       "      <th>budget/cons</th>\n",
       "      <th>NrArticolo</th>\n",
       "      <th>NrOrigine</th>\n",
       "      <th>Quantity</th>\n",
       "      <th>ImportoVenditaValutaLocaleTOTALEVENDITA</th>\n",
       "    </tr>\n",
       "  </thead>\n",
       "  <tbody>\n",
       "    <tr>\n",
       "      <th>0</th>\n",
       "      <td>0</td>\n",
       "      <td>21621</td>\n",
       "      <td>BUDGET</td>\n",
       "      <td>ART0001433</td>\n",
       "      <td>C00140</td>\n",
       "      <td>4</td>\n",
       "      <td>18.80</td>\n",
       "    </tr>\n",
       "    <tr>\n",
       "      <th>1</th>\n",
       "      <td>1</td>\n",
       "      <td>21629</td>\n",
       "      <td>BUDGET</td>\n",
       "      <td>ART0001610</td>\n",
       "      <td>C00140</td>\n",
       "      <td>12</td>\n",
       "      <td>145.28</td>\n",
       "    </tr>\n",
       "    <tr>\n",
       "      <th>2</th>\n",
       "      <td>2</td>\n",
       "      <td>21631</td>\n",
       "      <td>BUDGET</td>\n",
       "      <td>ART0003269</td>\n",
       "      <td>C00140</td>\n",
       "      <td>24</td>\n",
       "      <td>933.99</td>\n",
       "    </tr>\n",
       "    <tr>\n",
       "      <th>3</th>\n",
       "      <td>3</td>\n",
       "      <td>21633</td>\n",
       "      <td>BUDGET</td>\n",
       "      <td>ART0002249</td>\n",
       "      <td>C00140</td>\n",
       "      <td>1</td>\n",
       "      <td>36.33</td>\n",
       "    </tr>\n",
       "    <tr>\n",
       "      <th>4</th>\n",
       "      <td>4</td>\n",
       "      <td>21634</td>\n",
       "      <td>BUDGET</td>\n",
       "      <td>ART0002370</td>\n",
       "      <td>C00140</td>\n",
       "      <td>1</td>\n",
       "      <td>65.72</td>\n",
       "    </tr>\n",
       "  </tbody>\n",
       "</table>\n",
       "</div>"
      ],
      "text/plain": [
       "   Unnamed: 0  NrMovimento budget/cons  NrArticolo NrOrigine  Quantity  \\\n",
       "0           0        21621      BUDGET  ART0001433    C00140         4   \n",
       "1           1        21629      BUDGET  ART0001610    C00140        12   \n",
       "2           2        21631      BUDGET  ART0003269    C00140        24   \n",
       "3           3        21633      BUDGET  ART0002249    C00140         1   \n",
       "4           4        21634      BUDGET  ART0002370    C00140         1   \n",
       "\n",
       "   ImportoVenditaValutaLocaleTOTALEVENDITA  \n",
       "0                                    18.80  \n",
       "1                                   145.28  \n",
       "2                                   933.99  \n",
       "3                                    36.33  \n",
       "4                                    65.72  "
      ]
     },
     "execution_count": 424,
     "metadata": {},
     "output_type": "execute_result"
    }
   ],
   "source": [
    "# Vendite\n",
    "dfVendite.head()"
   ]
  },
  {
   "cell_type": "code",
   "execution_count": 425,
   "metadata": {},
   "outputs": [
    {
     "data": {
      "text/html": [
       "<div>\n",
       "<style scoped>\n",
       "    .dataframe tbody tr th:only-of-type {\n",
       "        vertical-align: middle;\n",
       "    }\n",
       "\n",
       "    .dataframe tbody tr th {\n",
       "        vertical-align: top;\n",
       "    }\n",
       "\n",
       "    .dataframe thead th {\n",
       "        text-align: right;\n",
       "    }\n",
       "</style>\n",
       "<table border=\"1\" class=\"dataframe\">\n",
       "  <thead>\n",
       "    <tr style=\"text-align: right;\">\n",
       "      <th></th>\n",
       "      <th>Unnamed: 0</th>\n",
       "      <th>CodiceValuta</th>\n",
       "      <th>Anno</th>\n",
       "      <th>TassoCambioMedio</th>\n",
       "    </tr>\n",
       "  </thead>\n",
       "  <tbody>\n",
       "    <tr>\n",
       "      <th>0</th>\n",
       "      <td>0</td>\n",
       "      <td>1</td>\n",
       "      <td>BUDGET</td>\n",
       "      <td>1</td>\n",
       "    </tr>\n",
       "    <tr>\n",
       "      <th>1</th>\n",
       "      <td>1</td>\n",
       "      <td>2</td>\n",
       "      <td>BUDGET</td>\n",
       "      <td>1.0541</td>\n",
       "    </tr>\n",
       "    <tr>\n",
       "      <th>2</th>\n",
       "      <td>2</td>\n",
       "      <td>3</td>\n",
       "      <td>BUDGET</td>\n",
       "      <td>123.4</td>\n",
       "    </tr>\n",
       "    <tr>\n",
       "      <th>3</th>\n",
       "      <td>3</td>\n",
       "      <td>1</td>\n",
       "      <td>CONSUNTIVO</td>\n",
       "      <td>1</td>\n",
       "    </tr>\n",
       "    <tr>\n",
       "      <th>4</th>\n",
       "      <td>4</td>\n",
       "      <td>2</td>\n",
       "      <td>CONSUNTIVO</td>\n",
       "      <td>1.1993</td>\n",
       "    </tr>\n",
       "  </tbody>\n",
       "</table>\n",
       "</div>"
      ],
      "text/plain": [
       "   Unnamed: 0  CodiceValuta        Anno TassoCambioMedio\n",
       "0           0             1      BUDGET                1\n",
       "1           1             2      BUDGET           1.0541\n",
       "2           2             3      BUDGET            123.4\n",
       "3           3             1  CONSUNTIVO                1\n",
       "4           4             2  CONSUNTIVO           1.1993"
      ]
     },
     "execution_count": 425,
     "metadata": {},
     "output_type": "execute_result"
    }
   ],
   "source": [
    "# Valuta locale \n",
    "dfCambio[\"TassoCambioMedio\"] = dfCambio[\"TassoCambioMedio\"].str.replace(',','.')\n",
    "\n",
    "\n",
    "dfCambio.head()\n"
   ]
  },
  {
   "cell_type": "markdown",
   "metadata": {},
   "source": [
    "# Costruzione della tabella con i cammini di join"
   ]
  },
  {
   "cell_type": "code",
   "execution_count": 426,
   "metadata": {},
   "outputs": [
    {
     "data": {
      "text/html": [
       "<div>\n",
       "<style scoped>\n",
       "    .dataframe tbody tr th:only-of-type {\n",
       "        vertical-align: middle;\n",
       "    }\n",
       "\n",
       "    .dataframe tbody tr th {\n",
       "        vertical-align: top;\n",
       "    }\n",
       "\n",
       "    .dataframe thead th {\n",
       "        text-align: right;\n",
       "    }\n",
       "</style>\n",
       "<table border=\"1\" class=\"dataframe\">\n",
       "  <thead>\n",
       "    <tr style=\"text-align: right;\">\n",
       "      <th></th>\n",
       "      <th>Nr</th>\n",
       "      <th>CodCondizioniPagam</th>\n",
       "      <th>FattCumulative</th>\n",
       "      <th>Valuta</th>\n",
       "      <th>budget</th>\n",
       "      <th>NrArticolo</th>\n",
       "      <th>Quantity</th>\n",
       "      <th>ImportoVenditaValutaLocaleTOTALEVENDITA</th>\n",
       "      <th>TassoCambioMedio</th>\n",
       "    </tr>\n",
       "  </thead>\n",
       "  <tbody>\n",
       "    <tr>\n",
       "      <th>0</th>\n",
       "      <td>C00001</td>\n",
       "      <td>101</td>\n",
       "      <td>0</td>\n",
       "      <td>1</td>\n",
       "      <td>BUDGET</td>\n",
       "      <td>ART0000893</td>\n",
       "      <td>2</td>\n",
       "      <td>250.0</td>\n",
       "      <td>1</td>\n",
       "    </tr>\n",
       "    <tr>\n",
       "      <th>1</th>\n",
       "      <td>C00001</td>\n",
       "      <td>101</td>\n",
       "      <td>0</td>\n",
       "      <td>1</td>\n",
       "      <td>BUDGET</td>\n",
       "      <td>ART0005136</td>\n",
       "      <td>1</td>\n",
       "      <td>250.0</td>\n",
       "      <td>1</td>\n",
       "    </tr>\n",
       "    <tr>\n",
       "      <th>2</th>\n",
       "      <td>C00001</td>\n",
       "      <td>101</td>\n",
       "      <td>0</td>\n",
       "      <td>1</td>\n",
       "      <td>BUDGET</td>\n",
       "      <td>ART0000877</td>\n",
       "      <td>4</td>\n",
       "      <td>952.0</td>\n",
       "      <td>1</td>\n",
       "    </tr>\n",
       "    <tr>\n",
       "      <th>3</th>\n",
       "      <td>C00001</td>\n",
       "      <td>101</td>\n",
       "      <td>0</td>\n",
       "      <td>1</td>\n",
       "      <td>BUDGET</td>\n",
       "      <td>ART0000878</td>\n",
       "      <td>4</td>\n",
       "      <td>912.0</td>\n",
       "      <td>1</td>\n",
       "    </tr>\n",
       "    <tr>\n",
       "      <th>4</th>\n",
       "      <td>C00001</td>\n",
       "      <td>101</td>\n",
       "      <td>0</td>\n",
       "      <td>1</td>\n",
       "      <td>BUDGET</td>\n",
       "      <td>ART0000879</td>\n",
       "      <td>4</td>\n",
       "      <td>312.0</td>\n",
       "      <td>1</td>\n",
       "    </tr>\n",
       "  </tbody>\n",
       "</table>\n",
       "</div>"
      ],
      "text/plain": [
       "       Nr  CodCondizioniPagam  FattCumulative  Valuta  budget  NrArticolo  \\\n",
       "0  C00001                 101               0       1  BUDGET  ART0000893   \n",
       "1  C00001                 101               0       1  BUDGET  ART0005136   \n",
       "2  C00001                 101               0       1  BUDGET  ART0000877   \n",
       "3  C00001                 101               0       1  BUDGET  ART0000878   \n",
       "4  C00001                 101               0       1  BUDGET  ART0000879   \n",
       "\n",
       "   Quantity  ImportoVenditaValutaLocaleTOTALEVENDITA TassoCambioMedio  \n",
       "0         2                                    250.0                1  \n",
       "1         1                                    250.0                1  \n",
       "2         4                                    952.0                1  \n",
       "3         4                                    912.0                1  \n",
       "4         4                                    312.0                1  "
      ]
     },
     "execution_count": 426,
     "metadata": {},
     "output_type": "execute_result"
    }
   ],
   "source": [
    "dfVendite.rename(columns={'budget/cons': 'budget'}, inplace=True)\n",
    "dfVendite.loc[dfVendite.loc[:, \"budget\"] ==\n",
    "              \"Consuntivo\", \"budget\"] = \"CONSUNTIVO\"\n",
    "dfVendite.loc[dfVendite.loc[:, \"budget\"]\n",
    "              == \"Budget\", \"budget\"] = \"BUDGET\"\n",
    "\n",
    "\n",
    "#Joining with the exchange rate\n",
    "VenditeTotale = sqldf(\n",
    "    \"SELECT * FROM  dfClienti C JOIN dfVendite V ON C.Nr = V.NrOrigine\") \n",
    "\n",
    "#La prima colonna è il codice del cliente\n",
    "VenditeTotale = sqldf(\n",
    "    \"SELECT * FROM VenditeTotale V JOIN dfCambio C ON  V.Valuta = C.CodiceValuta AND V.budget = C.Anno \")\n",
    "del VenditeTotale['Anno']\n",
    "del VenditeTotale['CodiceValuta']\n",
    "del VenditeTotale['NrMovimento']\n",
    "del VenditeTotale['NrOrigine']\n",
    "del VenditeTotale['Unnamed: 0']\n",
    "\n",
    "\n",
    "VenditeTotale.head()\n"
   ]
  },
  {
   "cell_type": "markdown",
   "metadata": {},
   "source": [
    "## Dimensioni delle tabelle"
   ]
  },
  {
   "cell_type": "code",
   "execution_count": 427,
   "metadata": {},
   "outputs": [
    {
     "name": "stdout",
     "output_type": "stream",
     "text": [
      "Dimensioni dfVendite: 2976\n",
      "Dimensioni dfCambio: 6\n",
      "Dimensioni VenditeTotale: 2976\n",
      "Non si perdono informazioni perchè le dimensioni delle tabelle coincidono\n"
     ]
    }
   ],
   "source": [
    "print(\"Dimensioni dfVendite: \"+str(dfVendite.shape[0]))\n",
    "\n",
    "print(\"Dimensioni dfCambio: \"+str(dfCambio.shape[0]))\n",
    "\n",
    "print(\"Dimensioni VenditeTotale: \"+str(VenditeTotale.shape[0]))\n",
    "\n",
    "print(\"Non si perdono informazioni perchè le dimensioni delle tabelle coincidono\")"
   ]
  },
  {
   "cell_type": "markdown",
   "metadata": {},
   "source": [
    "## Somma per il budget"
   ]
  },
  {
   "cell_type": "code",
   "execution_count": 428,
   "metadata": {},
   "outputs": [
    {
     "name": "stdout",
     "output_type": "stream",
     "text": [
      "   SUM(ImportoVenditaValutaLocaleTOTALEVENDITA/TassoCambioMedio)\n",
      "0                                      395335.892443            \n"
     ]
    }
   ],
   "source": [
    "totVenditeBudget = sqldf(\n",
    "    \"SELECT SUM(ImportoVenditaValutaLocaleTOTALEVENDITA/TassoCambioMedio) FROM VenditeTotale WHERE budget = 'BUDGET' \")\n",
    "print(totVenditeBudget)\n"
   ]
  },
  {
   "cell_type": "markdown",
   "metadata": {},
   "source": [
    "## Somma per il consuntivo"
   ]
  },
  {
   "cell_type": "code",
   "execution_count": 429,
   "metadata": {},
   "outputs": [
    {
     "name": "stdout",
     "output_type": "stream",
     "text": [
      "   SUM(ImportoVenditaValutaLocaleTOTALEVENDITA/TassoCambioMedio)\n",
      "0                                      507842.851413            \n"
     ]
    }
   ],
   "source": [
    "totVenditeConsuntivo = sqldf(\n",
    "    \"SELECT SUM(ImportoVenditaValutaLocaleTOTALEVENDITA/TassoCambioMedio) FROM VenditeTotale WHERE budget = 'CONSUNTIVO' \")\n",
    "print(totVenditeConsuntivo)\n"
   ]
  },
  {
   "cell_type": "markdown",
   "metadata": {},
   "source": [
    "## Calcolo dello scostamento"
   ]
  },
  {
   "cell_type": "code",
   "execution_count": 430,
   "metadata": {},
   "outputs": [
    {
     "name": "stdout",
     "output_type": "stream",
     "text": [
      "   SUM(ImportoVenditaValutaLocaleTOTALEVENDITA/TassoCambioMedio)\n",
      "0                                       112506.95897            \n"
     ]
    }
   ],
   "source": [
    "ScostamentoVendite = totVenditeConsuntivo - totVenditeBudget\n",
    "print(ScostamentoVendite)\n"
   ]
  }
 ],
 "metadata": {
  "interpreter": {
   "hash": "4d107ec7e4cc286d04dd197e44863c8f859f25f04295a73ad253f41fad7b0dc0"
  },
  "kernelspec": {
   "display_name": "Python 3.9.7 64-bit ('base': conda)",
   "language": "python",
   "name": "python3"
  },
  "language_info": {
   "codemirror_mode": {
    "name": "ipython",
    "version": 3
   },
   "file_extension": ".py",
   "mimetype": "text/x-python",
   "name": "python",
   "nbconvert_exporter": "python",
   "pygments_lexer": "ipython3",
   "version": "3.9.7"
  },
  "orig_nbformat": 4
 },
 "nbformat": 4,
 "nbformat_minor": 2
}
