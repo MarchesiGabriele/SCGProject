{
 "cells": [
  {
   "cell_type": "markdown",
   "metadata": {},
   "source": [
    "# Lavorazioni interne"
   ]
  },
  {
   "cell_type": "markdown",
   "metadata": {},
   "source": [
    "##### setup"
   ]
  },
  {
   "cell_type": "code",
   "execution_count": null,
   "metadata": {},
   "outputs": [],
   "source": [
    "import numpy as np\n",
    "import pandas as pd\n",
    "from matplotlib import pyplot as plt\n",
    "import seaborn as sns\n",
    "import altair as alt\n",
    "import os.path\n",
    "import getpass\n",
    "import platform\n",
    "from pandasql import sqldf\n",
    "\n",
    "username = getpass.getuser()\n",
    "\n",
    "print(\"Username: \", username)\n",
    "pathPart1 = \"/Users/\"\n",
    "pathPart2 = \"/Github/SCGProject/Datasets/\"\n",
    "complePath = pathPart1+username+pathPart2\n",
    "\n",
    "if platform.system() == \"Darwin\":\n",
    "    if(username == \"marcovinciguerra\"):\n",
    "        dfCambio = pd.read_csv(\n",
    "            complePath+\"/CorrectedDatasets/dfCambio.csv\")\n",
    "\n",
    "        dfClienti = pd.read_csv(\n",
    "            complePath+\"/CorrectedDatasets/dfClienti.csv\")\n",
    "\n",
    "        dfConsumi = pd.read_csv(\n",
    "             complePath + \"/CorrectedDatasets/dfConsumi.csv\")\n",
    "\n",
    "        dfCostoOrarioConsuntivo = pd.read_csv(\n",
    "            complePath+\"/CorrectedDatasets/dfConsuntivo.csv\")\n",
    "\n",
    "        dfCostoOrarioBudget = pd.read_csv(\n",
    "            complePath+\"CorrectedDatasets/dfCostoOrario.csv\")\n",
    "\n",
    "        dfImpiegoRisorse = pd.read_csv(\n",
    "         complePath+\"/CorrectedDatasets/dfImpiegoRisorse.csv\")\n",
    "\n",
    "        dftuttiClienti = pd.read_csv(\n",
    "         complePath+\"/CorrectedDatasets/dftuttiClienti.csv\")\n",
    "\n",
    "        dfVendite = pd.read_csv(\n",
    "         complePath+\"/CorrectedDatasets/dfVendite.csv\")\n",
    "\n",
    "    elif(username == \"davidguzman\"):\n",
    "            pathPart1 = \"/Users/\"\n",
    "            pathPart2 = \"/documents/Github/SCGProject/Datasets/\"\n",
    "            complePath = pathPart1+username+pathPart2\n",
    "\n",
    "            dfCambio = pd.read_csv(\n",
    "                complePath+\"/CorrectedDatasets/dfCambio.csv\")\n",
    "\n",
    "            dfClienti = pd.read_csv(\n",
    "                complePath+\"/CorrectedDatasets/dfClienti.csv\")\n",
    "\n",
    "            dfConsumi = pd.read_csv(\n",
    "                complePath + \"/CorrectedDatasets/dfConsumi.csv\")\n",
    "\n",
    "            dfCostoOrarioConsuntivo = pd.read_csv(\n",
    "                complePath+\"/CorrectedDatasets/dfConsuntivo.csv\")\n",
    "\n",
    "            dfCostoOrarioBudget = pd.read_csv(\n",
    "                complePath+\"CorrectedDatasets/dfCostoOrario.csv\")\n",
    "\n",
    "            dfImpiegoRisorse = pd.read_csv(\n",
    "            complePath+\"/CorrectedDatasets/dfImpiegoRisorse.csv\")\n",
    "\n",
    "            dftuttiClienti = pd.read_csv(\n",
    "            complePath+\"/CorrectedDatasets/dftuttiClienti.csv\")\n",
    "\n",
    "            dfVendite = pd.read_csv(\n",
    "            complePath+\"/CorrectedDatasets/dfVendite.csv\")\n",
    "\n",
    "elif platform.system() == \"Linux\":\n",
    "    complePath = \"/home/alinux/unibg/git_repo/SCGProject\"\n",
    "    pathPart1 = \"/Users/\"\n",
    "    pathPart2 = \"/documents/Github/SCGProject/Datasets/\"\n",
    "    complePath = pathPart1+username+pathPart2\n",
    "\n",
    "    dfCambio = pd.read_csv(\n",
    "        complePath+\"/CorrectedDatasets/dfCambio.csv\")\n",
    "\n",
    "    dfClienti = pd.read_csv(\n",
    "        complePath+\"/CorrectedDatasets/dfClienti.csv\")\n",
    "\n",
    "    dfConsumi = pd.read_csv(\n",
    "        complePath + \"/CorrectedDatasets/dfConsumi.csv\")\n",
    "\n",
    "    dfCostoOrarioConsuntivo = pd.read_csv(\n",
    "        complePath+\"/CorrectedDatasets/dfConsuntivo.csv\")\n",
    "\n",
    "    dfCostoOrarioBudget = pd.read_csv(\n",
    "        complePath+\"CorrectedDatasets/dfCostoOrario.csv\")\n",
    "\n",
    "    dfImpiegoRisorse = pd.read_csv(\n",
    "        complePath+\"/CorrectedDatasets/dfImpiegoRisorse.csv\")\n",
    "\n",
    "    dftuttiClienti = pd.read_csv(\n",
    "        complePath+\"/CorrectedDatasets/dftuttiClienti.csv\")\n",
    "\n",
    "    dfVendite = pd.read_csv(\n",
    "        complePath+\"/CorrectedDatasets/dfVendite.csv\")\n"
   ]
  },
  {
   "cell_type": "markdown",
   "metadata": {},
   "source": [
    "## 1) Scostamento costo totale Lavorazioni interne"
   ]
  },
  {
   "cell_type": "code",
   "execution_count": null,
   "metadata": {},
   "outputs": [],
   "source": [
    "impiegoConsuntivo = sqldf(\"SELECT DISTINCT * FROM dfImpiegoRisorse WHERE budgetConsuntivo = 'CONSUNTIVO' or budgetConsuntivo = 'Consuntivo'\")\n",
    "#join con i costi orari\n",
    "impiegoConsuntivo  = sqldf('''SELECT DISTINCT i.NrArticolo,i.budgetConsuntivo,i.NrOrdineProduzione,i.Descrizione,i.NrAreaProduzione,i.Risorsa,i.QuantitydiOutput,i.TempoRisorsa,c.CostoOrario\n",
    "FROM impiegoConsuntivo as i join dfCostoOrarioConsuntivo as c \n",
    "on c.AreaProduzione = i.NrAreaProduzione and c.Risorsa = i.Risorsa''')\n",
    "# ci sono alcune quantità di output nulle, per gestire le sommiamo alle tuple con tutte le altre cose uguali\n",
    "impiegoConsuntivo = sqldf('''select NrArticolo,budgetConsuntivo,NrOrdineProduzione,Descrizione,NrAreaProduzione,Risorsa,sum(TempoRisorsa) as TempoRisorsa,CostoOrario, sum(QuantitydiOutput) as QuantitydiOutput\n",
    "from impiegoConsuntivo\n",
    "group by NrArticolo,budgetConsuntivo,NrOrdineProduzione,Descrizione,NrAreaProduzione,Risorsa,CostoOrario\n",
    "order by NrArticolo\n",
    "''')"
   ]
  },
  {
   "cell_type": "code",
   "execution_count": null,
   "metadata": {},
   "outputs": [],
   "source": [
    "impiegoBudget = sqldf(\"SELECT DISTINCT * FROM dfImpiegoRisorse WHERE budgetConsuntivo = 'BUDGET' or budgetConsuntivo = 'Budget'\")\n",
    "#join con i costi orari\n",
    "impiegoBudget  = sqldf('''SELECT DISTINCT i.NrArticolo,i.budgetConsuntivo,i.NrOrdineProduzione,i.Descrizione,i.NrAreaProduzione,i.Risorsa,i.QuantitydiOutput,i.TempoRisorsa,c.CostoOrario\n",
    "FROM impiegoBudget as i join dfCostoOrarioConsuntivo as c \n",
    "on c.AreaProduzione = i.NrAreaProduzione and c.Risorsa = i.Risorsa''')\n",
    "# righe a consuntivo sono di più che a budget e la somma dei 2 non corrisponde al numero di righe della tabella impiego risorse\n",
    "\n",
    "# ci sono alcune quantità di output nulle, per gestire le sommiamo alle tuple con tutte le altre cose uguali\n",
    "impiegoBudget = sqldf('''select NrArticolo,budgetConsuntivo,NrOrdineProduzione,Descrizione,NrAreaProduzione,Risorsa,sum(TempoRisorsa) as TempoRisorsa,CostoOrario, sum(QuantitydiOutput) as QuantitydiOutput\n",
    "from impiegoBudget\n",
    "group by NrArticolo,budgetConsuntivo,NrOrdineProduzione,Descrizione,NrAreaProduzione,Risorsa,CostoOrario\n",
    "order by NrArticolo\n",
    "''')"
   ]
  },
  {
   "cell_type": "code",
   "execution_count": null,
   "metadata": {},
   "outputs": [],
   "source": [
    "sumImpiegoConsuntivo = sqldf('SELECT sum(QuantitydiOutput*TempoRisorsa*CostoOrario) FROM impiegoConsuntivo')\n",
    "sumImpiegoBudget = sqldf('SELECT sum(QuantitydiOutput*TempoRisorsa*CostoOrario) FROM impiegoBudget')\n",
    "print(sumImpiegoBudget)\n",
    "print(sumImpiegoConsuntivo)\n",
    "print(sumImpiegoBudget-sumImpiegoConsuntivo)"
   ]
  },
  {
   "cell_type": "markdown",
   "metadata": {},
   "source": [
    "## 2) Scostamento di volume, impiego, prezzo"
   ]
  },
  {
   "cell_type": "code",
   "execution_count": null,
   "metadata": {},
   "outputs": [
    {
     "data": {
      "text/html": [
       "<div>\n",
       "<style scoped>\n",
       "    .dataframe tbody tr th:only-of-type {\n",
       "        vertical-align: middle;\n",
       "    }\n",
       "\n",
       "    .dataframe tbody tr th {\n",
       "        vertical-align: top;\n",
       "    }\n",
       "\n",
       "    .dataframe thead th {\n",
       "        text-align: right;\n",
       "    }\n",
       "</style>\n",
       "<table border=\"1\" class=\"dataframe\">\n",
       "  <thead>\n",
       "    <tr style=\"text-align: right;\">\n",
       "      <th></th>\n",
       "      <th>BudgetStandard</th>\n",
       "      <th>ImpiegoStandard</th>\n",
       "      <th>scostamento</th>\n",
       "    </tr>\n",
       "  </thead>\n",
       "  <tbody>\n",
       "    <tr>\n",
       "      <th>0</th>\n",
       "      <td>6300260.412</td>\n",
       "      <td>5.016818e+06</td>\n",
       "      <td>1.283443e+06</td>\n",
       "    </tr>\n",
       "  </tbody>\n",
       "</table>\n",
       "</div>"
      ],
      "text/plain": [
       "   BudgetStandard  ImpiegoStandard   scostamento\n",
       "0     6300260.412     5.016818e+06  1.283443e+06"
      ]
     },
     "metadata": {},
     "output_type": "display_data"
    }
   ],
   "source": [
    "scostamentoImpiegoVolume = sqldf(\n",
    "''' SELECT sum(b.QuantitydiOutput*b.TempoRisorsa*b.CostoOrario) as BudgetStandard, sum(c.QuantitydiOutput*b.TempoRisorsa*b.CostoOrario) as ImpiegoStandard, sum(b.QuantitydiOutput*b.TempoRisorsa*b.CostoOrario)-sum(c.QuantitydiOutput*b.TempoRisorsa*b.CostoOrario) as scostamento\n",
    "FROM impiegoConsuntivo as c join impiegoBudget as b \n",
    "on c.NrArticolo=b.NrArticolo and c.Risorsa=b.Risorsa and c.NrAreaProduzione=b.NrAreaProduzione\n",
    "''')\n",
    "\n",
    "scostamentoImpiegoVolume"
   ]
  },
  {
   "cell_type": "code",
   "execution_count": null,
   "metadata": {},
   "outputs": [
    {
     "data": {
      "text/html": [
       "<div>\n",
       "<style scoped>\n",
       "    .dataframe tbody tr th:only-of-type {\n",
       "        vertical-align: middle;\n",
       "    }\n",
       "\n",
       "    .dataframe tbody tr th {\n",
       "        vertical-align: top;\n",
       "    }\n",
       "\n",
       "    .dataframe thead th {\n",
       "        text-align: right;\n",
       "    }\n",
       "</style>\n",
       "<table border=\"1\" class=\"dataframe\">\n",
       "  <thead>\n",
       "    <tr style=\"text-align: right;\">\n",
       "      <th></th>\n",
       "      <th>ImpiegoStandard</th>\n",
       "      <th>ImpiegoEffettivo</th>\n",
       "      <th>scostamento</th>\n",
       "    </tr>\n",
       "  </thead>\n",
       "  <tbody>\n",
       "    <tr>\n",
       "      <th>0</th>\n",
       "      <td>5.016818e+06</td>\n",
       "      <td>5.341534e+06</td>\n",
       "      <td>-324716.0676</td>\n",
       "    </tr>\n",
       "  </tbody>\n",
       "</table>\n",
       "</div>"
      ],
      "text/plain": [
       "   ImpiegoStandard  ImpiegoEffettivo  scostamento\n",
       "0     5.016818e+06      5.341534e+06 -324716.0676"
      ]
     },
     "metadata": {},
     "output_type": "display_data"
    }
   ],
   "source": [
    "scostamentoImpiegoImpiego = sqldf(\n",
    "''' SELECT  sum(c.QuantitydiOutput*b.TempoRisorsa*b.CostoOrario) as ImpiegoStandard,sum(c.QuantitydiOutput*c.TempoRisorsa*b.CostoOrario) as ImpiegoEffettivo, sum(c.QuantitydiOutput*b.TempoRisorsa*b.CostoOrario)-sum(c.QuantitydiOutput*c.TempoRisorsa*b.CostoOrario) as scostamento\n",
    "FROM impiegoConsuntivo as c join impiegoBudget as b \n",
    "on c.NrArticolo=b.NrArticolo and c.Risorsa=b.Risorsa and c.NrAreaProduzione=b.NrAreaProduzione\n",
    "''')\n",
    "\n",
    "scostamentoImpiegoImpiego"
   ]
  },
  {
   "cell_type": "code",
   "execution_count": null,
   "metadata": {},
   "outputs": [
    {
     "data": {
      "text/html": [
       "<div>\n",
       "<style scoped>\n",
       "    .dataframe tbody tr th:only-of-type {\n",
       "        vertical-align: middle;\n",
       "    }\n",
       "\n",
       "    .dataframe tbody tr th {\n",
       "        vertical-align: top;\n",
       "    }\n",
       "\n",
       "    .dataframe thead th {\n",
       "        text-align: right;\n",
       "    }\n",
       "</style>\n",
       "<table border=\"1\" class=\"dataframe\">\n",
       "  <thead>\n",
       "    <tr style=\"text-align: right;\">\n",
       "      <th></th>\n",
       "      <th>ImpiegoEffettivo</th>\n",
       "      <th>BudgetEffettivo</th>\n",
       "      <th>scostamento</th>\n",
       "    </tr>\n",
       "  </thead>\n",
       "  <tbody>\n",
       "    <tr>\n",
       "      <th>0</th>\n",
       "      <td>5.341534e+06</td>\n",
       "      <td>5.341534e+06</td>\n",
       "      <td>0.0</td>\n",
       "    </tr>\n",
       "  </tbody>\n",
       "</table>\n",
       "</div>"
      ],
      "text/plain": [
       "   ImpiegoEffettivo  BudgetEffettivo  scostamento\n",
       "0      5.341534e+06     5.341534e+06          0.0"
      ]
     },
     "metadata": {},
     "output_type": "display_data"
    }
   ],
   "source": [
    "scostamentoImpiegoPrezzo = sqldf(\n",
    "''' SELECT  sum(c.QuantitydiOutput*c.TempoRisorsa*b.CostoOrario) as ImpiegoEffettivo, sum(c.QuantitydiOutput*c.TempoRisorsa*c.CostoOrario) as BudgetEffettivo, sum(c.QuantitydiOutput*c.TempoRisorsa*b.CostoOrario)-sum(c.QuantitydiOutput*c.TempoRisorsa*c.CostoOrario) as scostamento\n",
    "FROM impiegoConsuntivo as c join impiegoBudget as b \n",
    "on c.NrArticolo=b.NrArticolo and c.Risorsa=b.Risorsa and c.NrAreaProduzione=b.NrAreaProduzione\n",
    "''')\n",
    "\n",
    "scostamentoImpiegoPrezzo"
   ]
  },
  {
   "cell_type": "code",
   "execution_count": null,
   "metadata": {},
   "outputs": [
    {
     "data": {
      "text/plain": [
       "958726.5971999932"
      ]
     },
     "metadata": {},
     "output_type": "display_data"
    }
   ],
   "source": [
    "scostamentoImpiegoVolume.iloc[0,2]+scostamentoImpiegoImpiego.iloc[0,2]+scostamentoImpiegoPrezzo.iloc[0,2]"
   ]
  }
 ],
 "metadata": {
  "interpreter": {
   "hash": "1e88a0a8691b69c72bed1be80b194b024ea7ad29f263f8a8187384a524354049"
  },
  "kernelspec": {
   "display_name": "Python 3.10.0 64-bit ('SCG': conda)",
   "language": "python",
   "name": "python3"
  },
  "language_info": {
   "name": "python",
   "version": "3.10.0"
  },
  "orig_nbformat": 4
 },
 "nbformat": 4,
 "nbformat_minor": 2
}
