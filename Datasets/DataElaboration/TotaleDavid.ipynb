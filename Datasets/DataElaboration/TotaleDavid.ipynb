{
 "cells": [
  {
   "cell_type": "markdown",
   "metadata": {},
   "source": [
    "# Totale"
   ]
  },
  {
   "cell_type": "markdown",
   "metadata": {},
   "source": [
    "##### setup"
   ]
  },
  {
   "cell_type": "code",
   "execution_count": 1,
   "metadata": {},
   "outputs": [
    {
     "name": "stdout",
     "output_type": "stream",
     "text": [
      "Username:  marcovinciguerra\n"
     ]
    }
   ],
   "source": [
    "import numpy as np\n",
    "import pandas as pd\n",
    "from matplotlib import pyplot as plt\n",
    "import seaborn as sns\n",
    "import altair as alt\n",
    "import os.path\n",
    "import getpass\n",
    "import platform\n",
    "from pandasql import sqldf\n",
    "\n",
    "username = getpass.getuser()\n",
    "\n",
    "print(\"Username: \", username)\n",
    "pathPart1 = \"/Users/\"\n",
    "pathPart2 = \"/Github/SCGProject/Datasets/\"\n",
    "complePath = pathPart1+username+pathPart2\n",
    "\n",
    "if platform.system() == \"Darwin\":\n",
    "    if(username == \"marcovinciguerra\"):\n",
    "        dfCambio = pd.read_csv(\n",
    "            complePath+\"/CorrectedDatasets/dfCambio.csv\")\n",
    "\n",
    "        dfClienti = pd.read_csv(\n",
    "            complePath+\"/CorrectedDatasets/dfClienti.csv\")\n",
    "\n",
    "        dfConsumi = pd.read_csv(\n",
    "             complePath + \"/CorrectedDatasets/dfConsumi.csv\")\n",
    "\n",
    "        dfCostoOrarioConsuntivo = pd.read_csv(\n",
    "            complePath+\"/CorrectedDatasets/dfConsuntivo.csv\")\n",
    "\n",
    "        dfCostoOrarioBudget = pd.read_csv(\n",
    "            complePath+\"CorrectedDatasets/dfCostoOrario.csv\")\n",
    "\n",
    "        dfImpiegoRisorse = pd.read_csv(\n",
    "         complePath+\"/CorrectedDatasets/dfImpiegoRisorse.csv\")\n",
    "\n",
    "        dftuttiClienti = pd.read_csv(\n",
    "         complePath+\"/CorrectedDatasets/dftuttiClienti.csv\")\n",
    "\n",
    "        dfVendite = pd.read_csv(\n",
    "         complePath+\"/CorrectedDatasets/dfVendite.csv\")\n",
    "\n",
    "    elif(username == \"davidguzman\"):\n",
    "            pathPart1 = \"/Users/\"\n",
    "            pathPart2 = \"/documents/Github/SCGProject/Datasets/\"\n",
    "            complePath = pathPart1+username+pathPart2\n",
    "\n",
    "            dfCambio = pd.read_csv(\n",
    "                complePath+\"/CorrectedDatasets/dfCambio.csv\")\n",
    "\n",
    "            dfClienti = pd.read_csv(\n",
    "                complePath+\"/CorrectedDatasets/dfClienti.csv\")\n",
    "\n",
    "            dfConsumi = pd.read_csv(\n",
    "                complePath + \"/CorrectedDatasets/dfConsumi.csv\")\n",
    "\n",
    "            dfCostoOrarioConsuntivo = pd.read_csv(\n",
    "                complePath+\"/CorrectedDatasets/dfConsuntivo.csv\")\n",
    "\n",
    "            dfCostoOrarioBudget = pd.read_csv(\n",
    "                complePath+\"CorrectedDatasets/dfCostoOrario.csv\")\n",
    "\n",
    "            dfImpiegoRisorse = pd.read_csv(\n",
    "            complePath+\"/CorrectedDatasets/dfImpiegoRisorse.csv\")\n",
    "\n",
    "            dftuttiClienti = pd.read_csv(\n",
    "            complePath+\"/CorrectedDatasets/dftuttiClienti.csv\")\n",
    "\n",
    "            dfVendite = pd.read_csv(\n",
    "            complePath+\"/CorrectedDatasets/dfVendite.csv\")\n",
    "\n",
    "elif platform.system() == \"Linux\":\n",
    "    complePath = \"/home/alinux/unibg/git_repo/SCGProject\"\n",
    "    pathPart1 = \"/Users/\"\n",
    "    pathPart2 = \"/documents/Github/SCGProject/Datasets/\"\n",
    "    complePath = pathPart1+username+pathPart2\n",
    "\n",
    "    dfCambio = pd.read_csv(\n",
    "        complePath+\"/CorrectedDatasets/dfCambio.csv\")\n",
    "\n",
    "    dfClienti = pd.read_csv(\n",
    "        complePath+\"/CorrectedDatasets/dfClienti.csv\")\n",
    "\n",
    "    dfConsumi = pd.read_csv(\n",
    "        complePath + \"/CorrectedDatasets/dfConsumi.csv\")\n",
    "\n",
    "    dfCostoOrarioConsuntivo = pd.read_csv(\n",
    "        complePath+\"/CorrectedDatasets/dfConsuntivo.csv\")\n",
    "\n",
    "    dfCostoOrarioBudget = pd.read_csv(\n",
    "        complePath+\"CorrectedDatasets/dfCostoOrario.csv\")\n",
    "\n",
    "    dfImpiegoRisorse = pd.read_csv(\n",
    "        complePath+\"/CorrectedDatasets/dfImpiegoRisorse.csv\")\n",
    "\n",
    "    dftuttiClienti = pd.read_csv(\n",
    "        complePath+\"/CorrectedDatasets/dftuttiClienti.csv\")\n",
    "\n",
    "    dfVendite = pd.read_csv(\n",
    "        complePath+\"/CorrectedDatasets/dfVendite.csv\")\n",
    "\n",
    "\n",
    "\n",
    "dfCambio[\"TassoCambioMedio\"] = dfCambio[\"TassoCambioMedio\"].str.replace(',','.')\n"
   ]
  },
  {
   "cell_type": "markdown",
   "metadata": {},
   "source": [
    "# Ricavi"
   ]
  },
  {
   "cell_type": "code",
   "execution_count": 2,
   "metadata": {},
   "outputs": [],
   "source": [
    "dfVendite.rename(columns = {'budget/cons':'budget'}, inplace = True)\n",
    "venditeConsuntivo = sqldf(\"SELECT DISTINCT * FROM dfVendite WHERE budget = 'CONSUNTIVO' or budget = 'Consuntivo'\")\n",
    "venditeBudget = sqldf(\"SELECT DISTINCT * FROM dfVendite WHERE budget = 'BUDGET' or budget = 'Budget'\")"
   ]
  },
  {
   "cell_type": "code",
   "execution_count": 3,
   "metadata": {},
   "outputs": [],
   "source": [
    "# join with dfCambio and dfClienti\n",
    "venditeConsuntivo = sqldf('''SELECT DISTINCT v.NrMovimento, v.budget, v.NrArticolo, v.Quantity, v.ImportoVenditaValutaLocaleTOTALEVENDITA,k.TassoCambioMedio,v.ImportoVenditaValutaLocaleTOTALEVENDITA/k.TassoCambioMedio as TotaleEuro, v.NrOrigine, c.CodCondizioniPagam, c.FattCumulative, c.Valuta\n",
    "FROM venditeConsuntivo as v join dfClienti as c on v.NrOrigine = c.Nr join dfCambio as k on c.Valuta = k.CodiceValuta\n",
    "where k.Anno = 'Consuntivo' or k.Anno = 'CONSUNTIVO'\n",
    "''')\n",
    "\n",
    "venditeBudget = sqldf('''SELECT DISTINCT v.NrMovimento, v.budget, v.NrArticolo, v.Quantity, v.ImportoVenditaValutaLocaleTOTALEVENDITA,k.TassoCambioMedio,v.ImportoVenditaValutaLocaleTOTALEVENDITA/k.TassoCambioMedio as TotaleEuro, v.NrOrigine, c.CodCondizioniPagam, c.FattCumulative, c.Valuta\n",
    "FROM venditeBudget as v join dfClienti as c on v.NrOrigine = c.Nr join dfCambio as k on c.Valuta = k.CodiceValuta\n",
    "where k.Anno = 'Budget' or k.Anno = 'BUDGET'\n",
    "''')"
   ]
  },
  {
   "cell_type": "code",
   "execution_count": 4,
   "metadata": {},
   "outputs": [
    {
     "name": "stdout",
     "output_type": "stream",
     "text": [
      "   sumVenditaTotale\n",
      "0     507842.851413\n",
      "   sumVenditaTotale\n",
      "0     395335.892443\n",
      "   sumVenditaTotale\n",
      "0      112506.95897\n"
     ]
    }
   ],
   "source": [
    "sumVenditeConsuntivo = sqldf('select sum(TotaleEuro) as sumVenditaTotale from venditeConsuntivo')\n",
    "sumVenditeBudget = sqldf('select sum(TotaleEuro) as sumVenditaTotale from venditeBudget')\n",
    "print(sumVenditeConsuntivo)\n",
    "print(sumVenditeBudget)\n",
    "print(sumVenditeConsuntivo-sumVenditeBudget) #questo è lo scostamento totale dei ricavi"
   ]
  },
  {
   "cell_type": "markdown",
   "metadata": {},
   "source": [
    "# Costi"
   ]
  },
  {
   "cell_type": "markdown",
   "metadata": {},
   "source": [
    "Materie prime"
   ]
  },
  {
   "cell_type": "code",
   "execution_count": 5,
   "metadata": {},
   "outputs": [
    {
     "name": "stdout",
     "output_type": "stream",
     "text": [
      "   sum(ImportoCostoTOTALE)\n",
      "0                 289639.5\n",
      "   sum(ImportoCostoTOTALE)\n",
      "0                192906.47\n",
      "   sum(ImportoCostoTOTALE)\n",
      "0                 96733.03\n"
     ]
    }
   ],
   "source": [
    "dfConsumi.rename(columns = {'Budget/cons':'budget'}, inplace = True)\n",
    "consumiConsuntivo = sqldf(\"SELECT DISTINCT * FROM dfConsumi WHERE budget = 'CONSUNTIVO'\")\n",
    "consumiBudget = sqldf(\"SELECT DISTINCT * FROM dfConsumi WHERE budget = 'BUDGET'\")\n",
    "sumConsumiConsuntivo = sqldf('select sum(ImportoCostoTOTALE) from consumiConsuntivo')\n",
    "sumConsumiBudget = sqldf('select sum(ImportoCostoTOTALE) from consumiBudget')\n",
    "print(sumConsumiConsuntivo)\n",
    "print(sumConsumiBudget)\n",
    "print(sumConsumiConsuntivo-sumConsumiBudget) #questo è lo scostamento totale della materia prima"
   ]
  },
  {
   "cell_type": "markdown",
   "metadata": {},
   "source": [
    "Lavorazioni interne"
   ]
  },
  {
   "cell_type": "code",
   "execution_count": 6,
   "metadata": {},
   "outputs": [],
   "source": [
    "impiegoConsuntivo = sqldf(\"SELECT DISTINCT * FROM dfImpiegoRisorse WHERE budgetConsuntivo = 'CONSUNTIVO' or budgetConsuntivo = 'Consuntivo'\")\n",
    "#join con i costi orari\n",
    "impiegoConsuntivo  = sqldf('''SELECT DISTINCT i.NrArticolo,i.budgetConsuntivo,i.NrOrdineProduzione,i.Descrizione,i.NrAreaProduzione,i.Risorsa,i.QuantitydiOutput,i.TempoRisorsa,c.CostoOrario\n",
    "FROM impiegoConsuntivo as i join dfCostoOrarioConsuntivo as c \n",
    "on c.AreaProduzione = i.NrAreaProduzione and c.Risorsa = i.Risorsa''')\n",
    "# ci sono alcune quantità di output nulle, per gestire le sommiamo alle tuple con tutte le altre cose uguali\n",
    "impiegoConsuntivo = sqldf('''select NrArticolo,budgetConsuntivo,NrOrdineProduzione,Descrizione,NrAreaProduzione,Risorsa,sum(TempoRisorsa) as TempoRisorsa,CostoOrario, sum(QuantitydiOutput) as QuantitydiOutput\n",
    "from impiegoConsuntivo\n",
    "group by NrArticolo,budgetConsuntivo,NrOrdineProduzione,Descrizione,NrAreaProduzione,Risorsa,CostoOrario\n",
    "order by NrArticolo\n",
    "''')"
   ]
  },
  {
   "cell_type": "code",
   "execution_count": 7,
   "metadata": {},
   "outputs": [],
   "source": [
    "impiegoBudget = sqldf(\"SELECT DISTINCT * FROM dfImpiegoRisorse WHERE budgetConsuntivo = 'BUDGET' or budgetConsuntivo = 'Budget'\")\n",
    "#join con i costi orari\n",
    "impiegoBudget  = sqldf('''SELECT DISTINCT i.NrArticolo,i.budgetConsuntivo,i.NrOrdineProduzione,i.Descrizione,i.NrAreaProduzione,i.Risorsa,i.QuantitydiOutput,i.TempoRisorsa,c.CostoOrario\n",
    "FROM impiegoBudget as i join dfCostoOrarioConsuntivo as c \n",
    "on c.AreaProduzione = i.NrAreaProduzione and c.Risorsa = i.Risorsa''')\n",
    "# righe a consuntivo sono di più che a budget e la somma dei 2 non corrisponde al numero di righe della tabella impiego risorse\n",
    "\n",
    "# ci sono alcune quantità di output nulle, per gestire le sommiamo alle tuple con tutte le altre cose uguali\n",
    "impiegoBudget = sqldf('''select NrArticolo,budgetConsuntivo,NrOrdineProduzione,Descrizione,NrAreaProduzione,Risorsa,sum(TempoRisorsa) as TempoRisorsa,CostoOrario, sum(QuantitydiOutput) as QuantitydiOutput\n",
    "from impiegoBudget\n",
    "group by NrArticolo,budgetConsuntivo,NrOrdineProduzione,Descrizione,NrAreaProduzione,Risorsa,CostoOrario\n",
    "order by NrArticolo\n",
    "''')"
   ]
  },
  {
   "cell_type": "code",
   "execution_count": 8,
   "metadata": {},
   "outputs": [
    {
     "name": "stdout",
     "output_type": "stream",
     "text": [
      "   sum(QuantitydiOutput*TempoRisorsa*CostoOrario)\n",
      "0                                    5.349043e+06\n",
      "   sum(QuantitydiOutput*TempoRisorsa*CostoOrario)\n",
      "0                                       2802273.7\n",
      "   sum(QuantitydiOutput*TempoRisorsa*CostoOrario)\n",
      "0                                    2.546769e+06\n"
     ]
    }
   ],
   "source": [
    "sumImpiegoConsuntivo = sqldf(\n",
    "    'SELECT sum(QuantitydiOutput*TempoRisorsa*CostoOrario) FROM impiegoConsuntivo WHERE TempoRisorsa>=0')\n",
    "sumImpiegoBudget = sqldf(\n",
    "    'SELECT sum(QuantitydiOutput*TempoRisorsa*CostoOrario) FROM impiegoBudget WHERE TempoRisorsa>=0')\n",
    "print(sumImpiegoConsuntivo)\n",
    "print(sumImpiegoBudget)\n",
    "print(sumImpiegoConsuntivo-sumImpiegoBudget)"
   ]
  }
 ],
 "metadata": {
  "interpreter": {
   "hash": "1e88a0a8691b69c72bed1be80b194b024ea7ad29f263f8a8187384a524354049"
  },
  "kernelspec": {
   "display_name": "Python 3.10.0 64-bit ('SCG': conda)",
   "language": "python",
   "name": "python3"
  },
  "language_info": {
   "codemirror_mode": {
    "name": "ipython",
    "version": 3
   },
   "file_extension": ".py",
   "mimetype": "text/x-python",
   "name": "python",
   "nbconvert_exporter": "python",
   "pygments_lexer": "ipython3",
   "version": "3.9.7"
  },
  "orig_nbformat": 4
 },
 "nbformat": 4,
 "nbformat_minor": 2
}
