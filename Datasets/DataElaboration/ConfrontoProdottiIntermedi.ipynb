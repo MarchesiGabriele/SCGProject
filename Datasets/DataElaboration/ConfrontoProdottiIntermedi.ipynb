{
 "cells": [
  {
   "cell_type": "markdown",
   "metadata": {},
   "source": [
    "## Setup"
   ]
  },
  {
   "cell_type": "code",
   "execution_count": 2,
   "metadata": {},
   "outputs": [
    {
     "name": "stdout",
     "output_type": "stream",
     "text": [
      "Username:  marcovinciguerra\n"
     ]
    }
   ],
   "source": [
    "import numpy as np\n",
    "import pandas as pd\n",
    "from matplotlib import pyplot as plt\n",
    "import seaborn as sns\n",
    "import altair as alt\n",
    "import os.path\n",
    "import getpass\n",
    "import platform\n",
    "from pandasql import sqldf\n",
    "\n",
    "username = getpass.getuser()\n",
    "\n",
    "print(\"Username: \", username)\n",
    "pathPart1 = \"/Users/\"\n",
    "pathPart2 = \"/Github/SCGProject/Datasets/\"\n",
    "complePath = pathPart1+username+pathPart2\n",
    "\n",
    "if platform.system() == \"Darwin\":\n",
    "    if(username == \"marcovinciguerra\"):\n",
    "        dfCambio = pd.read_csv(\n",
    "            complePath+\"/CorrectedDatasets/dfCambio.csv\")\n",
    "\n",
    "        dfClienti = pd.read_csv(\n",
    "            complePath+\"/CorrectedDatasets/dfClienti.csv\")\n",
    "\n",
    "        dfConsumi = pd.read_csv(\n",
    "            complePath + \"/CorrectedDatasets/dfConsumi.csv\")\n",
    "\n",
    "        dfCostoOrarioConsuntivo = pd.read_csv(\n",
    "            complePath+\"/CorrectedDatasets/dfConsuntivo.csv\")\n",
    "\n",
    "        dfCostoOrarioBudget = pd.read_csv(\n",
    "            complePath+\"CorrectedDatasets/dfCostoOrario.csv\")\n",
    "\n",
    "        dfImpiegoRisorse = pd.read_csv(\n",
    "            complePath+\"/CorrectedDatasets/dfImpiegoRisorse.csv\")\n",
    "\n",
    "        dftuttiClienti = pd.read_csv(\n",
    "            complePath+\"/CorrectedDatasets/dftuttiClienti.csv\")\n",
    "\n",
    "        dfVendite = pd.read_csv(\n",
    "            complePath+\"/CorrectedDatasets/dfVendite.csv\")\n",
    "\n",
    "    elif(username == \"davidguzman\"):\n",
    "        pathPart1 = \"/Users/\"\n",
    "        pathPart2 = \"/documents/Github/SCGProject/Datasets/\"\n",
    "        complePath = pathPart1+username+pathPart2\n",
    "\n",
    "        dfCambio = pd.read_csv(\n",
    "            complePath+\"/CorrectedDatasets/dfCambio.csv\")\n",
    "\n",
    "        dfClienti = pd.read_csv(\n",
    "            complePath+\"/CorrectedDatasets/dfClienti.csv\")\n",
    "\n",
    "        dfConsumi = pd.read_csv(\n",
    "            complePath + \"/CorrectedDatasets/dfConsumi.csv\")\n",
    "\n",
    "        dfCostoOrarioConsuntivo = pd.read_csv(\n",
    "            complePath+\"/CorrectedDatasets/dfConsuntivo.csv\")\n",
    "\n",
    "        dfCostoOrarioBudget = pd.read_csv(\n",
    "            complePath+\"CorrectedDatasets/dfCostoOrario.csv\")\n",
    "\n",
    "        dfImpiegoRisorse = pd.read_csv(\n",
    "            complePath+\"/CorrectedDatasets/dfImpiegoRisorse.csv\")\n",
    "\n",
    "        dftuttiClienti = pd.read_csv(\n",
    "            complePath+\"/CorrectedDatasets/dftuttiClienti.csv\")\n",
    "\n",
    "        dfVendite = pd.read_csv(\n",
    "            complePath+\"/CorrectedDatasets/dfVendite.csv\")\n",
    "\n",
    "elif platform.system() == \"Linux\":\n",
    "    complePath = \"/home/alinux/unibg/git_repo/SCGProject\"\n",
    "    pathPart1 = \"/Users/\"\n",
    "    pathPart2 = \"/documents/Github/SCGProject/Datasets/\"\n",
    "    complePath = pathPart1+username+pathPart2\n",
    "\n",
    "    dfCambio = pd.read_csv(\n",
    "        complePath+\"/CorrectedDatasets/dfCambio.csv\")\n",
    "\n",
    "    dfClienti = pd.read_csv(\n",
    "        complePath+\"/CorrectedDatasets/dfClienti.csv\")\n",
    "\n",
    "    dfConsumi = pd.read_csv(\n",
    "        complePath + \"/CorrectedDatasets/dfConsumi.csv\")\n",
    "\n",
    "    dfCostoOrarioConsuntivo = pd.read_csv(\n",
    "        complePath+\"/CorrectedDatasets/dfConsuntivo.csv\")\n",
    "\n",
    "    dfCostoOrarioBudget = pd.read_csv(\n",
    "        complePath+\"CorrectedDatasets/dfCostoOrario.csv\")\n",
    "\n",
    "    dfImpiegoRisorse = pd.read_csv(\n",
    "        complePath+\"/CorrectedDatasets/dfImpiegoRisorse.csv\")\n",
    "\n",
    "    dftuttiClienti = pd.read_csv(\n",
    "        complePath+\"/CorrectedDatasets/dftuttiClienti.csv\")\n",
    "\n",
    "    dfVendite = pd.read_csv(\n",
    "        complePath+\"/CorrectedDatasets/dfVendite.csv\")\n"
   ]
  },
  {
   "cell_type": "code",
   "execution_count": 3,
   "metadata": {},
   "outputs": [
    {
     "data": {
      "text/html": [
       "<div>\n",
       "<style scoped>\n",
       "    .dataframe tbody tr th:only-of-type {\n",
       "        vertical-align: middle;\n",
       "    }\n",
       "\n",
       "    .dataframe tbody tr th {\n",
       "        vertical-align: top;\n",
       "    }\n",
       "\n",
       "    .dataframe thead th {\n",
       "        text-align: right;\n",
       "    }\n",
       "</style>\n",
       "<table border=\"1\" class=\"dataframe\">\n",
       "  <thead>\n",
       "    <tr style=\"text-align: right;\">\n",
       "      <th></th>\n",
       "      <th>NrMovimento</th>\n",
       "      <th>choice</th>\n",
       "      <th>CodiceMP</th>\n",
       "      <th>NrArticolo</th>\n",
       "      <th>NrDocumento</th>\n",
       "      <th>QuantityMPImpiegata</th>\n",
       "      <th>ImportoCostoTOTALE</th>\n",
       "    </tr>\n",
       "  </thead>\n",
       "  <tbody>\n",
       "    <tr>\n",
       "      <th>0</th>\n",
       "      <td>28854</td>\n",
       "      <td>BUDGET</td>\n",
       "      <td>ART0001074</td>\n",
       "      <td>ART0000018</td>\n",
       "      <td>ODP17-05342</td>\n",
       "      <td>30.0</td>\n",
       "      <td>5.15</td>\n",
       "    </tr>\n",
       "    <tr>\n",
       "      <th>1</th>\n",
       "      <td>66819</td>\n",
       "      <td>CONSUNTIVO</td>\n",
       "      <td>ART0001074</td>\n",
       "      <td>ART0000018</td>\n",
       "      <td>ODP19-05998</td>\n",
       "      <td>30.0</td>\n",
       "      <td>5.15</td>\n",
       "    </tr>\n",
       "    <tr>\n",
       "      <th>2</th>\n",
       "      <td>28853</td>\n",
       "      <td>BUDGET</td>\n",
       "      <td>ART0005696</td>\n",
       "      <td>ART0000041</td>\n",
       "      <td>ODP17-05342</td>\n",
       "      <td>4.0</td>\n",
       "      <td>92.00</td>\n",
       "    </tr>\n",
       "    <tr>\n",
       "      <th>3</th>\n",
       "      <td>66818</td>\n",
       "      <td>CONSUNTIVO</td>\n",
       "      <td>ART0005696</td>\n",
       "      <td>ART0000041</td>\n",
       "      <td>ODP19-05998</td>\n",
       "      <td>4.0</td>\n",
       "      <td>88.00</td>\n",
       "    </tr>\n",
       "    <tr>\n",
       "      <th>4</th>\n",
       "      <td>28855</td>\n",
       "      <td>BUDGET</td>\n",
       "      <td>ART0005697</td>\n",
       "      <td>ART0000042</td>\n",
       "      <td>ODP17-05342</td>\n",
       "      <td>4.0</td>\n",
       "      <td>104.00</td>\n",
       "    </tr>\n",
       "  </tbody>\n",
       "</table>\n",
       "</div>"
      ],
      "text/plain": [
       "   NrMovimento      choice    CodiceMP  NrArticolo  NrDocumento  \\\n",
       "0        28854      BUDGET  ART0001074  ART0000018  ODP17-05342   \n",
       "1        66819  CONSUNTIVO  ART0001074  ART0000018  ODP19-05998   \n",
       "2        28853      BUDGET  ART0005696  ART0000041  ODP17-05342   \n",
       "3        66818  CONSUNTIVO  ART0005696  ART0000041  ODP19-05998   \n",
       "4        28855      BUDGET  ART0005697  ART0000042  ODP17-05342   \n",
       "\n",
       "   QuantityMPImpiegata  ImportoCostoTOTALE  \n",
       "0                 30.0                5.15  \n",
       "1                 30.0                5.15  \n",
       "2                  4.0               92.00  \n",
       "3                  4.0               88.00  \n",
       "4                  4.0              104.00  "
      ]
     },
     "execution_count": 3,
     "metadata": {},
     "output_type": "execute_result"
    }
   ],
   "source": [
    "del dfConsumi['Unnamed: 0']\n",
    "#del dfConsumi['NrMovimento']\n",
    "dfConsumi.rename(columns={'Budget/cons': 'choice'}, inplace=True)\n",
    "dfConsumi.head()"
   ]
  },
  {
   "cell_type": "markdown",
   "metadata": {},
   "source": [
    "# JOIN"
   ]
  },
  {
   "cell_type": "code",
   "execution_count": 8,
   "metadata": {},
   "outputs": [
    {
     "data": {
      "text/html": [
       "<div>\n",
       "<style scoped>\n",
       "    .dataframe tbody tr th:only-of-type {\n",
       "        vertical-align: middle;\n",
       "    }\n",
       "\n",
       "    .dataframe tbody tr th {\n",
       "        vertical-align: top;\n",
       "    }\n",
       "\n",
       "    .dataframe thead th {\n",
       "        text-align: right;\n",
       "    }\n",
       "</style>\n",
       "<table border=\"1\" class=\"dataframe\">\n",
       "  <thead>\n",
       "    <tr style=\"text-align: right;\">\n",
       "      <th></th>\n",
       "      <th>choice</th>\n",
       "      <th>CodiceMP</th>\n",
       "      <th>NrArticolo</th>\n",
       "      <th>NrDocumento</th>\n",
       "      <th>QuantityMPImpiegata</th>\n",
       "      <th>ImportoCostoTOTALE</th>\n",
       "      <th>choice</th>\n",
       "      <th>CodiceMP</th>\n",
       "      <th>NrArticolo</th>\n",
       "      <th>NrDocumento</th>\n",
       "      <th>QuantityMPImpiegata</th>\n",
       "      <th>ImportoCostoTOTALE</th>\n",
       "    </tr>\n",
       "  </thead>\n",
       "  <tbody>\n",
       "    <tr>\n",
       "      <th>0</th>\n",
       "      <td>BUDGET</td>\n",
       "      <td>ART0001868</td>\n",
       "      <td>ART0000748</td>\n",
       "      <td>ODP17-02386</td>\n",
       "      <td>49.0</td>\n",
       "      <td>1278.86</td>\n",
       "      <td>BUDGET</td>\n",
       "      <td>ART0005434</td>\n",
       "      <td>ART0001868</td>\n",
       "      <td>ODP17-02386</td>\n",
       "      <td>8000.0</td>\n",
       "      <td>142.46</td>\n",
       "    </tr>\n",
       "    <tr>\n",
       "      <th>1</th>\n",
       "      <td>BUDGET</td>\n",
       "      <td>ART0001868</td>\n",
       "      <td>ART0000748</td>\n",
       "      <td>ODP17-05535</td>\n",
       "      <td>50.0</td>\n",
       "      <td>1348.54</td>\n",
       "      <td>BUDGET</td>\n",
       "      <td>ART0005434</td>\n",
       "      <td>ART0001868</td>\n",
       "      <td>ODP17-05535</td>\n",
       "      <td>8000.0</td>\n",
       "      <td>148.53</td>\n",
       "    </tr>\n",
       "    <tr>\n",
       "      <th>2</th>\n",
       "      <td>BUDGET</td>\n",
       "      <td>ART0001868</td>\n",
       "      <td>ART0000748</td>\n",
       "      <td>ODP17-10871</td>\n",
       "      <td>50.0</td>\n",
       "      <td>1308.66</td>\n",
       "      <td>BUDGET</td>\n",
       "      <td>ART0005434</td>\n",
       "      <td>ART0001868</td>\n",
       "      <td>ODP17-10871</td>\n",
       "      <td>8000.0</td>\n",
       "      <td>158.66</td>\n",
       "    </tr>\n",
       "    <tr>\n",
       "      <th>3</th>\n",
       "      <td>BUDGET</td>\n",
       "      <td>ART0001868</td>\n",
       "      <td>ART0000748</td>\n",
       "      <td>ODP17-15078</td>\n",
       "      <td>50.0</td>\n",
       "      <td>1311.31</td>\n",
       "      <td>BUDGET</td>\n",
       "      <td>ART0005434</td>\n",
       "      <td>ART0001868</td>\n",
       "      <td>ODP17-15078</td>\n",
       "      <td>8480.0</td>\n",
       "      <td>177.99</td>\n",
       "    </tr>\n",
       "    <tr>\n",
       "      <th>4</th>\n",
       "      <td>CONSUNTIVO</td>\n",
       "      <td>ART0001868</td>\n",
       "      <td>ART0000748</td>\n",
       "      <td>ODP18-02202</td>\n",
       "      <td>50.0</td>\n",
       "      <td>1205.91</td>\n",
       "      <td>CONSUNTIVO</td>\n",
       "      <td>ART0005434</td>\n",
       "      <td>ART0001868</td>\n",
       "      <td>ODP18-02202</td>\n",
       "      <td>8025.0</td>\n",
       "      <td>168.41</td>\n",
       "    </tr>\n",
       "  </tbody>\n",
       "</table>\n",
       "</div>"
      ],
      "text/plain": [
       "       choice    CodiceMP  NrArticolo  NrDocumento  QuantityMPImpiegata  \\\n",
       "0      BUDGET  ART0001868  ART0000748  ODP17-02386                 49.0   \n",
       "1      BUDGET  ART0001868  ART0000748  ODP17-05535                 50.0   \n",
       "2      BUDGET  ART0001868  ART0000748  ODP17-10871                 50.0   \n",
       "3      BUDGET  ART0001868  ART0000748  ODP17-15078                 50.0   \n",
       "4  CONSUNTIVO  ART0001868  ART0000748  ODP18-02202                 50.0   \n",
       "\n",
       "   ImportoCostoTOTALE      choice    CodiceMP  NrArticolo  NrDocumento  \\\n",
       "0             1278.86      BUDGET  ART0005434  ART0001868  ODP17-02386   \n",
       "1             1348.54      BUDGET  ART0005434  ART0001868  ODP17-05535   \n",
       "2             1308.66      BUDGET  ART0005434  ART0001868  ODP17-10871   \n",
       "3             1311.31      BUDGET  ART0005434  ART0001868  ODP17-15078   \n",
       "4             1205.91  CONSUNTIVO  ART0005434  ART0001868  ODP18-02202   \n",
       "\n",
       "   QuantityMPImpiegata  ImportoCostoTOTALE  \n",
       "0               8000.0              142.46  \n",
       "1               8000.0              148.53  \n",
       "2               8000.0              158.66  \n",
       "3               8480.0              177.99  \n",
       "4               8025.0              168.41  "
      ]
     },
     "execution_count": 8,
     "metadata": {},
     "output_type": "execute_result"
    }
   ],
   "source": [
    "#Sinistra -> intermedia/finito\n",
    "#Destra-> materia prima\n",
    "A = sqldf('SELECT * FROM dfConsumi as A JOIN dfConsumi B ON A.CodiceMP = B.NrArticolo AND A.NrDocumento = B.NrDocumento group by A.NrArticolo, A.NrDocumento')\n",
    "#del A['NrDocumento']\n",
    "del A['NrMovimento']\n",
    "A.head()"
   ]
  },
  {
   "cell_type": "markdown",
   "metadata": {},
   "source": [
    "# Cancellazione dei dati di costo intermedio"
   ]
  },
  {
   "cell_type": "markdown",
   "metadata": {},
   "source": [
    "### Seleziono quello che mi serve"
   ]
  },
  {
   "cell_type": "code",
   "execution_count": 5,
   "metadata": {},
   "outputs": [
    {
     "data": {
      "text/plain": [
       "array(['ART0001868', 'ART0001900', 'ART0001811', 'ART0001872',\n",
       "       'ART0001765', 'ART0001874', 'ART0001884', 'ART0001897',\n",
       "       'ART0001804', 'ART0001880', 'ART0002490', 'ART0001776',\n",
       "       'ART0001778', 'ART0001895', 'ART0001898', 'ART0001788',\n",
       "       'ART0001913', 'ART0001829', 'ART0001866', 'ART0001935',\n",
       "       'ART0001869', 'ART0001923', 'ART0001940', 'ART0001942',\n",
       "       'ART0001945', 'ART0001920', 'ART0001931', 'ART0001950',\n",
       "       'ART0001946', 'ART0001841', 'ART0001770', 'ART0001886',\n",
       "       'ART0001882', 'ART0001891', 'ART0001908', 'ART0001807',\n",
       "       'ART0001767', 'ART0001766', 'ART0003940', 'ART0003940'],\n",
       "      dtype=object)"
      ]
     },
     "execution_count": 5,
     "metadata": {},
     "output_type": "execute_result"
    }
   ],
   "source": [
    "C = sqldf('SELECT B.NrArticolo FROM dfConsumi as A JOIN dfConsumi B ON A.CodiceMP = B.NrArticolo AND A.NrDocumento =B.NrDocumento group by A.NrArticolo')\n",
    "C.head()\n",
    "C.values.flatten()\n"
   ]
  },
  {
   "cell_type": "markdown",
   "metadata": {},
   "source": [
    "### Eliminazione dei dati che non servono"
   ]
  },
  {
   "cell_type": "code",
   "execution_count": 6,
   "metadata": {},
   "outputs": [
    {
     "ename": "NotImplementedError",
     "evalue": "iLocation based boolean indexing on an integer type is not available",
     "output_type": "error",
     "traceback": [
      "\u001b[0;31m---------------------------------------------------------------------------\u001b[0m",
      "\u001b[0;31mNotImplementedError\u001b[0m                       Traceback (most recent call last)",
      "\u001b[0;32m/var/folders/m5/1xdj8pfj2cs3wjpc41g9qkj80000gn/T/ipykernel_1769/2817100800.py\u001b[0m in \u001b[0;36m<module>\u001b[0;34m\u001b[0m\n\u001b[1;32m      1\u001b[0m \u001b[0mb\u001b[0m \u001b[0;34m=\u001b[0m \u001b[0mdfConsumi\u001b[0m\u001b[0;34m[\u001b[0m\u001b[0;34m'NrArticolo'\u001b[0m\u001b[0;34m]\u001b[0m\u001b[0;34m.\u001b[0m\u001b[0misin\u001b[0m\u001b[0;34m(\u001b[0m\u001b[0mC\u001b[0m\u001b[0;34m.\u001b[0m\u001b[0mvalues\u001b[0m\u001b[0;34m.\u001b[0m\u001b[0mflatten\u001b[0m\u001b[0;34m(\u001b[0m\u001b[0;34m)\u001b[0m\u001b[0;34m)\u001b[0m\u001b[0;34m\u001b[0m\u001b[0;34m\u001b[0m\u001b[0m\n\u001b[0;32m----> 2\u001b[0;31m \u001b[0mdfConsumi\u001b[0m\u001b[0;34m.\u001b[0m\u001b[0miloc\u001b[0m\u001b[0;34m[\u001b[0m\u001b[0mb\u001b[0m\u001b[0;34m,\u001b[0m\u001b[0;34m:\u001b[0m\u001b[0;34m]\u001b[0m\u001b[0;34m\u001b[0m\u001b[0;34m\u001b[0m\u001b[0m\n\u001b[0m",
      "\u001b[0;32m~/miniforge3/lib/python3.9/site-packages/pandas/core/indexing.py\u001b[0m in \u001b[0;36m__getitem__\u001b[0;34m(self, key)\u001b[0m\n\u001b[1;32m    923\u001b[0m                 \u001b[0;32mwith\u001b[0m \u001b[0msuppress\u001b[0m\u001b[0;34m(\u001b[0m\u001b[0mKeyError\u001b[0m\u001b[0;34m,\u001b[0m \u001b[0mIndexError\u001b[0m\u001b[0;34m)\u001b[0m\u001b[0;34m:\u001b[0m\u001b[0;34m\u001b[0m\u001b[0;34m\u001b[0m\u001b[0m\n\u001b[1;32m    924\u001b[0m                     \u001b[0;32mreturn\u001b[0m \u001b[0mself\u001b[0m\u001b[0;34m.\u001b[0m\u001b[0mobj\u001b[0m\u001b[0;34m.\u001b[0m\u001b[0m_get_value\u001b[0m\u001b[0;34m(\u001b[0m\u001b[0;34m*\u001b[0m\u001b[0mkey\u001b[0m\u001b[0;34m,\u001b[0m \u001b[0mtakeable\u001b[0m\u001b[0;34m=\u001b[0m\u001b[0mself\u001b[0m\u001b[0;34m.\u001b[0m\u001b[0m_takeable\u001b[0m\u001b[0;34m)\u001b[0m\u001b[0;34m\u001b[0m\u001b[0;34m\u001b[0m\u001b[0m\n\u001b[0;32m--> 925\u001b[0;31m             \u001b[0;32mreturn\u001b[0m \u001b[0mself\u001b[0m\u001b[0;34m.\u001b[0m\u001b[0m_getitem_tuple\u001b[0m\u001b[0;34m(\u001b[0m\u001b[0mkey\u001b[0m\u001b[0;34m)\u001b[0m\u001b[0;34m\u001b[0m\u001b[0;34m\u001b[0m\u001b[0m\n\u001b[0m\u001b[1;32m    926\u001b[0m         \u001b[0;32melse\u001b[0m\u001b[0;34m:\u001b[0m\u001b[0;34m\u001b[0m\u001b[0;34m\u001b[0m\u001b[0m\n\u001b[1;32m    927\u001b[0m             \u001b[0;31m# we by definition only have the 0th axis\u001b[0m\u001b[0;34m\u001b[0m\u001b[0;34m\u001b[0m\u001b[0m\n",
      "\u001b[0;32m~/miniforge3/lib/python3.9/site-packages/pandas/core/indexing.py\u001b[0m in \u001b[0;36m_getitem_tuple\u001b[0;34m(self, tup)\u001b[0m\n\u001b[1;32m   1504\u001b[0m     \u001b[0;32mdef\u001b[0m \u001b[0m_getitem_tuple\u001b[0m\u001b[0;34m(\u001b[0m\u001b[0mself\u001b[0m\u001b[0;34m,\u001b[0m \u001b[0mtup\u001b[0m\u001b[0;34m:\u001b[0m \u001b[0mtuple\u001b[0m\u001b[0;34m)\u001b[0m\u001b[0;34m:\u001b[0m\u001b[0;34m\u001b[0m\u001b[0;34m\u001b[0m\u001b[0m\n\u001b[1;32m   1505\u001b[0m \u001b[0;34m\u001b[0m\u001b[0m\n\u001b[0;32m-> 1506\u001b[0;31m         \u001b[0mself\u001b[0m\u001b[0;34m.\u001b[0m\u001b[0m_has_valid_tuple\u001b[0m\u001b[0;34m(\u001b[0m\u001b[0mtup\u001b[0m\u001b[0;34m)\u001b[0m\u001b[0;34m\u001b[0m\u001b[0;34m\u001b[0m\u001b[0m\n\u001b[0m\u001b[1;32m   1507\u001b[0m         \u001b[0;32mwith\u001b[0m \u001b[0msuppress\u001b[0m\u001b[0;34m(\u001b[0m\u001b[0mIndexingError\u001b[0m\u001b[0;34m)\u001b[0m\u001b[0;34m:\u001b[0m\u001b[0;34m\u001b[0m\u001b[0;34m\u001b[0m\u001b[0m\n\u001b[1;32m   1508\u001b[0m             \u001b[0;32mreturn\u001b[0m \u001b[0mself\u001b[0m\u001b[0;34m.\u001b[0m\u001b[0m_getitem_lowerdim\u001b[0m\u001b[0;34m(\u001b[0m\u001b[0mtup\u001b[0m\u001b[0;34m)\u001b[0m\u001b[0;34m\u001b[0m\u001b[0;34m\u001b[0m\u001b[0m\n",
      "\u001b[0;32m~/miniforge3/lib/python3.9/site-packages/pandas/core/indexing.py\u001b[0m in \u001b[0;36m_has_valid_tuple\u001b[0;34m(self, key)\u001b[0m\n\u001b[1;32m    752\u001b[0m         \u001b[0;32mfor\u001b[0m \u001b[0mi\u001b[0m\u001b[0;34m,\u001b[0m \u001b[0mk\u001b[0m \u001b[0;32min\u001b[0m \u001b[0menumerate\u001b[0m\u001b[0;34m(\u001b[0m\u001b[0mkey\u001b[0m\u001b[0;34m)\u001b[0m\u001b[0;34m:\u001b[0m\u001b[0;34m\u001b[0m\u001b[0;34m\u001b[0m\u001b[0m\n\u001b[1;32m    753\u001b[0m             \u001b[0;32mtry\u001b[0m\u001b[0;34m:\u001b[0m\u001b[0;34m\u001b[0m\u001b[0;34m\u001b[0m\u001b[0m\n\u001b[0;32m--> 754\u001b[0;31m                 \u001b[0mself\u001b[0m\u001b[0;34m.\u001b[0m\u001b[0m_validate_key\u001b[0m\u001b[0;34m(\u001b[0m\u001b[0mk\u001b[0m\u001b[0;34m,\u001b[0m \u001b[0mi\u001b[0m\u001b[0;34m)\u001b[0m\u001b[0;34m\u001b[0m\u001b[0;34m\u001b[0m\u001b[0m\n\u001b[0m\u001b[1;32m    755\u001b[0m             \u001b[0;32mexcept\u001b[0m \u001b[0mValueError\u001b[0m \u001b[0;32mas\u001b[0m \u001b[0merr\u001b[0m\u001b[0;34m:\u001b[0m\u001b[0;34m\u001b[0m\u001b[0;34m\u001b[0m\u001b[0m\n\u001b[1;32m    756\u001b[0m                 raise ValueError(\n",
      "\u001b[0;32m~/miniforge3/lib/python3.9/site-packages/pandas/core/indexing.py\u001b[0m in \u001b[0;36m_validate_key\u001b[0;34m(self, key, axis)\u001b[0m\n\u001b[1;32m   1393\u001b[0m             \u001b[0;32mif\u001b[0m \u001b[0mhasattr\u001b[0m\u001b[0;34m(\u001b[0m\u001b[0mkey\u001b[0m\u001b[0;34m,\u001b[0m \u001b[0;34m\"index\"\u001b[0m\u001b[0;34m)\u001b[0m \u001b[0;32mand\u001b[0m \u001b[0misinstance\u001b[0m\u001b[0;34m(\u001b[0m\u001b[0mkey\u001b[0m\u001b[0;34m.\u001b[0m\u001b[0mindex\u001b[0m\u001b[0;34m,\u001b[0m \u001b[0mIndex\u001b[0m\u001b[0;34m)\u001b[0m\u001b[0;34m:\u001b[0m\u001b[0;34m\u001b[0m\u001b[0;34m\u001b[0m\u001b[0m\n\u001b[1;32m   1394\u001b[0m                 \u001b[0;32mif\u001b[0m \u001b[0mkey\u001b[0m\u001b[0;34m.\u001b[0m\u001b[0mindex\u001b[0m\u001b[0;34m.\u001b[0m\u001b[0minferred_type\u001b[0m \u001b[0;34m==\u001b[0m \u001b[0;34m\"integer\"\u001b[0m\u001b[0;34m:\u001b[0m\u001b[0;34m\u001b[0m\u001b[0;34m\u001b[0m\u001b[0m\n\u001b[0;32m-> 1395\u001b[0;31m                     raise NotImplementedError(\n\u001b[0m\u001b[1;32m   1396\u001b[0m                         \u001b[0;34m\"iLocation based boolean \"\u001b[0m\u001b[0;34m\u001b[0m\u001b[0;34m\u001b[0m\u001b[0m\n\u001b[1;32m   1397\u001b[0m                         \u001b[0;34m\"indexing on an integer type \"\u001b[0m\u001b[0;34m\u001b[0m\u001b[0;34m\u001b[0m\u001b[0m\n",
      "\u001b[0;31mNotImplementedError\u001b[0m: iLocation based boolean indexing on an integer type is not available"
     ]
    }
   ],
   "source": [
    "\n",
    "b = dfConsumi['NrArticolo'].isin(C.values.flatten())\n",
    "dfConsumi.iloc[b,:]\n"
   ]
  },
  {
   "cell_type": "code",
   "execution_count": null,
   "metadata": {},
   "outputs": [
    {
     "data": {
      "text/plain": [
       "(4519,)"
      ]
     },
     "execution_count": 39,
     "metadata": {},
     "output_type": "execute_result"
    }
   ],
   "source": [
    "import numpy \n",
    "b.shape\n"
   ]
  },
  {
   "cell_type": "code",
   "execution_count": null,
   "metadata": {},
   "outputs": [
    {
     "data": {
      "text/plain": [
       "0       False\n",
       "1       False\n",
       "2       False\n",
       "3       False\n",
       "4       False\n",
       "        ...  \n",
       "4514    False\n",
       "4515    False\n",
       "4516    False\n",
       "4517    False\n",
       "4518    False\n",
       "Name: NrArticolo, Length: 4519, dtype: bool"
      ]
     },
     "execution_count": 33,
     "metadata": {},
     "output_type": "execute_result"
    }
   ],
   "source": [
    "b"
   ]
  }
 ],
 "metadata": {
  "interpreter": {
   "hash": "4d107ec7e4cc286d04dd197e44863c8f859f25f04295a73ad253f41fad7b0dc0"
  },
  "kernelspec": {
   "display_name": "Python 3.9.7 64-bit ('base': conda)",
   "language": "python",
   "name": "python3"
  },
  "language_info": {
   "codemirror_mode": {
    "name": "ipython",
    "version": 3
   },
   "file_extension": ".py",
   "mimetype": "text/x-python",
   "name": "python",
   "nbconvert_exporter": "python",
   "pygments_lexer": "ipython3",
   "version": "3.9.7"
  },
  "orig_nbformat": 4
 },
 "nbformat": 4,
 "nbformat_minor": 2
}
