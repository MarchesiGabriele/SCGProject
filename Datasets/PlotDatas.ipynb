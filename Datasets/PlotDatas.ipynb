{
 "cells": [
  {
   "cell_type": "code",
   "execution_count": 115,
   "metadata": {},
   "outputs": [],
   "source": [
    "# %%capture\n",
    "# !pip install -U pandasql\n",
    "import numpy as np\n",
    "import pandas as pd\n",
    "from matplotlib import pyplot as plt\n",
    "import seaborn as sns\n",
    "import altair as alt\n",
    "import os.path\n",
    "import getpass\n",
    "import platform\n",
    "\n",
    "#import xlrd\n"
   ]
  },
  {
   "cell_type": "markdown",
   "metadata": {},
   "source": [
    "# Getting the user name for creating the directory"
   ]
  },
  {
   "cell_type": "code",
   "execution_count": 116,
   "metadata": {},
   "outputs": [
    {
     "name": "stdout",
     "output_type": "stream",
     "text": [
      "Username:  marcovinciguerra\n"
     ]
    }
   ],
   "source": [
    "username = getpass.getuser()\n",
    "\n",
    "print(\"Username: \", username)"
   ]
  },
  {
   "cell_type": "markdown",
   "metadata": {},
   "source": [
    "# Choosing the directory for the graphs"
   ]
  },
  {
   "cell_type": "code",
   "execution_count": 117,
   "metadata": {},
   "outputs": [
    {
     "name": "stdout",
     "output_type": "stream",
     "text": [
      "The OS is MACOS\n",
      "Complete path:  /Users/marcovinciguerra/Github/SCGProject/Datasets\n"
     ]
    }
   ],
   "source": [
    "pathPart1 = \"/Users/\"\n",
    "pathPart2 = \"/Github/SCGProject/Datasets\"\n",
    "complePath = pathPart1+username+pathPart2\n",
    "\n",
    "\n",
    "\n",
    "if platform.system() == \"Darwin\":\n",
    "    print(\"The OS is MACOS\")\n",
    "    print(\"Complete path: \", complePath)\n",
    "    dload = os.chdir(complePath)\n",
    "\n",
    "elif platform.system() == \"Linux\":\n",
    "    print(\"The OS is Linux\")\n",
    "    print(\"Complete path: \", complePath)\n",
    "    dload = os.chdir(complePath)\n",
    "\n",
    "else: \n",
    "    print(\"The OS is Windows\")\n",
    "\n",
    "    pathwin = \"C:\\SCGProject\\CorrectedDatasets\"\n",
    "    print(\"Complete path: \", pathwin)\n",
    "    dload = os.chdir(pathwin)\n"
   ]
  },
  {
   "cell_type": "markdown",
   "metadata": {},
   "source": [
    "# Clienti"
   ]
  },
  {
   "cell_type": "code",
   "execution_count": 118,
   "metadata": {},
   "outputs": [
    {
     "data": {
      "text/html": [
       "<div>\n",
       "<style scoped>\n",
       "    .dataframe tbody tr th:only-of-type {\n",
       "        vertical-align: middle;\n",
       "    }\n",
       "\n",
       "    .dataframe tbody tr th {\n",
       "        vertical-align: top;\n",
       "    }\n",
       "\n",
       "    .dataframe thead th {\n",
       "        text-align: right;\n",
       "    }\n",
       "</style>\n",
       "<table border=\"1\" class=\"dataframe\">\n",
       "  <thead>\n",
       "    <tr style=\"text-align: right;\">\n",
       "      <th></th>\n",
       "      <th>Unnamed: 0</th>\n",
       "      <th>Nr.</th>\n",
       "      <th>Cod. condizioni pagam.</th>\n",
       "      <th>Fatt. cumulative</th>\n",
       "      <th>Valuta</th>\n",
       "    </tr>\n",
       "  </thead>\n",
       "  <tbody>\n",
       "    <tr>\n",
       "      <th>0</th>\n",
       "      <td>0</td>\n",
       "      <td>C00001</td>\n",
       "      <td>101</td>\n",
       "      <td>False</td>\n",
       "      <td>1</td>\n",
       "    </tr>\n",
       "    <tr>\n",
       "      <th>1</th>\n",
       "      <td>1</td>\n",
       "      <td>C00003</td>\n",
       "      <td>102</td>\n",
       "      <td>False</td>\n",
       "      <td>2</td>\n",
       "    </tr>\n",
       "    <tr>\n",
       "      <th>2</th>\n",
       "      <td>2</td>\n",
       "      <td>C00004</td>\n",
       "      <td>102</td>\n",
       "      <td>False</td>\n",
       "      <td>3</td>\n",
       "    </tr>\n",
       "    <tr>\n",
       "      <th>3</th>\n",
       "      <td>3</td>\n",
       "      <td>C00005</td>\n",
       "      <td>112</td>\n",
       "      <td>False</td>\n",
       "      <td>1</td>\n",
       "    </tr>\n",
       "    <tr>\n",
       "      <th>4</th>\n",
       "      <td>4</td>\n",
       "      <td>C00006</td>\n",
       "      <td>101</td>\n",
       "      <td>False</td>\n",
       "      <td>2</td>\n",
       "    </tr>\n",
       "  </tbody>\n",
       "</table>\n",
       "</div>"
      ],
      "text/plain": [
       "   Unnamed: 0     Nr.  Cod. condizioni pagam.  Fatt. cumulative  Valuta\n",
       "0           0  C00001                     101             False       1\n",
       "1           1  C00003                     102             False       2\n",
       "2           2  C00004                     102             False       3\n",
       "3           3  C00005                     112             False       1\n",
       "4           4  C00006                     101             False       2"
      ]
     },
     "execution_count": 118,
     "metadata": {},
     "output_type": "execute_result"
    }
   ],
   "source": [
    "dfClienti = pd.read_csv('CorrectedDatasets/dfClienti.csv')\n",
    "\n",
    "dfClienti.head()"
   ]
  },
  {
   "cell_type": "code",
   "execution_count": 119,
   "metadata": {},
   "outputs": [
    {
     "data": {
      "text/html": [
       "<div>\n",
       "<style scoped>\n",
       "    .dataframe tbody tr th:only-of-type {\n",
       "        vertical-align: middle;\n",
       "    }\n",
       "\n",
       "    .dataframe tbody tr th {\n",
       "        vertical-align: top;\n",
       "    }\n",
       "\n",
       "    .dataframe thead th {\n",
       "        text-align: right;\n",
       "    }\n",
       "</style>\n",
       "<table border=\"1\" class=\"dataframe\">\n",
       "  <thead>\n",
       "    <tr style=\"text-align: right;\">\n",
       "      <th></th>\n",
       "      <th>Unnamed: 0</th>\n",
       "      <th>Nr.</th>\n",
       "      <th>Cod. condizioni pagam.</th>\n",
       "      <th>Fatt. cumulative</th>\n",
       "      <th>Valuta</th>\n",
       "      <th>Valuta</th>\n",
       "    </tr>\n",
       "  </thead>\n",
       "  <tbody>\n",
       "    <tr>\n",
       "      <th>0</th>\n",
       "      <td>0</td>\n",
       "      <td>C00001</td>\n",
       "      <td>101</td>\n",
       "      <td>False</td>\n",
       "      <td>Euro</td>\n",
       "      <td>1</td>\n",
       "    </tr>\n",
       "    <tr>\n",
       "      <th>3</th>\n",
       "      <td>3</td>\n",
       "      <td>C00005</td>\n",
       "      <td>112</td>\n",
       "      <td>False</td>\n",
       "      <td>Euro</td>\n",
       "      <td>1</td>\n",
       "    </tr>\n",
       "    <tr>\n",
       "      <th>6</th>\n",
       "      <td>6</td>\n",
       "      <td>C00008</td>\n",
       "      <td>101</td>\n",
       "      <td>False</td>\n",
       "      <td>Euro</td>\n",
       "      <td>1</td>\n",
       "    </tr>\n",
       "    <tr>\n",
       "      <th>9</th>\n",
       "      <td>9</td>\n",
       "      <td>C00011</td>\n",
       "      <td>101</td>\n",
       "      <td>False</td>\n",
       "      <td>Euro</td>\n",
       "      <td>1</td>\n",
       "    </tr>\n",
       "    <tr>\n",
       "      <th>12</th>\n",
       "      <td>12</td>\n",
       "      <td>C00017</td>\n",
       "      <td>101</td>\n",
       "      <td>False</td>\n",
       "      <td>Euro</td>\n",
       "      <td>1</td>\n",
       "    </tr>\n",
       "  </tbody>\n",
       "</table>\n",
       "</div>"
      ],
      "text/plain": [
       "    Unnamed: 0     Nr.  Cod. condizioni pagam.  Fatt. cumulative  Valuta  \\\n",
       "0            0  C00001                     101             False    Euro   \n",
       "3            3  C00005                     112             False    Euro   \n",
       "6            6  C00008                     101             False    Euro   \n",
       "9            9  C00011                     101             False    Euro   \n",
       "12          12  C00017                     101             False    Euro   \n",
       "\n",
       "    Valuta  \n",
       "0        1  \n",
       "3        1  \n",
       "6        1  \n",
       "9        1  \n",
       "12       1  "
      ]
     },
     "execution_count": 119,
     "metadata": {},
     "output_type": "execute_result"
    }
   ],
   "source": [
    "#1: Euro\n",
    "indice1 = dfClienti.loc[dfClienti.Valuta == 1, :]\n",
    "\n",
    "indice1.insert(loc=4, column='Valuta',\n",
    "               value='Euro', allow_duplicates=True)\n",
    "\n",
    "#2: Dollaro\n",
    "indice2 = dfClienti.loc[dfClienti.Valuta == 2, :]\n",
    "\n",
    "indice2.insert(loc=4, column='Valuta',\n",
    "               value='Dollaro', allow_duplicates=True)\n",
    "\n",
    "\n",
    "#3: Yen\n",
    "indice3 = dfClienti.loc[dfClienti.Valuta == 3, :]\n",
    "\n",
    "indice3.insert(loc=4, column='Valuta',\n",
    "               value='Dollaro', allow_duplicates=True)\n",
    "\n",
    "#Unione delle sottotabelle\n",
    "union = pd.concat([indice1, indice2, indice3])\n",
    "\n",
    "union.head()"
   ]
  },
  {
   "cell_type": "markdown",
   "metadata": {},
   "source": [
    "# Consumi"
   ]
  },
  {
   "cell_type": "code",
   "execution_count": 120,
   "metadata": {},
   "outputs": [
    {
     "data": {
      "text/html": [
       "<div>\n",
       "<style scoped>\n",
       "    .dataframe tbody tr th:only-of-type {\n",
       "        vertical-align: middle;\n",
       "    }\n",
       "\n",
       "    .dataframe tbody tr th {\n",
       "        vertical-align: top;\n",
       "    }\n",
       "\n",
       "    .dataframe thead th {\n",
       "        text-align: right;\n",
       "    }\n",
       "</style>\n",
       "<table border=\"1\" class=\"dataframe\">\n",
       "  <thead>\n",
       "    <tr style=\"text-align: right;\">\n",
       "      <th></th>\n",
       "      <th>Unnamed: 0</th>\n",
       "      <th>NrMovimento</th>\n",
       "      <th>Budget/cons</th>\n",
       "      <th>CodiceMP</th>\n",
       "      <th>NrArticolo</th>\n",
       "      <th>NrDocumento</th>\n",
       "      <th>QuantityMPImpiegata</th>\n",
       "      <th>ImportoCostoTOTALE</th>\n",
       "    </tr>\n",
       "  </thead>\n",
       "  <tbody>\n",
       "    <tr>\n",
       "      <th>0</th>\n",
       "      <td>0</td>\n",
       "      <td>21684</td>\n",
       "      <td>BUDGET</td>\n",
       "      <td>ART0001929</td>\n",
       "      <td>ART0000788</td>\n",
       "      <td>ODP16-16812</td>\n",
       "      <td>1.0</td>\n",
       "      <td>126.01</td>\n",
       "    </tr>\n",
       "    <tr>\n",
       "      <th>1</th>\n",
       "      <td>1</td>\n",
       "      <td>21685</td>\n",
       "      <td>BUDGET</td>\n",
       "      <td>ART0001820</td>\n",
       "      <td>ART0000788</td>\n",
       "      <td>ODP16-16812</td>\n",
       "      <td>1.0</td>\n",
       "      <td>52.71</td>\n",
       "    </tr>\n",
       "    <tr>\n",
       "      <th>2</th>\n",
       "      <td>2</td>\n",
       "      <td>21686</td>\n",
       "      <td>BUDGET</td>\n",
       "      <td>ART0005137</td>\n",
       "      <td>ART0000788</td>\n",
       "      <td>ODP16-16812</td>\n",
       "      <td>1.0</td>\n",
       "      <td>0.00</td>\n",
       "    </tr>\n",
       "    <tr>\n",
       "      <th>3</th>\n",
       "      <td>3</td>\n",
       "      <td>21687</td>\n",
       "      <td>BUDGET</td>\n",
       "      <td>ART0005138</td>\n",
       "      <td>ART0000788</td>\n",
       "      <td>ODP16-16812</td>\n",
       "      <td>1.0</td>\n",
       "      <td>0.00</td>\n",
       "    </tr>\n",
       "    <tr>\n",
       "      <th>4</th>\n",
       "      <td>4</td>\n",
       "      <td>21688</td>\n",
       "      <td>BUDGET</td>\n",
       "      <td>ART0005139</td>\n",
       "      <td>ART0000788</td>\n",
       "      <td>ODP16-16812</td>\n",
       "      <td>1.0</td>\n",
       "      <td>0.32</td>\n",
       "    </tr>\n",
       "  </tbody>\n",
       "</table>\n",
       "</div>"
      ],
      "text/plain": [
       "   Unnamed: 0  NrMovimento Budget/cons    CodiceMP  NrArticolo  NrDocumento  \\\n",
       "0           0        21684      BUDGET  ART0001929  ART0000788  ODP16-16812   \n",
       "1           1        21685      BUDGET  ART0001820  ART0000788  ODP16-16812   \n",
       "2           2        21686      BUDGET  ART0005137  ART0000788  ODP16-16812   \n",
       "3           3        21687      BUDGET  ART0005138  ART0000788  ODP16-16812   \n",
       "4           4        21688      BUDGET  ART0005139  ART0000788  ODP16-16812   \n",
       "\n",
       "   QuantityMPImpiegata  ImportoCostoTOTALE  \n",
       "0                  1.0              126.01  \n",
       "1                  1.0               52.71  \n",
       "2                  1.0                0.00  \n",
       "3                  1.0                0.00  \n",
       "4                  1.0                0.32  "
      ]
     },
     "execution_count": 120,
     "metadata": {},
     "output_type": "execute_result"
    }
   ],
   "source": [
    "dfConsumi = pd.read_csv('CorrectedDatasets/dfConsumi.csv')\n",
    "\n",
    "dfConsumi.head()"
   ]
  },
  {
   "cell_type": "markdown",
   "metadata": {},
   "source": [
    "# Costo orario risorse - budget"
   ]
  },
  {
   "cell_type": "code",
   "execution_count": 121,
   "metadata": {},
   "outputs": [
    {
     "data": {
      "text/html": [
       "<div>\n",
       "<style scoped>\n",
       "    .dataframe tbody tr th:only-of-type {\n",
       "        vertical-align: middle;\n",
       "    }\n",
       "\n",
       "    .dataframe tbody tr th {\n",
       "        vertical-align: top;\n",
       "    }\n",
       "\n",
       "    .dataframe thead th {\n",
       "        text-align: right;\n",
       "    }\n",
       "</style>\n",
       "<table border=\"1\" class=\"dataframe\">\n",
       "  <thead>\n",
       "    <tr style=\"text-align: right;\">\n",
       "      <th></th>\n",
       "      <th>Unnamed: 0</th>\n",
       "      <th>NrArticolo</th>\n",
       "      <th>budgetConsuntivo</th>\n",
       "      <th>NrOrdineProduzione</th>\n",
       "      <th>Descrizione</th>\n",
       "      <th>NrAreaProduzione</th>\n",
       "      <th>Risorsa</th>\n",
       "      <th>TempoRisorsa</th>\n",
       "      <th>QuantitydiOutput</th>\n",
       "    </tr>\n",
       "  </thead>\n",
       "  <tbody>\n",
       "    <tr>\n",
       "      <th>0</th>\n",
       "      <td>0</td>\n",
       "      <td>ART0000788</td>\n",
       "      <td>BUDGET</td>\n",
       "      <td>ODP16-16812</td>\n",
       "      <td>Montaggio</td>\n",
       "      <td>A40</td>\n",
       "      <td>RIS4</td>\n",
       "      <td>0.25</td>\n",
       "      <td>1.0</td>\n",
       "    </tr>\n",
       "    <tr>\n",
       "      <th>1</th>\n",
       "      <td>1</td>\n",
       "      <td>ART0000756</td>\n",
       "      <td>BUDGET</td>\n",
       "      <td>ODP16-15232</td>\n",
       "      <td>Montaggio</td>\n",
       "      <td>A40</td>\n",
       "      <td>RIS4</td>\n",
       "      <td>1.00</td>\n",
       "      <td>2.0</td>\n",
       "    </tr>\n",
       "    <tr>\n",
       "      <th>2</th>\n",
       "      <td>2</td>\n",
       "      <td>ART0000772</td>\n",
       "      <td>BUDGET</td>\n",
       "      <td>ODP16-15712</td>\n",
       "      <td>Montaggio</td>\n",
       "      <td>A40</td>\n",
       "      <td>RIS4</td>\n",
       "      <td>1.25</td>\n",
       "      <td>1.0</td>\n",
       "    </tr>\n",
       "    <tr>\n",
       "      <th>3</th>\n",
       "      <td>3</td>\n",
       "      <td>ART0000762</td>\n",
       "      <td>BUDGET</td>\n",
       "      <td>ODP16-14704</td>\n",
       "      <td>Montaggio</td>\n",
       "      <td>A40</td>\n",
       "      <td>RIS4</td>\n",
       "      <td>3.00</td>\n",
       "      <td>10.0</td>\n",
       "    </tr>\n",
       "    <tr>\n",
       "      <th>4</th>\n",
       "      <td>4</td>\n",
       "      <td>ART0000762</td>\n",
       "      <td>BUDGET</td>\n",
       "      <td>ODP16-14704</td>\n",
       "      <td>Controllo qualità</td>\n",
       "      <td>CQ</td>\n",
       "      <td>RIS16</td>\n",
       "      <td>0.00</td>\n",
       "      <td>10.0</td>\n",
       "    </tr>\n",
       "  </tbody>\n",
       "</table>\n",
       "</div>"
      ],
      "text/plain": [
       "   Unnamed: 0  NrArticolo budgetConsuntivo NrOrdineProduzione  \\\n",
       "0           0  ART0000788           BUDGET        ODP16-16812   \n",
       "1           1  ART0000756           BUDGET        ODP16-15232   \n",
       "2           2  ART0000772           BUDGET        ODP16-15712   \n",
       "3           3  ART0000762           BUDGET        ODP16-14704   \n",
       "4           4  ART0000762           BUDGET        ODP16-14704   \n",
       "\n",
       "         Descrizione NrAreaProduzione Risorsa  TempoRisorsa  QuantitydiOutput  \n",
       "0          Montaggio              A40    RIS4          0.25               1.0  \n",
       "1          Montaggio              A40    RIS4          1.00               2.0  \n",
       "2          Montaggio              A40    RIS4          1.25               1.0  \n",
       "3          Montaggio              A40    RIS4          3.00              10.0  \n",
       "4  Controllo qualità               CQ   RIS16          0.00              10.0  "
      ]
     },
     "execution_count": 121,
     "metadata": {},
     "output_type": "execute_result"
    }
   ],
   "source": [
    "dfCostoOrario = pd.read_csv(\n",
    "    'CorrectedDatasets/dfImpiegoRisorse.csv')\n",
    "\n",
    "\n",
    "dfCostoOrario.head()"
   ]
  },
  {
   "cell_type": "markdown",
   "metadata": {},
   "source": [
    "# Costo orario risorse - consuntivo"
   ]
  },
  {
   "cell_type": "code",
   "execution_count": 122,
   "metadata": {},
   "outputs": [
    {
     "data": {
      "text/html": [
       "<div>\n",
       "<style scoped>\n",
       "    .dataframe tbody tr th:only-of-type {\n",
       "        vertical-align: middle;\n",
       "    }\n",
       "\n",
       "    .dataframe tbody tr th {\n",
       "        vertical-align: top;\n",
       "    }\n",
       "\n",
       "    .dataframe thead th {\n",
       "        text-align: right;\n",
       "    }\n",
       "</style>\n",
       "<table border=\"1\" class=\"dataframe\">\n",
       "  <thead>\n",
       "    <tr style=\"text-align: right;\">\n",
       "      <th></th>\n",
       "      <th>Unnamed: 0</th>\n",
       "      <th>Risorsa</th>\n",
       "      <th>AreaProduzione</th>\n",
       "      <th>CostoOrario</th>\n",
       "    </tr>\n",
       "  </thead>\n",
       "  <tbody>\n",
       "    <tr>\n",
       "      <th>0</th>\n",
       "      <td>0</td>\n",
       "      <td>RIS1</td>\n",
       "      <td>A10</td>\n",
       "      <td>51.0</td>\n",
       "    </tr>\n",
       "    <tr>\n",
       "      <th>1</th>\n",
       "      <td>1</td>\n",
       "      <td>RIS1</td>\n",
       "      <td>A11</td>\n",
       "      <td>51.0</td>\n",
       "    </tr>\n",
       "    <tr>\n",
       "      <th>2</th>\n",
       "      <td>2</td>\n",
       "      <td>RIS1</td>\n",
       "      <td>A20</td>\n",
       "      <td>68.0</td>\n",
       "    </tr>\n",
       "    <tr>\n",
       "      <th>3</th>\n",
       "      <td>3</td>\n",
       "      <td>RIS1</td>\n",
       "      <td>A30</td>\n",
       "      <td>68.0</td>\n",
       "    </tr>\n",
       "    <tr>\n",
       "      <th>4</th>\n",
       "      <td>4</td>\n",
       "      <td>RIS1</td>\n",
       "      <td>A32</td>\n",
       "      <td>51.0</td>\n",
       "    </tr>\n",
       "  </tbody>\n",
       "</table>\n",
       "</div>"
      ],
      "text/plain": [
       "   Unnamed: 0 Risorsa AreaProduzione  CostoOrario\n",
       "0           0    RIS1            A10         51.0\n",
       "1           1    RIS1            A11         51.0\n",
       "2           2    RIS1            A20         68.0\n",
       "3           3    RIS1            A30         68.0\n",
       "4           4    RIS1            A32         51.0"
      ]
     },
     "execution_count": 122,
     "metadata": {},
     "output_type": "execute_result"
    }
   ],
   "source": [
    "dfConsuntivo = pd.read_csv(\n",
    "    'CorrectedDatasets/dfCostoOrario.csv')\n",
    "\n",
    "dfConsuntivo.head()"
   ]
  },
  {
   "cell_type": "markdown",
   "metadata": {},
   "source": [
    "# Impiego orario risorse"
   ]
  },
  {
   "cell_type": "code",
   "execution_count": 123,
   "metadata": {},
   "outputs": [
    {
     "data": {
      "text/html": [
       "<div>\n",
       "<style scoped>\n",
       "    .dataframe tbody tr th:only-of-type {\n",
       "        vertical-align: middle;\n",
       "    }\n",
       "\n",
       "    .dataframe tbody tr th {\n",
       "        vertical-align: top;\n",
       "    }\n",
       "\n",
       "    .dataframe thead th {\n",
       "        text-align: right;\n",
       "    }\n",
       "</style>\n",
       "<table border=\"1\" class=\"dataframe\">\n",
       "  <thead>\n",
       "    <tr style=\"text-align: right;\">\n",
       "      <th></th>\n",
       "      <th>Unnamed: 0</th>\n",
       "      <th>NrArticolo</th>\n",
       "      <th>budgetConsuntivo</th>\n",
       "      <th>NrOrdineProduzione</th>\n",
       "      <th>Descrizione</th>\n",
       "      <th>NrAreaProduzione</th>\n",
       "      <th>Risorsa</th>\n",
       "      <th>TempoRisorsa</th>\n",
       "      <th>QuantitydiOutput</th>\n",
       "    </tr>\n",
       "  </thead>\n",
       "  <tbody>\n",
       "    <tr>\n",
       "      <th>0</th>\n",
       "      <td>0</td>\n",
       "      <td>ART0000788</td>\n",
       "      <td>BUDGET</td>\n",
       "      <td>ODP16-16812</td>\n",
       "      <td>Montaggio</td>\n",
       "      <td>A40</td>\n",
       "      <td>RIS4</td>\n",
       "      <td>0.25</td>\n",
       "      <td>1.0</td>\n",
       "    </tr>\n",
       "    <tr>\n",
       "      <th>1</th>\n",
       "      <td>1</td>\n",
       "      <td>ART0000756</td>\n",
       "      <td>BUDGET</td>\n",
       "      <td>ODP16-15232</td>\n",
       "      <td>Montaggio</td>\n",
       "      <td>A40</td>\n",
       "      <td>RIS4</td>\n",
       "      <td>1.00</td>\n",
       "      <td>2.0</td>\n",
       "    </tr>\n",
       "    <tr>\n",
       "      <th>2</th>\n",
       "      <td>2</td>\n",
       "      <td>ART0000772</td>\n",
       "      <td>BUDGET</td>\n",
       "      <td>ODP16-15712</td>\n",
       "      <td>Montaggio</td>\n",
       "      <td>A40</td>\n",
       "      <td>RIS4</td>\n",
       "      <td>1.25</td>\n",
       "      <td>1.0</td>\n",
       "    </tr>\n",
       "    <tr>\n",
       "      <th>3</th>\n",
       "      <td>3</td>\n",
       "      <td>ART0000762</td>\n",
       "      <td>BUDGET</td>\n",
       "      <td>ODP16-14704</td>\n",
       "      <td>Montaggio</td>\n",
       "      <td>A40</td>\n",
       "      <td>RIS4</td>\n",
       "      <td>3.00</td>\n",
       "      <td>10.0</td>\n",
       "    </tr>\n",
       "    <tr>\n",
       "      <th>4</th>\n",
       "      <td>4</td>\n",
       "      <td>ART0000762</td>\n",
       "      <td>BUDGET</td>\n",
       "      <td>ODP16-14704</td>\n",
       "      <td>Controllo qualità</td>\n",
       "      <td>CQ</td>\n",
       "      <td>RIS16</td>\n",
       "      <td>0.00</td>\n",
       "      <td>10.0</td>\n",
       "    </tr>\n",
       "  </tbody>\n",
       "</table>\n",
       "</div>"
      ],
      "text/plain": [
       "   Unnamed: 0  NrArticolo budgetConsuntivo NrOrdineProduzione  \\\n",
       "0           0  ART0000788           BUDGET        ODP16-16812   \n",
       "1           1  ART0000756           BUDGET        ODP16-15232   \n",
       "2           2  ART0000772           BUDGET        ODP16-15712   \n",
       "3           3  ART0000762           BUDGET        ODP16-14704   \n",
       "4           4  ART0000762           BUDGET        ODP16-14704   \n",
       "\n",
       "         Descrizione NrAreaProduzione Risorsa  TempoRisorsa  QuantitydiOutput  \n",
       "0          Montaggio              A40    RIS4          0.25               1.0  \n",
       "1          Montaggio              A40    RIS4          1.00               2.0  \n",
       "2          Montaggio              A40    RIS4          1.25               1.0  \n",
       "3          Montaggio              A40    RIS4          3.00              10.0  \n",
       "4  Controllo qualità               CQ   RIS16          0.00              10.0  "
      ]
     },
     "execution_count": 123,
     "metadata": {},
     "output_type": "execute_result"
    }
   ],
   "source": [
    "dfImpiegoRisorse = pd.read_csv(\n",
    "    'CorrectedDatasets/dfImpiegoRisorse.csv')\n",
    "\n",
    "dfImpiegoRisorse.head()"
   ]
  },
  {
   "cell_type": "markdown",
   "metadata": {},
   "source": [
    "# Tassi di cambio"
   ]
  },
  {
   "cell_type": "code",
   "execution_count": 124,
   "metadata": {},
   "outputs": [
    {
     "data": {
      "text/html": [
       "<div>\n",
       "<style scoped>\n",
       "    .dataframe tbody tr th:only-of-type {\n",
       "        vertical-align: middle;\n",
       "    }\n",
       "\n",
       "    .dataframe tbody tr th {\n",
       "        vertical-align: top;\n",
       "    }\n",
       "\n",
       "    .dataframe thead th {\n",
       "        text-align: right;\n",
       "    }\n",
       "</style>\n",
       "<table border=\"1\" class=\"dataframe\">\n",
       "  <thead>\n",
       "    <tr style=\"text-align: right;\">\n",
       "      <th></th>\n",
       "      <th>Unnamed: 0</th>\n",
       "      <th>CodiceValuta</th>\n",
       "      <th>Anno</th>\n",
       "      <th>TassoCambioMedio</th>\n",
       "    </tr>\n",
       "  </thead>\n",
       "  <tbody>\n",
       "    <tr>\n",
       "      <th>0</th>\n",
       "      <td>0</td>\n",
       "      <td>1</td>\n",
       "      <td>BUDGET</td>\n",
       "      <td>1</td>\n",
       "    </tr>\n",
       "    <tr>\n",
       "      <th>1</th>\n",
       "      <td>1</td>\n",
       "      <td>2</td>\n",
       "      <td>BUDGET</td>\n",
       "      <td>1,0541</td>\n",
       "    </tr>\n",
       "    <tr>\n",
       "      <th>2</th>\n",
       "      <td>2</td>\n",
       "      <td>3</td>\n",
       "      <td>BUDGET</td>\n",
       "      <td>123.4</td>\n",
       "    </tr>\n",
       "    <tr>\n",
       "      <th>3</th>\n",
       "      <td>3</td>\n",
       "      <td>1</td>\n",
       "      <td>CONSUNTIVO</td>\n",
       "      <td>1</td>\n",
       "    </tr>\n",
       "    <tr>\n",
       "      <th>4</th>\n",
       "      <td>4</td>\n",
       "      <td>2</td>\n",
       "      <td>CONSUNTIVO</td>\n",
       "      <td>1,1993</td>\n",
       "    </tr>\n",
       "  </tbody>\n",
       "</table>\n",
       "</div>"
      ],
      "text/plain": [
       "   Unnamed: 0  CodiceValuta        Anno TassoCambioMedio\n",
       "0           0             1      BUDGET                1\n",
       "1           1             2      BUDGET           1,0541\n",
       "2           2             3      BUDGET            123.4\n",
       "3           3             1  CONSUNTIVO                1\n",
       "4           4             2  CONSUNTIVO           1,1993"
      ]
     },
     "execution_count": 124,
     "metadata": {},
     "output_type": "execute_result"
    }
   ],
   "source": [
    "dfCambio = pd.read_csv('CorrectedDatasets/dfCambio.csv')\n",
    "\n",
    "dfCambio.head()"
   ]
  },
  {
   "cell_type": "markdown",
   "metadata": {},
   "source": [
    "# Vendite"
   ]
  },
  {
   "cell_type": "code",
   "execution_count": 125,
   "metadata": {},
   "outputs": [
    {
     "data": {
      "text/html": [
       "<div>\n",
       "<style scoped>\n",
       "    .dataframe tbody tr th:only-of-type {\n",
       "        vertical-align: middle;\n",
       "    }\n",
       "\n",
       "    .dataframe tbody tr th {\n",
       "        vertical-align: top;\n",
       "    }\n",
       "\n",
       "    .dataframe thead th {\n",
       "        text-align: right;\n",
       "    }\n",
       "</style>\n",
       "<table border=\"1\" class=\"dataframe\">\n",
       "  <thead>\n",
       "    <tr style=\"text-align: right;\">\n",
       "      <th></th>\n",
       "      <th>Unnamed: 0</th>\n",
       "      <th>NrMovimento</th>\n",
       "      <th>budget/cons</th>\n",
       "      <th>NrArticolo</th>\n",
       "      <th>NrOrigine</th>\n",
       "      <th>Quantity</th>\n",
       "      <th>ImportoVenditaValutaLocaleTOTALEVENDITA</th>\n",
       "    </tr>\n",
       "  </thead>\n",
       "  <tbody>\n",
       "    <tr>\n",
       "      <th>0</th>\n",
       "      <td>0</td>\n",
       "      <td>21621</td>\n",
       "      <td>BUDGET</td>\n",
       "      <td>ART0001433</td>\n",
       "      <td>C00140</td>\n",
       "      <td>4</td>\n",
       "      <td>18.80</td>\n",
       "    </tr>\n",
       "    <tr>\n",
       "      <th>1</th>\n",
       "      <td>1</td>\n",
       "      <td>21629</td>\n",
       "      <td>BUDGET</td>\n",
       "      <td>ART0001610</td>\n",
       "      <td>C00140</td>\n",
       "      <td>12</td>\n",
       "      <td>145.28</td>\n",
       "    </tr>\n",
       "    <tr>\n",
       "      <th>2</th>\n",
       "      <td>2</td>\n",
       "      <td>21631</td>\n",
       "      <td>BUDGET</td>\n",
       "      <td>ART0003269</td>\n",
       "      <td>C00140</td>\n",
       "      <td>24</td>\n",
       "      <td>933.99</td>\n",
       "    </tr>\n",
       "    <tr>\n",
       "      <th>3</th>\n",
       "      <td>3</td>\n",
       "      <td>21633</td>\n",
       "      <td>BUDGET</td>\n",
       "      <td>ART0002249</td>\n",
       "      <td>C00140</td>\n",
       "      <td>1</td>\n",
       "      <td>36.33</td>\n",
       "    </tr>\n",
       "    <tr>\n",
       "      <th>4</th>\n",
       "      <td>4</td>\n",
       "      <td>21634</td>\n",
       "      <td>BUDGET</td>\n",
       "      <td>ART0002370</td>\n",
       "      <td>C00140</td>\n",
       "      <td>1</td>\n",
       "      <td>65.72</td>\n",
       "    </tr>\n",
       "  </tbody>\n",
       "</table>\n",
       "</div>"
      ],
      "text/plain": [
       "   Unnamed: 0  NrMovimento budget/cons  NrArticolo NrOrigine  Quantity  \\\n",
       "0           0        21621      BUDGET  ART0001433    C00140         4   \n",
       "1           1        21629      BUDGET  ART0001610    C00140        12   \n",
       "2           2        21631      BUDGET  ART0003269    C00140        24   \n",
       "3           3        21633      BUDGET  ART0002249    C00140         1   \n",
       "4           4        21634      BUDGET  ART0002370    C00140         1   \n",
       "\n",
       "   ImportoVenditaValutaLocaleTOTALEVENDITA  \n",
       "0                                    18.80  \n",
       "1                                   145.28  \n",
       "2                                   933.99  \n",
       "3                                    36.33  \n",
       "4                                    65.72  "
      ]
     },
     "execution_count": 125,
     "metadata": {},
     "output_type": "execute_result"
    }
   ],
   "source": [
    "dfVendite = pd.read_csv('CorrectedDatasets/dfVendite.csv')\n",
    "\n",
    "\n",
    "dfVendite.head()\n"
   ]
  },
  {
   "cell_type": "markdown",
   "metadata": {},
   "source": [
    "# Plot and saving the graphs"
   ]
  },
  {
   "cell_type": "markdown",
   "metadata": {},
   "source": [
    "# New directory"
   ]
  },
  {
   "cell_type": "code",
   "execution_count": 126,
   "metadata": {},
   "outputs": [
    {
     "name": "stdout",
     "output_type": "stream",
     "text": [
      "Username:  marcovinciguerra\n",
      "The OS is MACOS\n",
      "Complete path:  /Users/marcovinciguerra/Github/SCGProject/Datasets/Graphs\n"
     ]
    }
   ],
   "source": [
    "username = getpass.getuser()\n",
    "\n",
    "pathPart1 = \"/Users/\"\n",
    "pathPart2New = \"/Github/SCGProject/Datasets/Graphs\"\n",
    "complePath = pathPart1+username+pathPart2New\n",
    "\n",
    "print(\"Username: \", username)\n",
    "\n",
    "if platform.system() == \"Darwin\":    \n",
    "    print(\"The OS is MACOS\")\n",
    "    print(\"Complete path: \", complePath)\n",
    "    dload = os.chdir(complePath)\n",
    "\n",
    "elif platform.system() == \"Linux\":\n",
    "    print(\"The OS is Linux\")\n",
    "    print(\"Complete path: \", complePath)\n",
    "\n",
    "    dload = os.chdir(complePath)\n",
    "else:\n",
    "    print(\"The OS is Windows\")\n",
    "    print(\"Complete path: \", pathwin)\n",
    "    pathwin = \"C:\\SCGProject\\Datasets\\Graphs\"\n",
    "    dload = os.chdir(pathwin)\n"
   ]
  },
  {
   "cell_type": "code",
   "execution_count": 127,
   "metadata": {},
   "outputs": [
    {
     "data": {
      "image/png": "[encoded data removed]",
      "text/plain": [
       "<Figure size 432x288 with 1 Axes>"
      ]
     },
     "metadata": {
      "needs_background": "light"
     },
     "output_type": "display_data"
    }
   ],
   "source": [
    "sns.histplot(union.Valuta)\n",
    "plt.savefig('Valuta.jpeg')"
   ]
  },
  {
   "cell_type": "code",
   "execution_count": 128,
   "metadata": {},
   "outputs": [
    {
     "data": {
      "image/png": "[encoded data removed]",
      "text/plain": [
       "<Figure size 432x288 with 1 Axes>"
      ]
     },
     "metadata": {
      "needs_background": "light"
     },
     "output_type": "display_data"
    }
   ],
   "source": [
    "sns.histplot(dfConsumi.ImportoCostoTOTALE)\n",
    "plt.savefig('ConsumiCostoTotale.jpeg')\n"
   ]
  },
  {
   "cell_type": "code",
   "execution_count": 129,
   "metadata": {},
   "outputs": [
    {
     "data": {
      "image/png": "[encoded data removed]",
      "text/plain": [
       "<Figure size 432x288 with 1 Axes>"
      ]
     },
     "metadata": {
      "needs_background": "light"
     },
     "output_type": "display_data"
    }
   ],
   "source": [
    "sns.histplot(dfConsumi.ImportoCostoTOTALE)\n",
    "plt.savefig('ConsumiCostoTotale.jpeg')\n"
   ]
  },
  {
   "cell_type": "code",
   "execution_count": 130,
   "metadata": {},
   "outputs": [
    {
     "data": {
      "image/png": "[encoded data removed]",
      "text/plain": [
       "<Figure size 432x288 with 1 Axes>"
      ]
     },
     "metadata": {
      "needs_background": "light"
     },
     "output_type": "display_data"
    }
   ],
   "source": [
    "#Istogramma del costo orario\n",
    "sns.histplot(dfConsuntivo.CostoOrario)\n",
    "plt.savefig('CostoOrario.jpeg')\n"
   ]
  },
  {
   "cell_type": "code",
   "execution_count": 131,
   "metadata": {},
   "outputs": [
    {
     "data": {
      "image/png": "[encoded data removed]",
      "text/plain": [
       "<Figure size 432x288 with 1 Axes>"
      ]
     },
     "metadata": {
      "needs_background": "light"
     },
     "output_type": "display_data"
    }
   ],
   "source": [
    "#Istogramma dell'area di produzione\n",
    "sns.histplot(dfCostoOrario.NrAreaProduzione)\n",
    "plt.savefig('CostoOrarioAreaProduzione.jpeg')\n"
   ]
  },
  {
   "cell_type": "code",
   "execution_count": 132,
   "metadata": {},
   "outputs": [
    {
     "data": {
      "image/png": "[encoded data removed]",
      "text/plain": [
       "<Figure size 432x288 with 1 Axes>"
      ]
     },
     "metadata": {
      "needs_background": "light"
     },
     "output_type": "display_data"
    }
   ],
   "source": [
    "sns.histplot(dfConsuntivo.CostoOrario)\n",
    "plt.savefig('ConsuntivoCostoOrario.jpeg')\n"
   ]
  },
  {
   "cell_type": "code",
   "execution_count": 133,
   "metadata": {},
   "outputs": [
    {
     "data": {
      "image/png": "[encoded data removed]",
      "text/plain": [
       "<Figure size 432x288 with 1 Axes>"
      ]
     },
     "metadata": {
      "needs_background": "light"
     },
     "output_type": "display_data"
    }
   ],
   "source": [
    "sns.histplot(dfImpiegoRisorse.QuantitydiOutput)\n",
    "plt.savefig('ImpiegoRisorseOutput.jpeg')\n"
   ]
  },
  {
   "cell_type": "code",
   "execution_count": 134,
   "metadata": {},
   "outputs": [
    {
     "data": {
      "image/png": "[encoded data removed]",
      "text/plain": [
       "<Figure size 432x288 with 1 Axes>"
      ]
     },
     "metadata": {
      "needs_background": "light"
     },
     "output_type": "display_data"
    }
   ],
   "source": [
    "sns.histplot(dfImpiegoRisorse.Descrizione)\n",
    "plt.savefig('ImpiegoRisorseDescrizione.jpeg')\n"
   ]
  },
  {
   "cell_type": "code",
   "execution_count": 135,
   "metadata": {},
   "outputs": [
    {
     "data": {
      "text/plain": [
       "<AxesSubplot:xlabel='TempoRisorsa', ylabel='Count'>"
      ]
     },
     "execution_count": 135,
     "metadata": {},
     "output_type": "execute_result"
    },
    {
     "data": {
      "image/png": "[encoded data removed]",
      "text/plain": [
       "<Figure size 432x288 with 1 Axes>"
      ]
     },
     "metadata": {
      "needs_background": "light"
     },
     "output_type": "display_data"
    }
   ],
   "source": [
    "sns.histplot(dfImpiegoRisorse.TempoRisorsa)\n"
   ]
  },
  {
   "cell_type": "code",
   "execution_count": 136,
   "metadata": {},
   "outputs": [
    {
     "data": {
      "text/plain": [
       "<AxesSubplot:xlabel='TassoCambioMedio', ylabel='Count'>"
      ]
     },
     "execution_count": 136,
     "metadata": {},
     "output_type": "execute_result"
    },
    {
     "data": {
      "image/png": "[encoded data removed]",
      "text/plain": [
       "<Figure size 432x288 with 1 Axes>"
      ]
     },
     "metadata": {
      "needs_background": "light"
     },
     "output_type": "display_data"
    }
   ],
   "source": [
    "sns.histplot(dfCambio.TassoCambioMedio)\n"
   ]
  },
  {
   "cell_type": "code",
   "execution_count": 138,
   "metadata": {},
   "outputs": [
    {
     "data": {
      "text/plain": [
       "<AxesSubplot:xlabel='ImportoVenditaValutaLocaleTOTALEVENDITA', ylabel='Count'>"
      ]
     },
     "execution_count": 138,
     "metadata": {},
     "output_type": "execute_result"
    },
    {
     "data": {
      "image/png": "[encoded data removed]",
      "text/plain": [
       "<Figure size 432x288 with 1 Axes>"
      ]
     },
     "metadata": {
      "needs_background": "light"
     },
     "output_type": "display_data"
    }
   ],
   "source": [
    "sns.histplot(dfVendite.ImportoVenditaValutaLocaleTOTALEVENDITA)\n"
   ]
  }
 ],
 "metadata": {
  "interpreter": {
   "hash": "bf659e58e8660723c4dcccb6ac5406dbe5b90745692f0b41c70aa401a61f45d3"
  },
  "kernelspec": {
   "display_name": "Python 3.8.8 64-bit ('base': conda)",
   "language": "python",
   "name": "python3"
  },
  "language_info": {
   "codemirror_mode": {
    "name": "ipython",
    "version": 3
   },
   "file_extension": ".py",
   "mimetype": "text/x-python",
   "name": "python",
   "nbconvert_exporter": "python",
   "pygments_lexer": "ipython3",
   "version": "3.9.7"
  },
  "orig_nbformat": 4
 },
 "nbformat": 4,
 "nbformat_minor": 2
}
