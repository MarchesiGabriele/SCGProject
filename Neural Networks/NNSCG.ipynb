{
 "cells": [
  {
   "cell_type": "markdown",
   "metadata": {},
   "source": [
    "##### setup"
   ]
  },
  {
   "cell_type": "code",
   "execution_count": 5,
   "metadata": {},
   "outputs": [
    {
     "name": "stdout",
     "output_type": "stream",
     "text": [
      "Username:  marcovinciguerra\n"
     ]
    }
   ],
   "source": [
    "import numpy as np\n",
    "import pandas as pd\n",
    "import altair as alt\n",
    "import os.path\n",
    "import getpass\n",
    "import platform\n",
    "from pandasql import sqldf\n",
    "from math import sqrt\n",
    "from numpy import concatenate\n",
    "from matplotlib import pyplot\n",
    "from pandas import read_csv\n",
    "from pandas import DataFrame\n",
    "from pandas import concat\n",
    "import matplotlib.pyplot as plt\n",
    "import numpy as np\n",
    "import pandas as pd\n",
    "from sklearn.model_selection import train_test_split\n",
    "from sklearn.model_selection import cross_val_score\n",
    "from sklearn.model_selection import KFold\n",
    "from sklearn.pipeline import Pipeline\n",
    "from sklearn.preprocessing import MinMaxScaler\n",
    "from tensorflow.python.keras.models import Sequential\n",
    "from tensorflow.python.keras.layers import Dense\n",
    "from tensorflow.python.keras.wrappers.scikit_learn import KerasRegressor\n",
    "\n",
    "\n",
    "\n",
    "username = getpass.getuser()\n",
    "\n",
    "print(\"Username: \", username)\n",
    "pathPart1 = \"/Users/\"\n",
    "pathPart2 = \"/Github/SCGProject/Datasets/\"\n",
    "complePath = pathPart1+username+pathPart2\n",
    "\n",
    "if platform.system() == \"Darwin\":\n",
    "    if(username == \"marcovinciguerra\"):\n",
    "        dfCambio = pd.read_csv(\n",
    "            complePath+\"/CorrectedDatasets/dfCambio.csv\")\n",
    "\n",
    "        dfClienti = pd.read_csv(\n",
    "            complePath+\"/CorrectedDatasets/dfClienti.csv\")\n",
    "\n",
    "        dfConsumi = pd.read_csv(\n",
    "            complePath + \"/CorrectedDatasets/dfConsumi.csv\")\n",
    "\n",
    "        dfCostoOrarioConsuntivo = pd.read_csv(\n",
    "            complePath+\"/CorrectedDatasets/dfConsuntivo.csv\")\n",
    "\n",
    "        dfCostoOrarioBudget = pd.read_csv(\n",
    "            complePath+\"CorrectedDatasets/dfCostoOrario.csv\")\n",
    "\n",
    "        dfImpiegoRisorse = pd.read_csv(\n",
    "            complePath+\"/CorrectedDatasets/dfImpiegoRisorse.csv\")\n",
    "\n",
    "        dftuttiClienti = pd.read_csv(\n",
    "            complePath+\"/CorrectedDatasets/dftuttiClienti.csv\")\n",
    "\n",
    "        dfVendite = pd.read_csv(\n",
    "            complePath+\"/CorrectedDatasets/dfVendite.csv\")\n",
    "\n",
    "    elif(username == \"davidguzman\"):\n",
    "        pathPart1 = \"/Users/\"\n",
    "        pathPart2 = \"/documents/Github/SCGProject/Datasets/\"\n",
    "        complePath = pathPart1+username+pathPart2\n",
    "\n",
    "        dfCambio = pd.read_csv(\n",
    "            complePath+\"/CorrectedDatasets/dfCambio.csv\")\n",
    "\n",
    "        dfClienti = pd.read_csv(\n",
    "            complePath+\"/CorrectedDatasets/dfClienti.csv\")\n",
    "\n",
    "        dfConsumi = pd.read_csv(\n",
    "            complePath + \"/CorrectedDatasets/dfConsumi.csv\")\n",
    "\n",
    "        dfCostoOrarioConsuntivo = pd.read_csv(\n",
    "            complePath+\"/CorrectedDatasets/dfConsuntivo.csv\")\n",
    "\n",
    "        dfCostoOrarioBudget = pd.read_csv(\n",
    "            complePath+\"CorrectedDatasets/dfCostoOrario.csv\")\n",
    "\n",
    "        dfImpiegoRisorse = pd.read_csv(\n",
    "            complePath+\"/CorrectedDatasets/dfImpiegoRisorse.csv\")\n",
    "\n",
    "        dftuttiClienti = pd.read_csv(\n",
    "            complePath+\"/CorrectedDatasets/dftuttiClienti.csv\")\n",
    "\n",
    "        dfVendite = pd.read_csv(\n",
    "            complePath+\"/CorrectedDatasets/dfVendite.csv\")\n",
    "\n",
    "elif platform.system() == \"Linux\":\n",
    "    complePath = \"/home/alinux/unibg/git_repo/SCGProject\"\n",
    "    pathPart1 = \"/Users/\"\n",
    "    pathPart2 = \"/documents/Github/SCGProject/Datasets/\"\n",
    "    complePath = pathPart1+username+pathPart2\n",
    "\n",
    "    dfCambio = pd.read_csv(\n",
    "        complePath+\"/CorrectedDatasets/dfCambio.csv\")\n",
    "\n",
    "    dfClienti = pd.read_csv(\n",
    "        complePath+\"/CorrectedDatasets/dfClienti.csv\")\n",
    "\n",
    "    dfConsumi = pd.read_csv(\n",
    "        complePath + \"/CorrectedDatasets/dfConsumi.csv\")\n",
    "\n",
    "    dfCostoOrarioConsuntivo = pd.read_csv(\n",
    "        complePath+\"/CorrectedDatasets/dfConsuntivo.csv\")\n",
    "\n",
    "    dfCostoOrarioBudget = pd.read_csv(\n",
    "        complePath+\"CorrectedDatasets/dfCostoOrario.csv\")\n",
    "\n",
    "    dfImpiegoRisorse = pd.read_csv(\n",
    "        complePath+\"/CorrectedDatasets/dfImpiegoRisorse.csv\")\n",
    "\n",
    "    dftuttiClienti = pd.read_csv(\n",
    "        complePath+\"/CorrectedDatasets/dftuttiClienti.csv\")\n",
    "\n",
    "    dfVendite = pd.read_csv(\n",
    "        complePath+\"/CorrectedDatasets/dfVendite.csv\")\n",
    "\n",
    "\n",
    "dfCambio[\"TassoCambioMedio\"] = dfCambio[\"TassoCambioMedio\"].str.replace(\n",
    "    ',', '.')\n"
   ]
  },
  {
   "cell_type": "markdown",
   "metadata": {},
   "source": [
    "# Reading the table + test and training test"
   ]
  },
  {
   "cell_type": "code",
   "execution_count": 6,
   "metadata": {},
   "outputs": [
    {
     "data": {
      "text/html": [
       "<div>\n",
       "<style scoped>\n",
       "    .dataframe tbody tr th:only-of-type {\n",
       "        vertical-align: middle;\n",
       "    }\n",
       "\n",
       "    .dataframe tbody tr th {\n",
       "        vertical-align: top;\n",
       "    }\n",
       "\n",
       "    .dataframe thead th {\n",
       "        text-align: right;\n",
       "    }\n",
       "</style>\n",
       "<table border=\"1\" class=\"dataframe\">\n",
       "  <thead>\n",
       "    <tr style=\"text-align: right;\">\n",
       "      <th></th>\n",
       "      <th>status</th>\n",
       "      <th>NrOrigine</th>\n",
       "      <th>Quantity</th>\n",
       "      <th>ImportoVenditaValutaLocaleTOTALEVENDITA</th>\n",
       "    </tr>\n",
       "  </thead>\n",
       "  <tbody>\n",
       "    <tr>\n",
       "      <th>0</th>\n",
       "      <td>CONSUNTIVO</td>\n",
       "      <td>C00140</td>\n",
       "      <td>1</td>\n",
       "      <td>545.20</td>\n",
       "    </tr>\n",
       "    <tr>\n",
       "      <th>1</th>\n",
       "      <td>CONSUNTIVO</td>\n",
       "      <td>C00140</td>\n",
       "      <td>1</td>\n",
       "      <td>4650.13</td>\n",
       "    </tr>\n",
       "    <tr>\n",
       "      <th>2</th>\n",
       "      <td>Consuntivo</td>\n",
       "      <td>C00483</td>\n",
       "      <td>1</td>\n",
       "      <td>1550.00</td>\n",
       "    </tr>\n",
       "    <tr>\n",
       "      <th>3</th>\n",
       "      <td>Consuntivo</td>\n",
       "      <td>C00140</td>\n",
       "      <td>2</td>\n",
       "      <td>912.00</td>\n",
       "    </tr>\n",
       "    <tr>\n",
       "      <th>4</th>\n",
       "      <td>Consuntivo</td>\n",
       "      <td>C00140</td>\n",
       "      <td>1</td>\n",
       "      <td>295.00</td>\n",
       "    </tr>\n",
       "    <tr>\n",
       "      <th>...</th>\n",
       "      <td>...</td>\n",
       "      <td>...</td>\n",
       "      <td>...</td>\n",
       "      <td>...</td>\n",
       "    </tr>\n",
       "    <tr>\n",
       "      <th>1762</th>\n",
       "      <td>Consuntivo</td>\n",
       "      <td>C00140</td>\n",
       "      <td>2</td>\n",
       "      <td>0.00</td>\n",
       "    </tr>\n",
       "    <tr>\n",
       "      <th>1763</th>\n",
       "      <td>Consuntivo</td>\n",
       "      <td>C00140</td>\n",
       "      <td>20</td>\n",
       "      <td>0.00</td>\n",
       "    </tr>\n",
       "    <tr>\n",
       "      <th>1764</th>\n",
       "      <td>Consuntivo</td>\n",
       "      <td>C00140</td>\n",
       "      <td>2</td>\n",
       "      <td>820.00</td>\n",
       "    </tr>\n",
       "    <tr>\n",
       "      <th>1765</th>\n",
       "      <td>Consuntivo</td>\n",
       "      <td>C00140</td>\n",
       "      <td>2</td>\n",
       "      <td>584.00</td>\n",
       "    </tr>\n",
       "    <tr>\n",
       "      <th>1766</th>\n",
       "      <td>Consuntivo</td>\n",
       "      <td>C00140</td>\n",
       "      <td>2</td>\n",
       "      <td>580.10</td>\n",
       "    </tr>\n",
       "  </tbody>\n",
       "</table>\n",
       "<p>1767 rows × 4 columns</p>\n",
       "</div>"
      ],
      "text/plain": [
       "          status NrOrigine  Quantity  ImportoVenditaValutaLocaleTOTALEVENDITA\n",
       "0     CONSUNTIVO    C00140         1                                   545.20\n",
       "1     CONSUNTIVO    C00140         1                                  4650.13\n",
       "2     Consuntivo    C00483         1                                  1550.00\n",
       "3     Consuntivo    C00140         2                                   912.00\n",
       "4     Consuntivo    C00140         1                                   295.00\n",
       "...          ...       ...       ...                                      ...\n",
       "1762  Consuntivo    C00140         2                                     0.00\n",
       "1763  Consuntivo    C00140        20                                     0.00\n",
       "1764  Consuntivo    C00140         2                                   820.00\n",
       "1765  Consuntivo    C00140         2                                   584.00\n",
       "1766  Consuntivo    C00140         2                                   580.10\n",
       "\n",
       "[1767 rows x 4 columns]"
      ]
     },
     "execution_count": 6,
     "metadata": {},
     "output_type": "execute_result"
    }
   ],
   "source": [
    "dfVendite.rename(columns={'budget/cons': 'status'}, inplace=True)\n",
    "dfVendite = sqldf('''SELECT *\n",
    "                     FROM dfVendite\n",
    "                     WHERE status = 'CONSUNTIVO'\n",
    "                     or status = \"Consuntivo\"\n",
    "                ''')\n",
    "del dfVendite[\"Unnamed: 0\"]\n",
    "del dfVendite[\"NrArticolo\"]\n",
    "del dfVendite[\"NrMovimento\"]\n",
    "dfVendite"
   ]
  },
  {
   "cell_type": "code",
   "execution_count": 14,
   "metadata": {},
   "outputs": [
    {
     "data": {
      "text/plain": [
       "array(['C00140', 'C00140', 'C00483', ..., 'C00140', 'C00140', 'C00140'],\n",
       "      dtype=object)"
      ]
     },
     "execution_count": 14,
     "metadata": {},
     "output_type": "execute_result"
    }
   ],
   "source": [
    "a = dfVendite.to_numpy()\n",
    "a\n",
    "[:,1]"
   ]
  },
  {
   "cell_type": "markdown",
   "metadata": {},
   "source": [
    "## Train  and test dataset"
   ]
  },
  {
   "cell_type": "code",
   "execution_count": 18,
   "metadata": {},
   "outputs": [
    {
     "ename": "NotFittedError",
     "evalue": "This MinMaxScaler instance is not fitted yet. Call 'fit' with appropriate arguments before using this estimator.",
     "output_type": "error",
     "traceback": [
      "\u001b[0;31m---------------------------------------------------------------------------\u001b[0m",
      "\u001b[0;31mNotFittedError\u001b[0m                            Traceback (most recent call last)",
      "\u001b[0;32m/var/folders/m5/1xdj8pfj2cs3wjpc41g9qkj80000gn/T/ipykernel_3333/1215587721.py\u001b[0m in \u001b[0;36m<module>\u001b[0;34m\u001b[0m\n\u001b[1;32m      5\u001b[0m \u001b[0mscaler_x\u001b[0m \u001b[0;34m=\u001b[0m \u001b[0mMinMaxScaler\u001b[0m\u001b[0;34m(\u001b[0m\u001b[0;34m)\u001b[0m\u001b[0;34m\u001b[0m\u001b[0;34m\u001b[0m\u001b[0m\n\u001b[1;32m      6\u001b[0m \u001b[0mscaler_y\u001b[0m \u001b[0;34m=\u001b[0m \u001b[0mMinMaxScaler\u001b[0m\u001b[0;34m(\u001b[0m\u001b[0;34m)\u001b[0m\u001b[0;34m\u001b[0m\u001b[0;34m\u001b[0m\u001b[0m\n\u001b[0;32m----> 7\u001b[0;31m \u001b[0mxscale\u001b[0m\u001b[0;34m=\u001b[0m\u001b[0mscaler_x\u001b[0m\u001b[0;34m.\u001b[0m\u001b[0mtransform\u001b[0m\u001b[0;34m(\u001b[0m\u001b[0mx\u001b[0m\u001b[0;34m)\u001b[0m\u001b[0;34m\u001b[0m\u001b[0;34m\u001b[0m\u001b[0m\n\u001b[0m\u001b[1;32m      8\u001b[0m \u001b[0myscale\u001b[0m\u001b[0;34m=\u001b[0m\u001b[0mscaler_y\u001b[0m\u001b[0;34m.\u001b[0m\u001b[0mtransform\u001b[0m\u001b[0;34m(\u001b[0m\u001b[0my\u001b[0m\u001b[0;34m)\u001b[0m\u001b[0;34m\u001b[0m\u001b[0;34m\u001b[0m\u001b[0m\n",
      "\u001b[0;32m~/miniforge3/lib/python3.9/site-packages/sklearn/preprocessing/_data.py\u001b[0m in \u001b[0;36mtransform\u001b[0;34m(self, X)\u001b[0m\n\u001b[1;32m    492\u001b[0m             \u001b[0mTransformed\u001b[0m \u001b[0mdata\u001b[0m\u001b[0;34m.\u001b[0m\u001b[0;34m\u001b[0m\u001b[0;34m\u001b[0m\u001b[0m\n\u001b[1;32m    493\u001b[0m         \"\"\"\n\u001b[0;32m--> 494\u001b[0;31m         \u001b[0mcheck_is_fitted\u001b[0m\u001b[0;34m(\u001b[0m\u001b[0mself\u001b[0m\u001b[0;34m)\u001b[0m\u001b[0;34m\u001b[0m\u001b[0;34m\u001b[0m\u001b[0m\n\u001b[0m\u001b[1;32m    495\u001b[0m \u001b[0;34m\u001b[0m\u001b[0m\n\u001b[1;32m    496\u001b[0m         X = self._validate_data(\n",
      "\u001b[0;32m~/miniforge3/lib/python3.9/site-packages/sklearn/utils/validation.py\u001b[0m in \u001b[0;36mcheck_is_fitted\u001b[0;34m(estimator, attributes, msg, all_or_any)\u001b[0m\n\u001b[1;32m   1207\u001b[0m \u001b[0;34m\u001b[0m\u001b[0m\n\u001b[1;32m   1208\u001b[0m     \u001b[0;32mif\u001b[0m \u001b[0;32mnot\u001b[0m \u001b[0mfitted\u001b[0m\u001b[0;34m:\u001b[0m\u001b[0;34m\u001b[0m\u001b[0;34m\u001b[0m\u001b[0m\n\u001b[0;32m-> 1209\u001b[0;31m         \u001b[0;32mraise\u001b[0m \u001b[0mNotFittedError\u001b[0m\u001b[0;34m(\u001b[0m\u001b[0mmsg\u001b[0m \u001b[0;34m%\u001b[0m \u001b[0;34m{\u001b[0m\u001b[0;34m\"name\"\u001b[0m\u001b[0;34m:\u001b[0m \u001b[0mtype\u001b[0m\u001b[0;34m(\u001b[0m\u001b[0mestimator\u001b[0m\u001b[0;34m)\u001b[0m\u001b[0;34m.\u001b[0m\u001b[0m__name__\u001b[0m\u001b[0;34m}\u001b[0m\u001b[0;34m)\u001b[0m\u001b[0;34m\u001b[0m\u001b[0;34m\u001b[0m\u001b[0m\n\u001b[0m\u001b[1;32m   1210\u001b[0m \u001b[0;34m\u001b[0m\u001b[0m\n\u001b[1;32m   1211\u001b[0m \u001b[0;34m\u001b[0m\u001b[0m\n",
      "\u001b[0;31mNotFittedError\u001b[0m: This MinMaxScaler instance is not fitted yet. Call 'fit' with appropriate arguments before using this estimator."
     ]
    }
   ],
   "source": [
    "a = dfVendite.to_numpy()\n",
    "x=  a[:,0:3]\n",
    "y = a[:, 3]\n",
    "y = np.reshape(y, (-1,1))\n",
    "scaler_x = MinMaxScaler()\n",
    "scaler_y = MinMaxScaler()\n",
    "xscale=scaler_x.transform(x)\n",
    "yscale=scaler_y.transform(y)"
   ]
  },
  {
   "cell_type": "markdown",
   "metadata": {},
   "source": [
    "## Train and test sets"
   ]
  },
  {
   "cell_type": "code",
   "execution_count": 19,
   "metadata": {},
   "outputs": [
    {
     "ename": "NameError",
     "evalue": "name 'xscale' is not defined",
     "output_type": "error",
     "traceback": [
      "\u001b[0;31m---------------------------------------------------------------------------\u001b[0m",
      "\u001b[0;31mNameError\u001b[0m                                 Traceback (most recent call last)",
      "\u001b[0;32m/var/folders/m5/1xdj8pfj2cs3wjpc41g9qkj80000gn/T/ipykernel_3333/854492219.py\u001b[0m in \u001b[0;36m<module>\u001b[0;34m\u001b[0m\n\u001b[0;32m----> 1\u001b[0;31m \u001b[0mX_train\u001b[0m\u001b[0;34m,\u001b[0m \u001b[0mX_test\u001b[0m\u001b[0;34m,\u001b[0m \u001b[0my_train\u001b[0m\u001b[0;34m,\u001b[0m \u001b[0my_test\u001b[0m \u001b[0;34m=\u001b[0m \u001b[0mtrain_test_split\u001b[0m\u001b[0;34m(\u001b[0m\u001b[0mxscale\u001b[0m\u001b[0;34m,\u001b[0m \u001b[0myscale\u001b[0m\u001b[0;34m)\u001b[0m\u001b[0;34m\u001b[0m\u001b[0;34m\u001b[0m\u001b[0m\n\u001b[0m",
      "\u001b[0;31mNameError\u001b[0m: name 'xscale' is not defined"
     ]
    }
   ],
   "source": [
    "X_train, X_test, y_train, y_test = train_test_split(xscale, yscale)\n"
   ]
  },
  {
   "cell_type": "markdown",
   "metadata": {},
   "source": [
    "# Neural network design"
   ]
  },
  {
   "cell_type": "code",
   "execution_count": null,
   "metadata": {},
   "outputs": [
    {
     "name": "stdout",
     "output_type": "stream",
     "text": [
      "Metal device set to: Apple M1 Pro\n",
      "\n",
      "systemMemory: 16.00 GB\n",
      "maxCacheSize: 5.33 GB\n",
      "\n",
      "Model: \"sequential\"\n",
      "_________________________________________________________________\n",
      "Layer (type)                 Output Shape              Param #   \n",
      "=================================================================\n",
      "dense (Dense)                (None, 12)                72        \n",
      "_________________________________________________________________\n",
      "dense_1 (Dense)              (None, 8)                 104       \n",
      "_________________________________________________________________\n",
      "dense_2 (Dense)              (None, 1)                 9         \n",
      "=================================================================\n",
      "Total params: 185\n",
      "Trainable params: 185\n",
      "Non-trainable params: 0\n",
      "_________________________________________________________________\n"
     ]
    },
    {
     "name": "stderr",
     "output_type": "stream",
     "text": [
      "2022-01-02 16:48:10.527989: I tensorflow/core/common_runtime/pluggable_device/pluggable_device_factory.cc:305] Could not identify NUMA node of platform GPU ID 0, defaulting to 0. Your kernel may not have been built with NUMA support.\n",
      "2022-01-02 16:48:10.528279: I tensorflow/core/common_runtime/pluggable_device/pluggable_device_factory.cc:271] Created TensorFlow device (/job:localhost/replica:0/task:0/device:GPU:0 with 0 MB memory) -> physical PluggableDevice (device: 0, name: METAL, pci bus id: <undefined>)\n"
     ]
    }
   ],
   "source": [
    "model = Sequential()\n",
    "model.add(Dense(12, input_dim=5, kernel_initializer='normal', activation='relu'))\n",
    "model.add(Dense(8, activation='relu'))\n",
    "model.add(Dense(1, activation='linear'))\n",
    "model.summary()\n"
   ]
  }
 ],
 "metadata": {
  "interpreter": {
   "hash": "4d107ec7e4cc286d04dd197e44863c8f859f25f04295a73ad253f41fad7b0dc0"
  },
  "kernelspec": {
   "display_name": "Python 3.9.7 64-bit ('base': conda)",
   "language": "python",
   "name": "python3"
  },
  "language_info": {
   "codemirror_mode": {
    "name": "ipython",
    "version": 3
   },
   "file_extension": ".py",
   "mimetype": "text/x-python",
   "name": "python",
   "nbconvert_exporter": "python",
   "pygments_lexer": "ipython3",
   "version": "3.9.7"
  },
  "orig_nbformat": 4
 },
 "nbformat": 4,
 "nbformat_minor": 2
}
