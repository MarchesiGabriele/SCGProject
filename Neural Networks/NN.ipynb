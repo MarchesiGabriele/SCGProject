{
 "cells": [
  {
   "cell_type": "markdown",
   "metadata": {},
   "source": [
    "# Libraries"
   ]
  },
  {
   "cell_type": "code",
   "execution_count": 21,
   "metadata": {},
   "outputs": [],
   "source": [
    "import getpass\n",
    "import platform\n",
    "import os\n",
    "import pandas as pd\n",
    "from math import sqrt\n",
    "from numpy import concatenate\n",
    "from matplotlib import pyplot\n",
    "from pandas import read_csv\n",
    "from pandas import DataFrame\n",
    "from pandas import concat\n",
    "from sklearn.preprocessing import MinMaxScaler\n",
    "from sklearn.preprocessing import LabelEncoder\n",
    "from sklearn.metrics import mean_squared_error\n",
    "from tensorflow.keras.models import Sequential\n",
    "from tensorflow.keras.layers import Dense\n",
    "from tensorflow.keras.layers import LSTM\n",
    "from tensorflow.keras.callbacks import EarlyStopping\n"
   ]
  },
  {
   "cell_type": "markdown",
   "metadata": {},
   "source": [
    "# Directories for reading datasets "
   ]
  },
  {
   "cell_type": "code",
   "execution_count": 12,
   "metadata": {},
   "outputs": [
    {
     "name": "stdout",
     "output_type": "stream",
     "text": [
      "The OS is MACOS\n",
      "Complete path:  /Users/marcovinciguerra/Github/SCGProject/Datasets/CorrectedDatasets\n"
     ]
    }
   ],
   "source": [
    "username = getpass.getuser()\n",
    "pathPart1 = \"/Users/\"\n",
    "pathPart2 = \"/Github/SCGProject/Datasets/CorrectedDatasets\"\n",
    "complePath = pathPart1+username+pathPart2\n",
    "dload = os.chdir(complePath)\n",
    "\n",
    "\n",
    "if platform.system() == \"Darwin\":\n",
    "    print(\"The OS is MACOS\")\n",
    "    print(\"Complete path: \", complePath)\n",
    "    \n",
    "elif platform.system() == \"Linux\":\n",
    "    print(\"The OS is Linux\")\n",
    "    print(\"Complete path: \", complePath)\n",
    "\n",
    "else:\n",
    "    print(\"The OS is Windows\")\n",
    "\n",
    "    pathwin = \"C: \\SCGProject\\Datasets\\CorrectedDatasets\"\n",
    "    print(\"Complete path: \", pathwin)\n",
    "    dload = os.chdir(pathwin)\n"
   ]
  },
  {
   "cell_type": "markdown",
   "metadata": {},
   "source": [
    "# Reading all the datasets"
   ]
  },
  {
   "cell_type": "code",
   "execution_count": 24,
   "metadata": {},
   "outputs": [
    {
     "data": {
      "text/html": [
       "<div>\n",
       "<style scoped>\n",
       "    .dataframe tbody tr th:only-of-type {\n",
       "        vertical-align: middle;\n",
       "    }\n",
       "\n",
       "    .dataframe tbody tr th {\n",
       "        vertical-align: top;\n",
       "    }\n",
       "\n",
       "    .dataframe thead th {\n",
       "        text-align: right;\n",
       "    }\n",
       "</style>\n",
       "<table border=\"1\" class=\"dataframe\">\n",
       "  <thead>\n",
       "    <tr style=\"text-align: right;\">\n",
       "      <th></th>\n",
       "      <th>Unnamed: 0</th>\n",
       "      <th>Nr</th>\n",
       "      <th>CodCondizioniPagam</th>\n",
       "      <th>Fatt. cumulative</th>\n",
       "      <th>Valuta</th>\n",
       "    </tr>\n",
       "  </thead>\n",
       "  <tbody>\n",
       "    <tr>\n",
       "      <th>0</th>\n",
       "      <td>0</td>\n",
       "      <td>C00001</td>\n",
       "      <td>101</td>\n",
       "      <td>False</td>\n",
       "      <td>1</td>\n",
       "    </tr>\n",
       "    <tr>\n",
       "      <th>1</th>\n",
       "      <td>1</td>\n",
       "      <td>C00003</td>\n",
       "      <td>102</td>\n",
       "      <td>False</td>\n",
       "      <td>2</td>\n",
       "    </tr>\n",
       "    <tr>\n",
       "      <th>2</th>\n",
       "      <td>2</td>\n",
       "      <td>C00004</td>\n",
       "      <td>102</td>\n",
       "      <td>False</td>\n",
       "      <td>3</td>\n",
       "    </tr>\n",
       "    <tr>\n",
       "      <th>3</th>\n",
       "      <td>3</td>\n",
       "      <td>C00005</td>\n",
       "      <td>112</td>\n",
       "      <td>False</td>\n",
       "      <td>1</td>\n",
       "    </tr>\n",
       "    <tr>\n",
       "      <th>4</th>\n",
       "      <td>4</td>\n",
       "      <td>C00006</td>\n",
       "      <td>101</td>\n",
       "      <td>False</td>\n",
       "      <td>2</td>\n",
       "    </tr>\n",
       "  </tbody>\n",
       "</table>\n",
       "</div>"
      ],
      "text/plain": [
       "   Unnamed: 0      Nr  CodCondizioniPagam  Fatt. cumulative  Valuta\n",
       "0           0  C00001                 101             False       1\n",
       "1           1  C00003                 102             False       2\n",
       "2           2  C00004                 102             False       3\n",
       "3           3  C00005                 112             False       1\n",
       "4           4  C00006                 101             False       2"
      ]
     },
     "execution_count": 24,
     "metadata": {},
     "output_type": "execute_result"
    }
   ],
   "source": [
    "ciao = pd.read_csv('dfClienti.csv')\n",
    "ciao.head()\n"
   ]
  }
 ],
 "metadata": {
  "interpreter": {
   "hash": "4d107ec7e4cc286d04dd197e44863c8f859f25f04295a73ad253f41fad7b0dc0"
  },
  "kernelspec": {
   "display_name": "Python 3.9.7 64-bit ('base': conda)",
   "language": "python",
   "name": "python3"
  },
  "language_info": {
   "codemirror_mode": {
    "name": "ipython",
    "version": 3
   },
   "file_extension": ".py",
   "mimetype": "text/x-python",
   "name": "python",
   "nbconvert_exporter": "python",
   "pygments_lexer": "ipython3",
   "version": "3.9.7"
  },
  "orig_nbformat": 4
 },
 "nbformat": 4,
 "nbformat_minor": 2
}
